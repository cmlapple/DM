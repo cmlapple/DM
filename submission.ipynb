{
 "cells": [
  {
   "cell_type": "code",
   "execution_count": 8,
   "metadata": {},
   "outputs": [],
   "source": [
    "import pandas as pd\n",
    "import numpy as np\n",
    "import lightgbm as lgb"
   ]
  },
  {
   "cell_type": "code",
   "execution_count": 9,
   "metadata": {},
   "outputs": [],
   "source": [
    "pd.set_option('display.max_columns',None)"
   ]
  },
  {
   "cell_type": "code",
   "execution_count": 10,
   "metadata": {},
   "outputs": [],
   "source": [
    "#读取数据\n",
    "age_train = pd.read_csv(\"age_train.csv\", names=['uid','age_group'])\n",
    "age_test = pd.read_csv(\"age_test.csv\", names=['uid'])\n",
    "user_basic_info = pd.read_csv(\"user_basic_info.csv\", names=['uid','gender','city','prodName','ramCapacity','ramLeftRation','romCapacity','romLeftRation','color','fontSize','ct','carrier','os'])\n",
    "user_behavior_info = pd.read_csv(\"user_behavior_info.csv\", names=['uid','bootTimes','AFuncTimes','BFuncTimes','CFuncTimes','DFuncTimes','EFuncTimes','FFuncTimes','FFuncSum'])\n",
    "user_app_actived = pd.read_csv(\"user_app_actived.csv\", names=['uid','appId'])\n",
    "#user_app_usage = pd.read_csv(\"user_app_usage.csv\")\n",
    "app_info = pd.read_csv(\"app_info.csv\", names=['appId', 'category'])"
   ]
  },
  {
   "cell_type": "code",
   "execution_count": 11,
   "metadata": {},
   "outputs": [],
   "source": [
    "#处理数据量较大的user_app_usage.csv，结合app_info.csv简单统计得到appuseProcessed.csv作为特征\n",
    "def f(x):\n",
    "    s = x.value_counts()\n",
    "    return np.nan if len(s) == 0 else s.index[0]\n",
    "def processUserAppUsage():\n",
    "    resTable = pd.DataFrame()\n",
    "    reader = pd.read_csv(\"user_app_usage.csv\", names=['uid','appId','duration','times','use_date'], iterator=True)\n",
    "    last_df = pd.DataFrame()\n",
    "    \n",
    "    app_info = pd.read_csv(\"app_info.csv\", names=['appId','category'])\n",
    "    cats = list(set(app_info['category']))\n",
    "    category2id = dict(zip(sorted(cats), range(0,len(cats))))\n",
    "    id2category = dict(zip(range(0,len(cats)), sorted(cats)))\n",
    "    app_info['category'] = app_info['category'].apply(lambda x: category2id[x])\n",
    "    i = 1\n",
    "    \n",
    "    while True:\n",
    "        try:\n",
    "            print(\"index: {}\".format(i))\n",
    "            i+=1\n",
    "            df = reader.get_chunk(1000000)\n",
    "            df = pd.concat([last_df, df])\n",
    "            idx = df.shape[0]-1\n",
    "            last_user = df.iat[idx,0]\n",
    "            while(df.iat[idx,0]==last_user):\n",
    "                idx-=1\n",
    "            last_df = df[idx+1:]\n",
    "            df = df[:idx+1]\n",
    "\n",
    "            now_df = pd.DataFrame()\n",
    "            now_df['uid'] = df['uid'].unique()\n",
    "            now_df = now_df.merge(df.groupby('uid')['appId'].count().to_frame(), how='left', on='uid')\n",
    "            now_df = now_df.merge(df.groupby('uid')['appId','use_date'].agg(['nunique']), how='left', on='uid')\n",
    "            now_df = now_df.merge(df.groupby('uid')['duration','times'].agg(['mean','max','std']), how='left', on='uid')    \n",
    "\n",
    "            now_df.columns = ['uid','usage_cnt','usage_appid_cnt','usage_date_cnt','duration_mean','duration_max','duration_std','times_mean','times_max','times_std']\n",
    "\n",
    "\n",
    "            df = df.merge(app_info, how='left', on='appId')\n",
    "            now_df = now_df.merge(df.groupby('uid')['category'].nunique().to_frame(), how='left', on='uid')\n",
    "            #print(df.groupby(['uid'])['category'].value_counts().index[0])\n",
    "            now_df['usage_most_used_category'] = df.groupby(['uid'])['category'].transform(f)\n",
    "            resTable = pd.concat([resTable, now_df])\n",
    "        except StopIteration:\n",
    "            break\n",
    "    \n",
    "    resTable.to_csv(\"appuseProcessed.csv\",index=0)\n",
    "    \n",
    "    print(\"Iterator is stopped\")"
   ]
  },
  {
   "cell_type": "code",
   "execution_count": 12,
   "metadata": {},
   "outputs": [
    {
     "name": "stdout",
     "output_type": "stream",
     "text": [
      "index: 1\n"
     ]
    },
    {
     "name": "stderr",
     "output_type": "stream",
     "text": [
      "d:\\ProgramData\\Anaconda3\\lib\\site-packages\\pandas\\core\\reshape\\merge.py:522: UserWarning: merging between different levels can give an unintended result (1 levels on the left, 2 on the right)\n",
      "  warnings.warn(msg, UserWarning)\n"
     ]
    },
    {
     "name": "stdout",
     "output_type": "stream",
     "text": [
      "index: 2\n",
      "index: 3\n",
      "index: 4\n"
     ]
    },
    {
     "name": "stderr",
     "output_type": "stream",
     "text": [
      "d:\\ProgramData\\Anaconda3\\lib\\site-packages\\pandas\\core\\reshape\\merge.py:522: UserWarning: merging between different levels can give an unintended result (1 levels on the left, 2 on the right)\n",
      "  warnings.warn(msg, UserWarning)\n"
     ]
    },
    {
     "name": "stdout",
     "output_type": "stream",
     "text": [
      "index: 5\n",
      "index: 6\n",
      "index: 7\n"
     ]
    },
    {
     "name": "stderr",
     "output_type": "stream",
     "text": [
      "d:\\ProgramData\\Anaconda3\\lib\\site-packages\\pandas\\core\\reshape\\merge.py:522: UserWarning: merging between different levels can give an unintended result (1 levels on the left, 2 on the right)\n",
      "  warnings.warn(msg, UserWarning)\n"
     ]
    },
    {
     "name": "stdout",
     "output_type": "stream",
     "text": [
      "index: 8\n",
      "index: 9\n",
      "index: 10\n"
     ]
    },
    {
     "name": "stderr",
     "output_type": "stream",
     "text": [
      "d:\\ProgramData\\Anaconda3\\lib\\site-packages\\pandas\\core\\reshape\\merge.py:522: UserWarning: merging between different levels can give an unintended result (1 levels on the left, 2 on the right)\n",
      "  warnings.warn(msg, UserWarning)\n"
     ]
    },
    {
     "name": "stdout",
     "output_type": "stream",
     "text": [
      "index: 11\n",
      "index: 12\n",
      "index: 13\n"
     ]
    },
    {
     "name": "stderr",
     "output_type": "stream",
     "text": [
      "d:\\ProgramData\\Anaconda3\\lib\\site-packages\\pandas\\core\\reshape\\merge.py:522: UserWarning: merging between different levels can give an unintended result (1 levels on the left, 2 on the right)\n",
      "  warnings.warn(msg, UserWarning)\n"
     ]
    },
    {
     "name": "stdout",
     "output_type": "stream",
     "text": [
      "index: 14\n",
      "index: 15\n",
      "index: 16\n"
     ]
    },
    {
     "name": "stderr",
     "output_type": "stream",
     "text": [
      "d:\\ProgramData\\Anaconda3\\lib\\site-packages\\pandas\\core\\reshape\\merge.py:522: UserWarning: merging between different levels can give an unintended result (1 levels on the left, 2 on the right)\n",
      "  warnings.warn(msg, UserWarning)\n"
     ]
    },
    {
     "name": "stdout",
     "output_type": "stream",
     "text": [
      "index: 17\n",
      "index: 18\n",
      "index: 19\n"
     ]
    },
    {
     "name": "stderr",
     "output_type": "stream",
     "text": [
      "d:\\ProgramData\\Anaconda3\\lib\\site-packages\\pandas\\core\\reshape\\merge.py:522: UserWarning: merging between different levels can give an unintended result (1 levels on the left, 2 on the right)\n",
      "  warnings.warn(msg, UserWarning)\n"
     ]
    },
    {
     "name": "stdout",
     "output_type": "stream",
     "text": [
      "index: 20\n",
      "index: 21\n",
      "index: 22\n"
     ]
    },
    {
     "name": "stderr",
     "output_type": "stream",
     "text": [
      "d:\\ProgramData\\Anaconda3\\lib\\site-packages\\pandas\\core\\reshape\\merge.py:522: UserWarning: merging between different levels can give an unintended result (1 levels on the left, 2 on the right)\n",
      "  warnings.warn(msg, UserWarning)\n"
     ]
    },
    {
     "name": "stdout",
     "output_type": "stream",
     "text": [
      "index: 23\n",
      "index: 24\n",
      "index: 25\n"
     ]
    },
    {
     "name": "stderr",
     "output_type": "stream",
     "text": [
      "d:\\ProgramData\\Anaconda3\\lib\\site-packages\\pandas\\core\\reshape\\merge.py:522: UserWarning: merging between different levels can give an unintended result (1 levels on the left, 2 on the right)\n",
      "  warnings.warn(msg, UserWarning)\n"
     ]
    },
    {
     "name": "stdout",
     "output_type": "stream",
     "text": [
      "index: 26\n",
      "index: 27\n",
      "index: 28\n"
     ]
    },
    {
     "name": "stderr",
     "output_type": "stream",
     "text": [
      "d:\\ProgramData\\Anaconda3\\lib\\site-packages\\pandas\\core\\reshape\\merge.py:522: UserWarning: merging between different levels can give an unintended result (1 levels on the left, 2 on the right)\n",
      "  warnings.warn(msg, UserWarning)\n"
     ]
    },
    {
     "name": "stdout",
     "output_type": "stream",
     "text": [
      "index: 29\n",
      "index: 30\n",
      "index: 31\n"
     ]
    },
    {
     "name": "stderr",
     "output_type": "stream",
     "text": [
      "d:\\ProgramData\\Anaconda3\\lib\\site-packages\\pandas\\core\\reshape\\merge.py:522: UserWarning: merging between different levels can give an unintended result (1 levels on the left, 2 on the right)\n",
      "  warnings.warn(msg, UserWarning)\n"
     ]
    },
    {
     "name": "stdout",
     "output_type": "stream",
     "text": [
      "index: 32\n",
      "index: 33\n",
      "index: 34\n"
     ]
    },
    {
     "name": "stderr",
     "output_type": "stream",
     "text": [
      "d:\\ProgramData\\Anaconda3\\lib\\site-packages\\pandas\\core\\reshape\\merge.py:522: UserWarning: merging between different levels can give an unintended result (1 levels on the left, 2 on the right)\n",
      "  warnings.warn(msg, UserWarning)\n"
     ]
    },
    {
     "name": "stdout",
     "output_type": "stream",
     "text": [
      "index: 35\n",
      "index: 36\n",
      "index: 37\n"
     ]
    },
    {
     "name": "stderr",
     "output_type": "stream",
     "text": [
      "d:\\ProgramData\\Anaconda3\\lib\\site-packages\\pandas\\core\\reshape\\merge.py:522: UserWarning: merging between different levels can give an unintended result (1 levels on the left, 2 on the right)\n",
      "  warnings.warn(msg, UserWarning)\n"
     ]
    },
    {
     "name": "stdout",
     "output_type": "stream",
     "text": [
      "index: 38\n",
      "index: 39\n"
     ]
    },
    {
     "name": "stderr",
     "output_type": "stream",
     "text": [
      "d:\\ProgramData\\Anaconda3\\lib\\site-packages\\pandas\\core\\reshape\\merge.py:522: UserWarning: merging between different levels can give an unintended result (1 levels on the left, 2 on the right)\n",
      "  warnings.warn(msg, UserWarning)\n"
     ]
    },
    {
     "name": "stdout",
     "output_type": "stream",
     "text": [
      "index: 40\n",
      "index: 41\n",
      "index: 42\n"
     ]
    },
    {
     "name": "stderr",
     "output_type": "stream",
     "text": [
      "d:\\ProgramData\\Anaconda3\\lib\\site-packages\\pandas\\core\\reshape\\merge.py:522: UserWarning: merging between different levels can give an unintended result (1 levels on the left, 2 on the right)\n",
      "  warnings.warn(msg, UserWarning)\n"
     ]
    },
    {
     "name": "stdout",
     "output_type": "stream",
     "text": [
      "index: 43\n",
      "index: 44\n",
      "index: 45\n"
     ]
    },
    {
     "name": "stderr",
     "output_type": "stream",
     "text": [
      "d:\\ProgramData\\Anaconda3\\lib\\site-packages\\pandas\\core\\reshape\\merge.py:522: UserWarning: merging between different levels can give an unintended result (1 levels on the left, 2 on the right)\n",
      "  warnings.warn(msg, UserWarning)\n"
     ]
    },
    {
     "name": "stdout",
     "output_type": "stream",
     "text": [
      "index: 46\n",
      "index: 47\n",
      "index: 48\n"
     ]
    },
    {
     "name": "stderr",
     "output_type": "stream",
     "text": [
      "d:\\ProgramData\\Anaconda3\\lib\\site-packages\\pandas\\core\\reshape\\merge.py:522: UserWarning: merging between different levels can give an unintended result (1 levels on the left, 2 on the right)\n",
      "  warnings.warn(msg, UserWarning)\n"
     ]
    },
    {
     "name": "stdout",
     "output_type": "stream",
     "text": [
      "index: 49\n",
      "index: 50\n",
      "index: 51\n"
     ]
    },
    {
     "name": "stderr",
     "output_type": "stream",
     "text": [
      "d:\\ProgramData\\Anaconda3\\lib\\site-packages\\pandas\\core\\reshape\\merge.py:522: UserWarning: merging between different levels can give an unintended result (1 levels on the left, 2 on the right)\n",
      "  warnings.warn(msg, UserWarning)\n"
     ]
    },
    {
     "name": "stdout",
     "output_type": "stream",
     "text": [
      "index: 52\n",
      "index: 53\n",
      "index: 54\n"
     ]
    },
    {
     "name": "stderr",
     "output_type": "stream",
     "text": [
      "d:\\ProgramData\\Anaconda3\\lib\\site-packages\\pandas\\core\\reshape\\merge.py:522: UserWarning: merging between different levels can give an unintended result (1 levels on the left, 2 on the right)\n",
      "  warnings.warn(msg, UserWarning)\n"
     ]
    },
    {
     "name": "stdout",
     "output_type": "stream",
     "text": [
      "index: 55\n",
      "index: 56\n",
      "index: 57\n"
     ]
    },
    {
     "name": "stderr",
     "output_type": "stream",
     "text": [
      "d:\\ProgramData\\Anaconda3\\lib\\site-packages\\pandas\\core\\reshape\\merge.py:522: UserWarning: merging between different levels can give an unintended result (1 levels on the left, 2 on the right)\n",
      "  warnings.warn(msg, UserWarning)\n"
     ]
    },
    {
     "name": "stdout",
     "output_type": "stream",
     "text": [
      "index: 58\n",
      "index: 59\n",
      "index: 60\n"
     ]
    },
    {
     "name": "stderr",
     "output_type": "stream",
     "text": [
      "d:\\ProgramData\\Anaconda3\\lib\\site-packages\\pandas\\core\\reshape\\merge.py:522: UserWarning: merging between different levels can give an unintended result (1 levels on the left, 2 on the right)\n",
      "  warnings.warn(msg, UserWarning)\n"
     ]
    },
    {
     "name": "stdout",
     "output_type": "stream",
     "text": [
      "index: 61\n",
      "index: 62\n",
      "index: 63\n"
     ]
    },
    {
     "name": "stderr",
     "output_type": "stream",
     "text": [
      "d:\\ProgramData\\Anaconda3\\lib\\site-packages\\pandas\\core\\reshape\\merge.py:522: UserWarning: merging between different levels can give an unintended result (1 levels on the left, 2 on the right)\n",
      "  warnings.warn(msg, UserWarning)\n"
     ]
    },
    {
     "name": "stdout",
     "output_type": "stream",
     "text": [
      "index: 64\n",
      "index: 65\n",
      "index: 66\n"
     ]
    },
    {
     "name": "stderr",
     "output_type": "stream",
     "text": [
      "d:\\ProgramData\\Anaconda3\\lib\\site-packages\\pandas\\core\\reshape\\merge.py:522: UserWarning: merging between different levels can give an unintended result (1 levels on the left, 2 on the right)\n",
      "  warnings.warn(msg, UserWarning)\n"
     ]
    },
    {
     "name": "stdout",
     "output_type": "stream",
     "text": [
      "index: 67\n",
      "index: 68\n",
      "index: 69\n"
     ]
    },
    {
     "name": "stderr",
     "output_type": "stream",
     "text": [
      "d:\\ProgramData\\Anaconda3\\lib\\site-packages\\pandas\\core\\reshape\\merge.py:522: UserWarning: merging between different levels can give an unintended result (1 levels on the left, 2 on the right)\n",
      "  warnings.warn(msg, UserWarning)\n"
     ]
    },
    {
     "name": "stdout",
     "output_type": "stream",
     "text": [
      "index: 70\n",
      "index: 71\n",
      "index: 72\n"
     ]
    },
    {
     "name": "stderr",
     "output_type": "stream",
     "text": [
      "d:\\ProgramData\\Anaconda3\\lib\\site-packages\\pandas\\core\\reshape\\merge.py:522: UserWarning: merging between different levels can give an unintended result (1 levels on the left, 2 on the right)\n",
      "  warnings.warn(msg, UserWarning)\n"
     ]
    },
    {
     "name": "stdout",
     "output_type": "stream",
     "text": [
      "index: 73\n",
      "index: 74\n"
     ]
    },
    {
     "name": "stderr",
     "output_type": "stream",
     "text": [
      "d:\\ProgramData\\Anaconda3\\lib\\site-packages\\pandas\\core\\reshape\\merge.py:522: UserWarning: merging between different levels can give an unintended result (1 levels on the left, 2 on the right)\n",
      "  warnings.warn(msg, UserWarning)\n"
     ]
    },
    {
     "name": "stdout",
     "output_type": "stream",
     "text": [
      "index: 75\n",
      "index: 76\n",
      "index: 77\n"
     ]
    },
    {
     "name": "stderr",
     "output_type": "stream",
     "text": [
      "d:\\ProgramData\\Anaconda3\\lib\\site-packages\\pandas\\core\\reshape\\merge.py:522: UserWarning: merging between different levels can give an unintended result (1 levels on the left, 2 on the right)\n",
      "  warnings.warn(msg, UserWarning)\n"
     ]
    },
    {
     "name": "stdout",
     "output_type": "stream",
     "text": [
      "index: 78\n",
      "index: 79\n",
      "index: 80\n"
     ]
    },
    {
     "name": "stderr",
     "output_type": "stream",
     "text": [
      "d:\\ProgramData\\Anaconda3\\lib\\site-packages\\pandas\\core\\reshape\\merge.py:522: UserWarning: merging between different levels can give an unintended result (1 levels on the left, 2 on the right)\n",
      "  warnings.warn(msg, UserWarning)\n"
     ]
    },
    {
     "name": "stdout",
     "output_type": "stream",
     "text": [
      "index: 81\n",
      "index: 82\n",
      "index: 83\n"
     ]
    },
    {
     "name": "stderr",
     "output_type": "stream",
     "text": [
      "d:\\ProgramData\\Anaconda3\\lib\\site-packages\\pandas\\core\\reshape\\merge.py:522: UserWarning: merging between different levels can give an unintended result (1 levels on the left, 2 on the right)\n",
      "  warnings.warn(msg, UserWarning)\n"
     ]
    },
    {
     "name": "stdout",
     "output_type": "stream",
     "text": [
      "index: 84\n",
      "index: 85\n",
      "index: 86\n"
     ]
    },
    {
     "name": "stderr",
     "output_type": "stream",
     "text": [
      "d:\\ProgramData\\Anaconda3\\lib\\site-packages\\pandas\\core\\reshape\\merge.py:522: UserWarning: merging between different levels can give an unintended result (1 levels on the left, 2 on the right)\n",
      "  warnings.warn(msg, UserWarning)\n"
     ]
    },
    {
     "name": "stdout",
     "output_type": "stream",
     "text": [
      "index: 87\n",
      "index: 88\n",
      "index: 89\n"
     ]
    },
    {
     "name": "stderr",
     "output_type": "stream",
     "text": [
      "d:\\ProgramData\\Anaconda3\\lib\\site-packages\\pandas\\core\\reshape\\merge.py:522: UserWarning: merging between different levels can give an unintended result (1 levels on the left, 2 on the right)\n",
      "  warnings.warn(msg, UserWarning)\n"
     ]
    },
    {
     "name": "stdout",
     "output_type": "stream",
     "text": [
      "index: 90\n",
      "index: 91\n",
      "index: 92\n"
     ]
    },
    {
     "name": "stderr",
     "output_type": "stream",
     "text": [
      "d:\\ProgramData\\Anaconda3\\lib\\site-packages\\pandas\\core\\reshape\\merge.py:522: UserWarning: merging between different levels can give an unintended result (1 levels on the left, 2 on the right)\n",
      "  warnings.warn(msg, UserWarning)\n"
     ]
    },
    {
     "name": "stdout",
     "output_type": "stream",
     "text": [
      "index: 93\n",
      "index: 94\n",
      "index: 95\n"
     ]
    },
    {
     "name": "stderr",
     "output_type": "stream",
     "text": [
      "d:\\ProgramData\\Anaconda3\\lib\\site-packages\\pandas\\core\\reshape\\merge.py:522: UserWarning: merging between different levels can give an unintended result (1 levels on the left, 2 on the right)\n",
      "  warnings.warn(msg, UserWarning)\n"
     ]
    },
    {
     "name": "stdout",
     "output_type": "stream",
     "text": [
      "index: 96\n",
      "index: 97\n",
      "index: 98\n"
     ]
    },
    {
     "name": "stderr",
     "output_type": "stream",
     "text": [
      "d:\\ProgramData\\Anaconda3\\lib\\site-packages\\pandas\\core\\reshape\\merge.py:522: UserWarning: merging between different levels can give an unintended result (1 levels on the left, 2 on the right)\n",
      "  warnings.warn(msg, UserWarning)\n"
     ]
    },
    {
     "name": "stdout",
     "output_type": "stream",
     "text": [
      "index: 99\n",
      "index: 100\n",
      "index: 101\n"
     ]
    },
    {
     "name": "stderr",
     "output_type": "stream",
     "text": [
      "d:\\ProgramData\\Anaconda3\\lib\\site-packages\\pandas\\core\\reshape\\merge.py:522: UserWarning: merging between different levels can give an unintended result (1 levels on the left, 2 on the right)\n",
      "  warnings.warn(msg, UserWarning)\n"
     ]
    },
    {
     "name": "stdout",
     "output_type": "stream",
     "text": [
      "index: 102\n",
      "index: 103\n"
     ]
    },
    {
     "name": "stderr",
     "output_type": "stream",
     "text": [
      "d:\\ProgramData\\Anaconda3\\lib\\site-packages\\pandas\\core\\reshape\\merge.py:522: UserWarning: merging between different levels can give an unintended result (1 levels on the left, 2 on the right)\n",
      "  warnings.warn(msg, UserWarning)\n"
     ]
    },
    {
     "name": "stdout",
     "output_type": "stream",
     "text": [
      "index: 104\n",
      "index: 105\n",
      "index: 106\n"
     ]
    },
    {
     "name": "stderr",
     "output_type": "stream",
     "text": [
      "d:\\ProgramData\\Anaconda3\\lib\\site-packages\\pandas\\core\\reshape\\merge.py:522: UserWarning: merging between different levels can give an unintended result (1 levels on the left, 2 on the right)\n",
      "  warnings.warn(msg, UserWarning)\n"
     ]
    },
    {
     "name": "stdout",
     "output_type": "stream",
     "text": [
      "index: 107\n",
      "index: 108\n",
      "index: 109\n"
     ]
    },
    {
     "name": "stderr",
     "output_type": "stream",
     "text": [
      "d:\\ProgramData\\Anaconda3\\lib\\site-packages\\pandas\\core\\reshape\\merge.py:522: UserWarning: merging between different levels can give an unintended result (1 levels on the left, 2 on the right)\n",
      "  warnings.warn(msg, UserWarning)\n"
     ]
    },
    {
     "name": "stdout",
     "output_type": "stream",
     "text": [
      "index: 110\n",
      "index: 111\n",
      "index: 112\n"
     ]
    },
    {
     "name": "stderr",
     "output_type": "stream",
     "text": [
      "d:\\ProgramData\\Anaconda3\\lib\\site-packages\\pandas\\core\\reshape\\merge.py:522: UserWarning: merging between different levels can give an unintended result (1 levels on the left, 2 on the right)\n",
      "  warnings.warn(msg, UserWarning)\n"
     ]
    },
    {
     "name": "stdout",
     "output_type": "stream",
     "text": [
      "index: 113\n",
      "index: 114\n",
      "index: 115\n"
     ]
    },
    {
     "name": "stderr",
     "output_type": "stream",
     "text": [
      "d:\\ProgramData\\Anaconda3\\lib\\site-packages\\pandas\\core\\reshape\\merge.py:522: UserWarning: merging between different levels can give an unintended result (1 levels on the left, 2 on the right)\n",
      "  warnings.warn(msg, UserWarning)\n"
     ]
    },
    {
     "name": "stdout",
     "output_type": "stream",
     "text": [
      "index: 116\n",
      "index: 117\n",
      "index: 118\n"
     ]
    },
    {
     "name": "stderr",
     "output_type": "stream",
     "text": [
      "d:\\ProgramData\\Anaconda3\\lib\\site-packages\\pandas\\core\\reshape\\merge.py:522: UserWarning: merging between different levels can give an unintended result (1 levels on the left, 2 on the right)\n",
      "  warnings.warn(msg, UserWarning)\n"
     ]
    },
    {
     "name": "stdout",
     "output_type": "stream",
     "text": [
      "index: 119\n",
      "index: 120\n",
      "index: 121\n"
     ]
    },
    {
     "name": "stderr",
     "output_type": "stream",
     "text": [
      "d:\\ProgramData\\Anaconda3\\lib\\site-packages\\pandas\\core\\reshape\\merge.py:522: UserWarning: merging between different levels can give an unintended result (1 levels on the left, 2 on the right)\n",
      "  warnings.warn(msg, UserWarning)\n"
     ]
    },
    {
     "name": "stdout",
     "output_type": "stream",
     "text": [
      "index: 122\n",
      "index: 123\n",
      "index: 124\n"
     ]
    },
    {
     "name": "stderr",
     "output_type": "stream",
     "text": [
      "d:\\ProgramData\\Anaconda3\\lib\\site-packages\\pandas\\core\\reshape\\merge.py:522: UserWarning: merging between different levels can give an unintended result (1 levels on the left, 2 on the right)\n",
      "  warnings.warn(msg, UserWarning)\n"
     ]
    },
    {
     "name": "stdout",
     "output_type": "stream",
     "text": [
      "index: 125\n",
      "index: 126\n",
      "index: 127\n"
     ]
    },
    {
     "name": "stderr",
     "output_type": "stream",
     "text": [
      "d:\\ProgramData\\Anaconda3\\lib\\site-packages\\pandas\\core\\reshape\\merge.py:522: UserWarning: merging between different levels can give an unintended result (1 levels on the left, 2 on the right)\n",
      "  warnings.warn(msg, UserWarning)\n"
     ]
    },
    {
     "name": "stdout",
     "output_type": "stream",
     "text": [
      "index: 128\n",
      "index: 129\n",
      "index: 130\n"
     ]
    },
    {
     "name": "stderr",
     "output_type": "stream",
     "text": [
      "d:\\ProgramData\\Anaconda3\\lib\\site-packages\\pandas\\core\\reshape\\merge.py:522: UserWarning: merging between different levels can give an unintended result (1 levels on the left, 2 on the right)\n",
      "  warnings.warn(msg, UserWarning)\n"
     ]
    },
    {
     "name": "stdout",
     "output_type": "stream",
     "text": [
      "index: 131\n",
      "index: 132\n"
     ]
    },
    {
     "name": "stderr",
     "output_type": "stream",
     "text": [
      "d:\\ProgramData\\Anaconda3\\lib\\site-packages\\pandas\\core\\reshape\\merge.py:522: UserWarning: merging between different levels can give an unintended result (1 levels on the left, 2 on the right)\n",
      "  warnings.warn(msg, UserWarning)\n"
     ]
    },
    {
     "name": "stdout",
     "output_type": "stream",
     "text": [
      "index: 133\n",
      "index: 134\n",
      "index: 135\n"
     ]
    },
    {
     "name": "stderr",
     "output_type": "stream",
     "text": [
      "d:\\ProgramData\\Anaconda3\\lib\\site-packages\\pandas\\core\\reshape\\merge.py:522: UserWarning: merging between different levels can give an unintended result (1 levels on the left, 2 on the right)\n",
      "  warnings.warn(msg, UserWarning)\n"
     ]
    },
    {
     "name": "stdout",
     "output_type": "stream",
     "text": [
      "index: 136\n",
      "index: 137\n",
      "index: 138\n"
     ]
    },
    {
     "name": "stderr",
     "output_type": "stream",
     "text": [
      "d:\\ProgramData\\Anaconda3\\lib\\site-packages\\pandas\\core\\reshape\\merge.py:522: UserWarning: merging between different levels can give an unintended result (1 levels on the left, 2 on the right)\n",
      "  warnings.warn(msg, UserWarning)\n"
     ]
    },
    {
     "name": "stdout",
     "output_type": "stream",
     "text": [
      "index: 139\n",
      "index: 140\n",
      "index: 141\n"
     ]
    },
    {
     "name": "stderr",
     "output_type": "stream",
     "text": [
      "d:\\ProgramData\\Anaconda3\\lib\\site-packages\\pandas\\core\\reshape\\merge.py:522: UserWarning: merging between different levels can give an unintended result (1 levels on the left, 2 on the right)\n",
      "  warnings.warn(msg, UserWarning)\n"
     ]
    },
    {
     "name": "stdout",
     "output_type": "stream",
     "text": [
      "index: 142\n",
      "index: 143\n",
      "index: 144\n"
     ]
    },
    {
     "name": "stderr",
     "output_type": "stream",
     "text": [
      "d:\\ProgramData\\Anaconda3\\lib\\site-packages\\pandas\\core\\reshape\\merge.py:522: UserWarning: merging between different levels can give an unintended result (1 levels on the left, 2 on the right)\n",
      "  warnings.warn(msg, UserWarning)\n"
     ]
    },
    {
     "name": "stdout",
     "output_type": "stream",
     "text": [
      "index: 145\n",
      "index: 146\n",
      "index: 147\n"
     ]
    },
    {
     "name": "stderr",
     "output_type": "stream",
     "text": [
      "d:\\ProgramData\\Anaconda3\\lib\\site-packages\\pandas\\core\\reshape\\merge.py:522: UserWarning: merging between different levels can give an unintended result (1 levels on the left, 2 on the right)\n",
      "  warnings.warn(msg, UserWarning)\n"
     ]
    },
    {
     "name": "stdout",
     "output_type": "stream",
     "text": [
      "index: 148\n",
      "index: 149\n",
      "index: 150\n"
     ]
    },
    {
     "name": "stderr",
     "output_type": "stream",
     "text": [
      "d:\\ProgramData\\Anaconda3\\lib\\site-packages\\pandas\\core\\reshape\\merge.py:522: UserWarning: merging between different levels can give an unintended result (1 levels on the left, 2 on the right)\n",
      "  warnings.warn(msg, UserWarning)\n"
     ]
    },
    {
     "name": "stdout",
     "output_type": "stream",
     "text": [
      "index: 151\n",
      "index: 152\n",
      "index: 153\n"
     ]
    },
    {
     "name": "stderr",
     "output_type": "stream",
     "text": [
      "d:\\ProgramData\\Anaconda3\\lib\\site-packages\\pandas\\core\\reshape\\merge.py:522: UserWarning: merging between different levels can give an unintended result (1 levels on the left, 2 on the right)\n",
      "  warnings.warn(msg, UserWarning)\n"
     ]
    },
    {
     "name": "stdout",
     "output_type": "stream",
     "text": [
      "index: 154\n",
      "index: 155\n",
      "index: 156\n"
     ]
    },
    {
     "name": "stderr",
     "output_type": "stream",
     "text": [
      "d:\\ProgramData\\Anaconda3\\lib\\site-packages\\pandas\\core\\reshape\\merge.py:522: UserWarning: merging between different levels can give an unintended result (1 levels on the left, 2 on the right)\n",
      "  warnings.warn(msg, UserWarning)\n"
     ]
    },
    {
     "name": "stdout",
     "output_type": "stream",
     "text": [
      "index: 157\n",
      "index: 158\n",
      "index: 159\n"
     ]
    },
    {
     "name": "stderr",
     "output_type": "stream",
     "text": [
      "d:\\ProgramData\\Anaconda3\\lib\\site-packages\\pandas\\core\\reshape\\merge.py:522: UserWarning: merging between different levels can give an unintended result (1 levels on the left, 2 on the right)\n",
      "  warnings.warn(msg, UserWarning)\n"
     ]
    },
    {
     "name": "stdout",
     "output_type": "stream",
     "text": [
      "index: 160\n",
      "index: 161\n"
     ]
    },
    {
     "name": "stderr",
     "output_type": "stream",
     "text": [
      "d:\\ProgramData\\Anaconda3\\lib\\site-packages\\pandas\\core\\reshape\\merge.py:522: UserWarning: merging between different levels can give an unintended result (1 levels on the left, 2 on the right)\n",
      "  warnings.warn(msg, UserWarning)\n"
     ]
    },
    {
     "name": "stdout",
     "output_type": "stream",
     "text": [
      "index: 162\n",
      "index: 163\n",
      "index: 164\n"
     ]
    },
    {
     "name": "stderr",
     "output_type": "stream",
     "text": [
      "d:\\ProgramData\\Anaconda3\\lib\\site-packages\\pandas\\core\\reshape\\merge.py:522: UserWarning: merging between different levels can give an unintended result (1 levels on the left, 2 on the right)\n",
      "  warnings.warn(msg, UserWarning)\n"
     ]
    },
    {
     "name": "stdout",
     "output_type": "stream",
     "text": [
      "index: 165\n",
      "index: 166\n",
      "index: 167\n"
     ]
    },
    {
     "name": "stderr",
     "output_type": "stream",
     "text": [
      "d:\\ProgramData\\Anaconda3\\lib\\site-packages\\pandas\\core\\reshape\\merge.py:522: UserWarning: merging between different levels can give an unintended result (1 levels on the left, 2 on the right)\n",
      "  warnings.warn(msg, UserWarning)\n"
     ]
    },
    {
     "name": "stdout",
     "output_type": "stream",
     "text": [
      "index: 168\n",
      "index: 169\n",
      "index: 170\n"
     ]
    },
    {
     "name": "stderr",
     "output_type": "stream",
     "text": [
      "d:\\ProgramData\\Anaconda3\\lib\\site-packages\\pandas\\core\\reshape\\merge.py:522: UserWarning: merging between different levels can give an unintended result (1 levels on the left, 2 on the right)\n",
      "  warnings.warn(msg, UserWarning)\n"
     ]
    },
    {
     "name": "stdout",
     "output_type": "stream",
     "text": [
      "index: 171\n",
      "index: 172\n",
      "index: 173\n"
     ]
    },
    {
     "name": "stderr",
     "output_type": "stream",
     "text": [
      "d:\\ProgramData\\Anaconda3\\lib\\site-packages\\pandas\\core\\reshape\\merge.py:522: UserWarning: merging between different levels can give an unintended result (1 levels on the left, 2 on the right)\n",
      "  warnings.warn(msg, UserWarning)\n"
     ]
    },
    {
     "name": "stdout",
     "output_type": "stream",
     "text": [
      "index: 174\n",
      "index: 175\n",
      "index: 176\n"
     ]
    },
    {
     "name": "stderr",
     "output_type": "stream",
     "text": [
      "d:\\ProgramData\\Anaconda3\\lib\\site-packages\\pandas\\core\\reshape\\merge.py:522: UserWarning: merging between different levels can give an unintended result (1 levels on the left, 2 on the right)\n",
      "  warnings.warn(msg, UserWarning)\n"
     ]
    },
    {
     "name": "stdout",
     "output_type": "stream",
     "text": [
      "index: 177\n",
      "index: 178\n",
      "index: 179\n"
     ]
    },
    {
     "name": "stderr",
     "output_type": "stream",
     "text": [
      "d:\\ProgramData\\Anaconda3\\lib\\site-packages\\pandas\\core\\reshape\\merge.py:522: UserWarning: merging between different levels can give an unintended result (1 levels on the left, 2 on the right)\n",
      "  warnings.warn(msg, UserWarning)\n"
     ]
    },
    {
     "name": "stdout",
     "output_type": "stream",
     "text": [
      "index: 180\n",
      "index: 181\n",
      "index: 182\n"
     ]
    },
    {
     "name": "stderr",
     "output_type": "stream",
     "text": [
      "d:\\ProgramData\\Anaconda3\\lib\\site-packages\\pandas\\core\\reshape\\merge.py:522: UserWarning: merging between different levels can give an unintended result (1 levels on the left, 2 on the right)\n",
      "  warnings.warn(msg, UserWarning)\n"
     ]
    },
    {
     "name": "stdout",
     "output_type": "stream",
     "text": [
      "index: 183\n",
      "index: 184\n",
      "index: 185\n"
     ]
    },
    {
     "name": "stderr",
     "output_type": "stream",
     "text": [
      "d:\\ProgramData\\Anaconda3\\lib\\site-packages\\pandas\\core\\reshape\\merge.py:522: UserWarning: merging between different levels can give an unintended result (1 levels on the left, 2 on the right)\n",
      "  warnings.warn(msg, UserWarning)\n"
     ]
    },
    {
     "name": "stdout",
     "output_type": "stream",
     "text": [
      "index: 186\n",
      "index: 187\n",
      "index: 188\n"
     ]
    },
    {
     "name": "stderr",
     "output_type": "stream",
     "text": [
      "d:\\ProgramData\\Anaconda3\\lib\\site-packages\\pandas\\core\\reshape\\merge.py:522: UserWarning: merging between different levels can give an unintended result (1 levels on the left, 2 on the right)\n",
      "  warnings.warn(msg, UserWarning)\n"
     ]
    },
    {
     "name": "stdout",
     "output_type": "stream",
     "text": [
      "index: 189\n",
      "index: 190\n"
     ]
    },
    {
     "name": "stderr",
     "output_type": "stream",
     "text": [
      "d:\\ProgramData\\Anaconda3\\lib\\site-packages\\pandas\\core\\reshape\\merge.py:522: UserWarning: merging between different levels can give an unintended result (1 levels on the left, 2 on the right)\n",
      "  warnings.warn(msg, UserWarning)\n"
     ]
    },
    {
     "name": "stdout",
     "output_type": "stream",
     "text": [
      "index: 191\n",
      "index: 192\n",
      "index: 193\n"
     ]
    },
    {
     "name": "stderr",
     "output_type": "stream",
     "text": [
      "d:\\ProgramData\\Anaconda3\\lib\\site-packages\\pandas\\core\\reshape\\merge.py:522: UserWarning: merging between different levels can give an unintended result (1 levels on the left, 2 on the right)\n",
      "  warnings.warn(msg, UserWarning)\n"
     ]
    },
    {
     "name": "stdout",
     "output_type": "stream",
     "text": [
      "index: 194\n",
      "index: 195\n",
      "index: 196\n"
     ]
    },
    {
     "name": "stderr",
     "output_type": "stream",
     "text": [
      "d:\\ProgramData\\Anaconda3\\lib\\site-packages\\pandas\\core\\reshape\\merge.py:522: UserWarning: merging between different levels can give an unintended result (1 levels on the left, 2 on the right)\n",
      "  warnings.warn(msg, UserWarning)\n"
     ]
    },
    {
     "name": "stdout",
     "output_type": "stream",
     "text": [
      "index: 197\n",
      "index: 198\n",
      "index: 199\n"
     ]
    },
    {
     "name": "stderr",
     "output_type": "stream",
     "text": [
      "d:\\ProgramData\\Anaconda3\\lib\\site-packages\\pandas\\core\\reshape\\merge.py:522: UserWarning: merging between different levels can give an unintended result (1 levels on the left, 2 on the right)\n",
      "  warnings.warn(msg, UserWarning)\n"
     ]
    },
    {
     "name": "stdout",
     "output_type": "stream",
     "text": [
      "index: 200\n",
      "index: 201\n",
      "index: 202\n"
     ]
    },
    {
     "name": "stderr",
     "output_type": "stream",
     "text": [
      "d:\\ProgramData\\Anaconda3\\lib\\site-packages\\pandas\\core\\reshape\\merge.py:522: UserWarning: merging between different levels can give an unintended result (1 levels on the left, 2 on the right)\n",
      "  warnings.warn(msg, UserWarning)\n"
     ]
    },
    {
     "name": "stdout",
     "output_type": "stream",
     "text": [
      "index: 203\n",
      "index: 204\n",
      "index: 205\n"
     ]
    },
    {
     "name": "stderr",
     "output_type": "stream",
     "text": [
      "d:\\ProgramData\\Anaconda3\\lib\\site-packages\\pandas\\core\\reshape\\merge.py:522: UserWarning: merging between different levels can give an unintended result (1 levels on the left, 2 on the right)\n",
      "  warnings.warn(msg, UserWarning)\n"
     ]
    },
    {
     "name": "stdout",
     "output_type": "stream",
     "text": [
      "index: 206\n",
      "index: 207\n",
      "index: 208\n"
     ]
    },
    {
     "name": "stderr",
     "output_type": "stream",
     "text": [
      "d:\\ProgramData\\Anaconda3\\lib\\site-packages\\pandas\\core\\reshape\\merge.py:522: UserWarning: merging between different levels can give an unintended result (1 levels on the left, 2 on the right)\n",
      "  warnings.warn(msg, UserWarning)\n"
     ]
    },
    {
     "name": "stdout",
     "output_type": "stream",
     "text": [
      "index: 209\n",
      "index: 210\n",
      "index: 211\n"
     ]
    },
    {
     "name": "stderr",
     "output_type": "stream",
     "text": [
      "d:\\ProgramData\\Anaconda3\\lib\\site-packages\\pandas\\core\\reshape\\merge.py:522: UserWarning: merging between different levels can give an unintended result (1 levels on the left, 2 on the right)\n",
      "  warnings.warn(msg, UserWarning)\n"
     ]
    },
    {
     "name": "stdout",
     "output_type": "stream",
     "text": [
      "index: 212\n",
      "index: 213\n",
      "index: 214\n"
     ]
    },
    {
     "name": "stderr",
     "output_type": "stream",
     "text": [
      "d:\\ProgramData\\Anaconda3\\lib\\site-packages\\pandas\\core\\reshape\\merge.py:522: UserWarning: merging between different levels can give an unintended result (1 levels on the left, 2 on the right)\n",
      "  warnings.warn(msg, UserWarning)\n"
     ]
    },
    {
     "name": "stdout",
     "output_type": "stream",
     "text": [
      "index: 215\n",
      "index: 216\n"
     ]
    },
    {
     "name": "stderr",
     "output_type": "stream",
     "text": [
      "d:\\ProgramData\\Anaconda3\\lib\\site-packages\\pandas\\core\\reshape\\merge.py:522: UserWarning: merging between different levels can give an unintended result (1 levels on the left, 2 on the right)\n",
      "  warnings.warn(msg, UserWarning)\n"
     ]
    },
    {
     "name": "stdout",
     "output_type": "stream",
     "text": [
      "index: 217\n",
      "index: 218\n",
      "index: 219\n"
     ]
    },
    {
     "name": "stderr",
     "output_type": "stream",
     "text": [
      "d:\\ProgramData\\Anaconda3\\lib\\site-packages\\pandas\\core\\reshape\\merge.py:522: UserWarning: merging between different levels can give an unintended result (1 levels on the left, 2 on the right)\n",
      "  warnings.warn(msg, UserWarning)\n"
     ]
    },
    {
     "name": "stdout",
     "output_type": "stream",
     "text": [
      "index: 220\n",
      "index: 221\n",
      "index: 222\n"
     ]
    },
    {
     "name": "stderr",
     "output_type": "stream",
     "text": [
      "d:\\ProgramData\\Anaconda3\\lib\\site-packages\\pandas\\core\\reshape\\merge.py:522: UserWarning: merging between different levels can give an unintended result (1 levels on the left, 2 on the right)\n",
      "  warnings.warn(msg, UserWarning)\n"
     ]
    },
    {
     "name": "stdout",
     "output_type": "stream",
     "text": [
      "index: 223\n",
      "index: 224\n",
      "index: 225\n"
     ]
    },
    {
     "name": "stderr",
     "output_type": "stream",
     "text": [
      "d:\\ProgramData\\Anaconda3\\lib\\site-packages\\pandas\\core\\reshape\\merge.py:522: UserWarning: merging between different levels can give an unintended result (1 levels on the left, 2 on the right)\n",
      "  warnings.warn(msg, UserWarning)\n"
     ]
    },
    {
     "name": "stdout",
     "output_type": "stream",
     "text": [
      "index: 226\n",
      "index: 227\n",
      "index: 228\n"
     ]
    },
    {
     "name": "stderr",
     "output_type": "stream",
     "text": [
      "d:\\ProgramData\\Anaconda3\\lib\\site-packages\\pandas\\core\\reshape\\merge.py:522: UserWarning: merging between different levels can give an unintended result (1 levels on the left, 2 on the right)\n",
      "  warnings.warn(msg, UserWarning)\n"
     ]
    },
    {
     "name": "stdout",
     "output_type": "stream",
     "text": [
      "index: 229\n",
      "index: 230\n",
      "index: 231\n"
     ]
    },
    {
     "name": "stderr",
     "output_type": "stream",
     "text": [
      "d:\\ProgramData\\Anaconda3\\lib\\site-packages\\pandas\\core\\reshape\\merge.py:522: UserWarning: merging between different levels can give an unintended result (1 levels on the left, 2 on the right)\n",
      "  warnings.warn(msg, UserWarning)\n"
     ]
    },
    {
     "name": "stdout",
     "output_type": "stream",
     "text": [
      "index: 232\n",
      "index: 233\n",
      "index: 234\n"
     ]
    },
    {
     "name": "stderr",
     "output_type": "stream",
     "text": [
      "d:\\ProgramData\\Anaconda3\\lib\\site-packages\\pandas\\core\\reshape\\merge.py:522: UserWarning: merging between different levels can give an unintended result (1 levels on the left, 2 on the right)\n",
      "  warnings.warn(msg, UserWarning)\n"
     ]
    },
    {
     "name": "stdout",
     "output_type": "stream",
     "text": [
      "index: 235\n",
      "index: 236\n",
      "index: 237\n"
     ]
    },
    {
     "name": "stderr",
     "output_type": "stream",
     "text": [
      "d:\\ProgramData\\Anaconda3\\lib\\site-packages\\pandas\\core\\reshape\\merge.py:522: UserWarning: merging between different levels can give an unintended result (1 levels on the left, 2 on the right)\n",
      "  warnings.warn(msg, UserWarning)\n"
     ]
    },
    {
     "name": "stdout",
     "output_type": "stream",
     "text": [
      "index: 238\n",
      "index: 239\n",
      "index: 240\n"
     ]
    },
    {
     "name": "stderr",
     "output_type": "stream",
     "text": [
      "d:\\ProgramData\\Anaconda3\\lib\\site-packages\\pandas\\core\\reshape\\merge.py:522: UserWarning: merging between different levels can give an unintended result (1 levels on the left, 2 on the right)\n",
      "  warnings.warn(msg, UserWarning)\n"
     ]
    },
    {
     "name": "stdout",
     "output_type": "stream",
     "text": [
      "index: 241\n",
      "index: 242\n",
      "index: 243\n"
     ]
    },
    {
     "name": "stderr",
     "output_type": "stream",
     "text": [
      "d:\\ProgramData\\Anaconda3\\lib\\site-packages\\pandas\\core\\reshape\\merge.py:522: UserWarning: merging between different levels can give an unintended result (1 levels on the left, 2 on the right)\n",
      "  warnings.warn(msg, UserWarning)\n"
     ]
    },
    {
     "name": "stdout",
     "output_type": "stream",
     "text": [
      "index: 244\n",
      "index: 245\n"
     ]
    },
    {
     "name": "stderr",
     "output_type": "stream",
     "text": [
      "d:\\ProgramData\\Anaconda3\\lib\\site-packages\\pandas\\core\\reshape\\merge.py:522: UserWarning: merging between different levels can give an unintended result (1 levels on the left, 2 on the right)\n",
      "  warnings.warn(msg, UserWarning)\n"
     ]
    },
    {
     "name": "stdout",
     "output_type": "stream",
     "text": [
      "index: 246\n",
      "index: 247\n",
      "index: 248\n"
     ]
    },
    {
     "name": "stderr",
     "output_type": "stream",
     "text": [
      "d:\\ProgramData\\Anaconda3\\lib\\site-packages\\pandas\\core\\reshape\\merge.py:522: UserWarning: merging between different levels can give an unintended result (1 levels on the left, 2 on the right)\n",
      "  warnings.warn(msg, UserWarning)\n"
     ]
    },
    {
     "name": "stdout",
     "output_type": "stream",
     "text": [
      "index: 249\n",
      "index: 250\n",
      "index: 251\n"
     ]
    },
    {
     "name": "stderr",
     "output_type": "stream",
     "text": [
      "d:\\ProgramData\\Anaconda3\\lib\\site-packages\\pandas\\core\\reshape\\merge.py:522: UserWarning: merging between different levels can give an unintended result (1 levels on the left, 2 on the right)\n",
      "  warnings.warn(msg, UserWarning)\n"
     ]
    },
    {
     "name": "stdout",
     "output_type": "stream",
     "text": [
      "index: 252\n",
      "index: 253\n",
      "index: 254\n"
     ]
    },
    {
     "name": "stderr",
     "output_type": "stream",
     "text": [
      "d:\\ProgramData\\Anaconda3\\lib\\site-packages\\pandas\\core\\reshape\\merge.py:522: UserWarning: merging between different levels can give an unintended result (1 levels on the left, 2 on the right)\n",
      "  warnings.warn(msg, UserWarning)\n"
     ]
    },
    {
     "name": "stdout",
     "output_type": "stream",
     "text": [
      "index: 255\n",
      "index: 256\n",
      "index: 257\n"
     ]
    },
    {
     "name": "stderr",
     "output_type": "stream",
     "text": [
      "d:\\ProgramData\\Anaconda3\\lib\\site-packages\\pandas\\core\\reshape\\merge.py:522: UserWarning: merging between different levels can give an unintended result (1 levels on the left, 2 on the right)\n",
      "  warnings.warn(msg, UserWarning)\n"
     ]
    },
    {
     "name": "stdout",
     "output_type": "stream",
     "text": [
      "index: 258\n",
      "index: 259\n",
      "index: 260\n"
     ]
    },
    {
     "name": "stderr",
     "output_type": "stream",
     "text": [
      "d:\\ProgramData\\Anaconda3\\lib\\site-packages\\pandas\\core\\reshape\\merge.py:522: UserWarning: merging between different levels can give an unintended result (1 levels on the left, 2 on the right)\n",
      "  warnings.warn(msg, UserWarning)\n"
     ]
    },
    {
     "name": "stdout",
     "output_type": "stream",
     "text": [
      "index: 261\n",
      "index: 262\n",
      "index: 263\n"
     ]
    },
    {
     "name": "stderr",
     "output_type": "stream",
     "text": [
      "d:\\ProgramData\\Anaconda3\\lib\\site-packages\\pandas\\core\\reshape\\merge.py:522: UserWarning: merging between different levels can give an unintended result (1 levels on the left, 2 on the right)\n",
      "  warnings.warn(msg, UserWarning)\n"
     ]
    },
    {
     "name": "stdout",
     "output_type": "stream",
     "text": [
      "index: 264\n",
      "index: 265\n",
      "index: 266\n"
     ]
    },
    {
     "name": "stderr",
     "output_type": "stream",
     "text": [
      "d:\\ProgramData\\Anaconda3\\lib\\site-packages\\pandas\\core\\reshape\\merge.py:522: UserWarning: merging between different levels can give an unintended result (1 levels on the left, 2 on the right)\n",
      "  warnings.warn(msg, UserWarning)\n"
     ]
    },
    {
     "name": "stdout",
     "output_type": "stream",
     "text": [
      "index: 267\n",
      "index: 268\n"
     ]
    },
    {
     "name": "stderr",
     "output_type": "stream",
     "text": [
      "d:\\ProgramData\\Anaconda3\\lib\\site-packages\\pandas\\core\\reshape\\merge.py:522: UserWarning: merging between different levels can give an unintended result (1 levels on the left, 2 on the right)\n",
      "  warnings.warn(msg, UserWarning)\n"
     ]
    },
    {
     "name": "stdout",
     "output_type": "stream",
     "text": [
      "index: 269\n",
      "index: 270\n",
      "index: 271\n"
     ]
    },
    {
     "name": "stderr",
     "output_type": "stream",
     "text": [
      "d:\\ProgramData\\Anaconda3\\lib\\site-packages\\pandas\\core\\reshape\\merge.py:522: UserWarning: merging between different levels can give an unintended result (1 levels on the left, 2 on the right)\n",
      "  warnings.warn(msg, UserWarning)\n"
     ]
    },
    {
     "name": "stdout",
     "output_type": "stream",
     "text": [
      "index: 272\n",
      "index: 273\n",
      "index: 274\n"
     ]
    },
    {
     "name": "stderr",
     "output_type": "stream",
     "text": [
      "d:\\ProgramData\\Anaconda3\\lib\\site-packages\\pandas\\core\\reshape\\merge.py:522: UserWarning: merging between different levels can give an unintended result (1 levels on the left, 2 on the right)\n",
      "  warnings.warn(msg, UserWarning)\n"
     ]
    },
    {
     "name": "stdout",
     "output_type": "stream",
     "text": [
      "index: 275\n",
      "index: 276\n",
      "index: 277\n"
     ]
    },
    {
     "name": "stderr",
     "output_type": "stream",
     "text": [
      "d:\\ProgramData\\Anaconda3\\lib\\site-packages\\pandas\\core\\reshape\\merge.py:522: UserWarning: merging between different levels can give an unintended result (1 levels on the left, 2 on the right)\n",
      "  warnings.warn(msg, UserWarning)\n"
     ]
    },
    {
     "name": "stdout",
     "output_type": "stream",
     "text": [
      "index: 278\n",
      "index: 279\n",
      "index: 280\n"
     ]
    },
    {
     "name": "stderr",
     "output_type": "stream",
     "text": [
      "d:\\ProgramData\\Anaconda3\\lib\\site-packages\\pandas\\core\\reshape\\merge.py:522: UserWarning: merging between different levels can give an unintended result (1 levels on the left, 2 on the right)\n",
      "  warnings.warn(msg, UserWarning)\n"
     ]
    },
    {
     "name": "stdout",
     "output_type": "stream",
     "text": [
      "index: 281\n",
      "index: 282\n",
      "index: 283\n"
     ]
    },
    {
     "name": "stderr",
     "output_type": "stream",
     "text": [
      "d:\\ProgramData\\Anaconda3\\lib\\site-packages\\pandas\\core\\reshape\\merge.py:522: UserWarning: merging between different levels can give an unintended result (1 levels on the left, 2 on the right)\n",
      "  warnings.warn(msg, UserWarning)\n"
     ]
    },
    {
     "name": "stdout",
     "output_type": "stream",
     "text": [
      "index: 284\n",
      "index: 285\n",
      "index: 286\n"
     ]
    },
    {
     "name": "stderr",
     "output_type": "stream",
     "text": [
      "d:\\ProgramData\\Anaconda3\\lib\\site-packages\\pandas\\core\\reshape\\merge.py:522: UserWarning: merging between different levels can give an unintended result (1 levels on the left, 2 on the right)\n",
      "  warnings.warn(msg, UserWarning)\n"
     ]
    },
    {
     "name": "stdout",
     "output_type": "stream",
     "text": [
      "index: 287\n",
      "index: 288\n",
      "index: 289\n"
     ]
    },
    {
     "name": "stderr",
     "output_type": "stream",
     "text": [
      "d:\\ProgramData\\Anaconda3\\lib\\site-packages\\pandas\\core\\reshape\\merge.py:522: UserWarning: merging between different levels can give an unintended result (1 levels on the left, 2 on the right)\n",
      "  warnings.warn(msg, UserWarning)\n"
     ]
    },
    {
     "name": "stdout",
     "output_type": "stream",
     "text": [
      "index: 290\n",
      "index: 291\n",
      "index: 292\n"
     ]
    },
    {
     "name": "stderr",
     "output_type": "stream",
     "text": [
      "d:\\ProgramData\\Anaconda3\\lib\\site-packages\\pandas\\core\\reshape\\merge.py:522: UserWarning: merging between different levels can give an unintended result (1 levels on the left, 2 on the right)\n",
      "  warnings.warn(msg, UserWarning)\n"
     ]
    },
    {
     "name": "stdout",
     "output_type": "stream",
     "text": [
      "index: 293\n",
      "index: 294\n"
     ]
    },
    {
     "name": "stderr",
     "output_type": "stream",
     "text": [
      "d:\\ProgramData\\Anaconda3\\lib\\site-packages\\pandas\\core\\reshape\\merge.py:522: UserWarning: merging between different levels can give an unintended result (1 levels on the left, 2 on the right)\n",
      "  warnings.warn(msg, UserWarning)\n"
     ]
    },
    {
     "name": "stdout",
     "output_type": "stream",
     "text": [
      "index: 295\n",
      "index: 296\n",
      "index: 297\n"
     ]
    },
    {
     "name": "stderr",
     "output_type": "stream",
     "text": [
      "d:\\ProgramData\\Anaconda3\\lib\\site-packages\\pandas\\core\\reshape\\merge.py:522: UserWarning: merging between different levels can give an unintended result (1 levels on the left, 2 on the right)\n",
      "  warnings.warn(msg, UserWarning)\n"
     ]
    },
    {
     "name": "stdout",
     "output_type": "stream",
     "text": [
      "index: 298\n",
      "index: 299\n",
      "index: 300\n"
     ]
    },
    {
     "name": "stderr",
     "output_type": "stream",
     "text": [
      "d:\\ProgramData\\Anaconda3\\lib\\site-packages\\pandas\\core\\reshape\\merge.py:522: UserWarning: merging between different levels can give an unintended result (1 levels on the left, 2 on the right)\n",
      "  warnings.warn(msg, UserWarning)\n"
     ]
    },
    {
     "name": "stdout",
     "output_type": "stream",
     "text": [
      "index: 301\n",
      "index: 302\n",
      "index: 303\n"
     ]
    },
    {
     "name": "stderr",
     "output_type": "stream",
     "text": [
      "d:\\ProgramData\\Anaconda3\\lib\\site-packages\\pandas\\core\\reshape\\merge.py:522: UserWarning: merging between different levels can give an unintended result (1 levels on the left, 2 on the right)\n",
      "  warnings.warn(msg, UserWarning)\n"
     ]
    },
    {
     "name": "stdout",
     "output_type": "stream",
     "text": [
      "index: 304\n",
      "index: 305\n",
      "index: 306\n"
     ]
    },
    {
     "name": "stderr",
     "output_type": "stream",
     "text": [
      "d:\\ProgramData\\Anaconda3\\lib\\site-packages\\pandas\\core\\reshape\\merge.py:522: UserWarning: merging between different levels can give an unintended result (1 levels on the left, 2 on the right)\n",
      "  warnings.warn(msg, UserWarning)\n"
     ]
    },
    {
     "name": "stdout",
     "output_type": "stream",
     "text": [
      "index: 307\n",
      "index: 308\n",
      "index: 309\n"
     ]
    },
    {
     "name": "stderr",
     "output_type": "stream",
     "text": [
      "d:\\ProgramData\\Anaconda3\\lib\\site-packages\\pandas\\core\\reshape\\merge.py:522: UserWarning: merging between different levels can give an unintended result (1 levels on the left, 2 on the right)\n",
      "  warnings.warn(msg, UserWarning)\n"
     ]
    },
    {
     "name": "stdout",
     "output_type": "stream",
     "text": [
      "index: 310\n",
      "index: 311\n",
      "index: 312\n"
     ]
    },
    {
     "name": "stderr",
     "output_type": "stream",
     "text": [
      "d:\\ProgramData\\Anaconda3\\lib\\site-packages\\pandas\\core\\reshape\\merge.py:522: UserWarning: merging between different levels can give an unintended result (1 levels on the left, 2 on the right)\n",
      "  warnings.warn(msg, UserWarning)\n"
     ]
    },
    {
     "name": "stdout",
     "output_type": "stream",
     "text": [
      "index: 313\n",
      "index: 314\n",
      "index: 315\n"
     ]
    },
    {
     "name": "stderr",
     "output_type": "stream",
     "text": [
      "d:\\ProgramData\\Anaconda3\\lib\\site-packages\\pandas\\core\\reshape\\merge.py:522: UserWarning: merging between different levels can give an unintended result (1 levels on the left, 2 on the right)\n",
      "  warnings.warn(msg, UserWarning)\n"
     ]
    },
    {
     "name": "stdout",
     "output_type": "stream",
     "text": [
      "index: 316\n",
      "index: 317\n"
     ]
    },
    {
     "name": "stderr",
     "output_type": "stream",
     "text": [
      "d:\\ProgramData\\Anaconda3\\lib\\site-packages\\pandas\\core\\reshape\\merge.py:522: UserWarning: merging between different levels can give an unintended result (1 levels on the left, 2 on the right)\n",
      "  warnings.warn(msg, UserWarning)\n"
     ]
    },
    {
     "name": "stdout",
     "output_type": "stream",
     "text": [
      "index: 318\n",
      "index: 319\n",
      "index: 320\n"
     ]
    },
    {
     "name": "stderr",
     "output_type": "stream",
     "text": [
      "d:\\ProgramData\\Anaconda3\\lib\\site-packages\\pandas\\core\\reshape\\merge.py:522: UserWarning: merging between different levels can give an unintended result (1 levels on the left, 2 on the right)\n",
      "  warnings.warn(msg, UserWarning)\n"
     ]
    },
    {
     "name": "stdout",
     "output_type": "stream",
     "text": [
      "index: 321\n",
      "index: 322\n",
      "index: 323\n"
     ]
    },
    {
     "name": "stderr",
     "output_type": "stream",
     "text": [
      "d:\\ProgramData\\Anaconda3\\lib\\site-packages\\pandas\\core\\reshape\\merge.py:522: UserWarning: merging between different levels can give an unintended result (1 levels on the left, 2 on the right)\n",
      "  warnings.warn(msg, UserWarning)\n"
     ]
    },
    {
     "name": "stdout",
     "output_type": "stream",
     "text": [
      "index: 324\n",
      "index: 325\n",
      "index: 326\n"
     ]
    },
    {
     "name": "stderr",
     "output_type": "stream",
     "text": [
      "d:\\ProgramData\\Anaconda3\\lib\\site-packages\\pandas\\core\\reshape\\merge.py:522: UserWarning: merging between different levels can give an unintended result (1 levels on the left, 2 on the right)\n",
      "  warnings.warn(msg, UserWarning)\n"
     ]
    },
    {
     "name": "stdout",
     "output_type": "stream",
     "text": [
      "index: 327\n",
      "index: 328\n",
      "index: 329\n"
     ]
    },
    {
     "name": "stderr",
     "output_type": "stream",
     "text": [
      "d:\\ProgramData\\Anaconda3\\lib\\site-packages\\pandas\\core\\reshape\\merge.py:522: UserWarning: merging between different levels can give an unintended result (1 levels on the left, 2 on the right)\n",
      "  warnings.warn(msg, UserWarning)\n"
     ]
    },
    {
     "name": "stdout",
     "output_type": "stream",
     "text": [
      "index: 330\n",
      "index: 331\n",
      "index: 332\n"
     ]
    },
    {
     "name": "stderr",
     "output_type": "stream",
     "text": [
      "d:\\ProgramData\\Anaconda3\\lib\\site-packages\\pandas\\core\\reshape\\merge.py:522: UserWarning: merging between different levels can give an unintended result (1 levels on the left, 2 on the right)\n",
      "  warnings.warn(msg, UserWarning)\n"
     ]
    },
    {
     "name": "stdout",
     "output_type": "stream",
     "text": [
      "index: 333\n",
      "index: 334\n",
      "index: 335\n"
     ]
    },
    {
     "name": "stderr",
     "output_type": "stream",
     "text": [
      "d:\\ProgramData\\Anaconda3\\lib\\site-packages\\pandas\\core\\reshape\\merge.py:522: UserWarning: merging between different levels can give an unintended result (1 levels on the left, 2 on the right)\n",
      "  warnings.warn(msg, UserWarning)\n"
     ]
    },
    {
     "name": "stdout",
     "output_type": "stream",
     "text": [
      "index: 336\n",
      "index: 337\n",
      "index: 338\n"
     ]
    },
    {
     "name": "stderr",
     "output_type": "stream",
     "text": [
      "d:\\ProgramData\\Anaconda3\\lib\\site-packages\\pandas\\core\\reshape\\merge.py:522: UserWarning: merging between different levels can give an unintended result (1 levels on the left, 2 on the right)\n",
      "  warnings.warn(msg, UserWarning)\n"
     ]
    },
    {
     "name": "stdout",
     "output_type": "stream",
     "text": [
      "index: 339\n",
      "index: 340\n"
     ]
    },
    {
     "name": "stderr",
     "output_type": "stream",
     "text": [
      "d:\\ProgramData\\Anaconda3\\lib\\site-packages\\pandas\\core\\reshape\\merge.py:522: UserWarning: merging between different levels can give an unintended result (1 levels on the left, 2 on the right)\n",
      "  warnings.warn(msg, UserWarning)\n"
     ]
    },
    {
     "name": "stdout",
     "output_type": "stream",
     "text": [
      "index: 341\n",
      "index: 342\n",
      "index: 343\n"
     ]
    },
    {
     "name": "stderr",
     "output_type": "stream",
     "text": [
      "d:\\ProgramData\\Anaconda3\\lib\\site-packages\\pandas\\core\\reshape\\merge.py:522: UserWarning: merging between different levels can give an unintended result (1 levels on the left, 2 on the right)\n",
      "  warnings.warn(msg, UserWarning)\n"
     ]
    },
    {
     "name": "stdout",
     "output_type": "stream",
     "text": [
      "index: 344\n",
      "index: 345\n",
      "index: 346\n"
     ]
    },
    {
     "name": "stderr",
     "output_type": "stream",
     "text": [
      "d:\\ProgramData\\Anaconda3\\lib\\site-packages\\pandas\\core\\reshape\\merge.py:522: UserWarning: merging between different levels can give an unintended result (1 levels on the left, 2 on the right)\n",
      "  warnings.warn(msg, UserWarning)\n"
     ]
    },
    {
     "name": "stdout",
     "output_type": "stream",
     "text": [
      "index: 347\n",
      "index: 348\n",
      "index: 349\n"
     ]
    },
    {
     "name": "stderr",
     "output_type": "stream",
     "text": [
      "d:\\ProgramData\\Anaconda3\\lib\\site-packages\\pandas\\core\\reshape\\merge.py:522: UserWarning: merging between different levels can give an unintended result (1 levels on the left, 2 on the right)\n",
      "  warnings.warn(msg, UserWarning)\n"
     ]
    },
    {
     "name": "stdout",
     "output_type": "stream",
     "text": [
      "index: 350\n",
      "index: 351\n",
      "index: 352\n"
     ]
    },
    {
     "name": "stderr",
     "output_type": "stream",
     "text": [
      "d:\\ProgramData\\Anaconda3\\lib\\site-packages\\pandas\\core\\reshape\\merge.py:522: UserWarning: merging between different levels can give an unintended result (1 levels on the left, 2 on the right)\n",
      "  warnings.warn(msg, UserWarning)\n"
     ]
    },
    {
     "name": "stdout",
     "output_type": "stream",
     "text": [
      "index: 353\n",
      "index: 354\n",
      "index: 355\n"
     ]
    },
    {
     "name": "stderr",
     "output_type": "stream",
     "text": [
      "d:\\ProgramData\\Anaconda3\\lib\\site-packages\\pandas\\core\\reshape\\merge.py:522: UserWarning: merging between different levels can give an unintended result (1 levels on the left, 2 on the right)\n",
      "  warnings.warn(msg, UserWarning)\n"
     ]
    },
    {
     "name": "stdout",
     "output_type": "stream",
     "text": [
      "index: 356\n",
      "index: 357\n",
      "index: 358\n"
     ]
    },
    {
     "name": "stderr",
     "output_type": "stream",
     "text": [
      "d:\\ProgramData\\Anaconda3\\lib\\site-packages\\pandas\\core\\reshape\\merge.py:522: UserWarning: merging between different levels can give an unintended result (1 levels on the left, 2 on the right)\n",
      "  warnings.warn(msg, UserWarning)\n"
     ]
    },
    {
     "name": "stdout",
     "output_type": "stream",
     "text": [
      "index: 359\n",
      "index: 360\n",
      "index: 361\n"
     ]
    },
    {
     "name": "stderr",
     "output_type": "stream",
     "text": [
      "d:\\ProgramData\\Anaconda3\\lib\\site-packages\\pandas\\core\\reshape\\merge.py:522: UserWarning: merging between different levels can give an unintended result (1 levels on the left, 2 on the right)\n",
      "  warnings.warn(msg, UserWarning)\n"
     ]
    },
    {
     "name": "stdout",
     "output_type": "stream",
     "text": [
      "index: 362\n",
      "index: 363\n"
     ]
    },
    {
     "name": "stderr",
     "output_type": "stream",
     "text": [
      "d:\\ProgramData\\Anaconda3\\lib\\site-packages\\pandas\\core\\reshape\\merge.py:522: UserWarning: merging between different levels can give an unintended result (1 levels on the left, 2 on the right)\n",
      "  warnings.warn(msg, UserWarning)\n"
     ]
    },
    {
     "name": "stdout",
     "output_type": "stream",
     "text": [
      "index: 364\n",
      "index: 365\n",
      "index: 366\n"
     ]
    },
    {
     "name": "stderr",
     "output_type": "stream",
     "text": [
      "d:\\ProgramData\\Anaconda3\\lib\\site-packages\\pandas\\core\\reshape\\merge.py:522: UserWarning: merging between different levels can give an unintended result (1 levels on the left, 2 on the right)\n",
      "  warnings.warn(msg, UserWarning)\n"
     ]
    },
    {
     "name": "stdout",
     "output_type": "stream",
     "text": [
      "index: 367\n",
      "index: 368\n",
      "index: 369\n"
     ]
    },
    {
     "name": "stderr",
     "output_type": "stream",
     "text": [
      "d:\\ProgramData\\Anaconda3\\lib\\site-packages\\pandas\\core\\reshape\\merge.py:522: UserWarning: merging between different levels can give an unintended result (1 levels on the left, 2 on the right)\n",
      "  warnings.warn(msg, UserWarning)\n"
     ]
    },
    {
     "name": "stdout",
     "output_type": "stream",
     "text": [
      "index: 370\n",
      "index: 371\n",
      "index: 372\n"
     ]
    },
    {
     "name": "stderr",
     "output_type": "stream",
     "text": [
      "d:\\ProgramData\\Anaconda3\\lib\\site-packages\\pandas\\core\\reshape\\merge.py:522: UserWarning: merging between different levels can give an unintended result (1 levels on the left, 2 on the right)\n",
      "  warnings.warn(msg, UserWarning)\n"
     ]
    },
    {
     "name": "stdout",
     "output_type": "stream",
     "text": [
      "index: 373\n",
      "index: 374\n",
      "index: 375\n"
     ]
    },
    {
     "name": "stderr",
     "output_type": "stream",
     "text": [
      "d:\\ProgramData\\Anaconda3\\lib\\site-packages\\pandas\\core\\reshape\\merge.py:522: UserWarning: merging between different levels can give an unintended result (1 levels on the left, 2 on the right)\n",
      "  warnings.warn(msg, UserWarning)\n"
     ]
    },
    {
     "name": "stdout",
     "output_type": "stream",
     "text": [
      "index: 376\n",
      "index: 377\n",
      "index: 378\n"
     ]
    },
    {
     "name": "stderr",
     "output_type": "stream",
     "text": [
      "d:\\ProgramData\\Anaconda3\\lib\\site-packages\\pandas\\core\\reshape\\merge.py:522: UserWarning: merging between different levels can give an unintended result (1 levels on the left, 2 on the right)\n",
      "  warnings.warn(msg, UserWarning)\n"
     ]
    },
    {
     "name": "stdout",
     "output_type": "stream",
     "text": [
      "index: 379\n",
      "index: 380\n",
      "index: 381\n"
     ]
    },
    {
     "name": "stderr",
     "output_type": "stream",
     "text": [
      "d:\\ProgramData\\Anaconda3\\lib\\site-packages\\pandas\\core\\reshape\\merge.py:522: UserWarning: merging between different levels can give an unintended result (1 levels on the left, 2 on the right)\n",
      "  warnings.warn(msg, UserWarning)\n"
     ]
    },
    {
     "name": "stdout",
     "output_type": "stream",
     "text": [
      "index: 382\n",
      "index: 383\n",
      "index: 384\n"
     ]
    },
    {
     "name": "stderr",
     "output_type": "stream",
     "text": [
      "d:\\ProgramData\\Anaconda3\\lib\\site-packages\\pandas\\core\\reshape\\merge.py:522: UserWarning: merging between different levels can give an unintended result (1 levels on the left, 2 on the right)\n",
      "  warnings.warn(msg, UserWarning)\n"
     ]
    },
    {
     "name": "stdout",
     "output_type": "stream",
     "text": [
      "index: 385\n",
      "index: 386\n"
     ]
    },
    {
     "name": "stderr",
     "output_type": "stream",
     "text": [
      "d:\\ProgramData\\Anaconda3\\lib\\site-packages\\pandas\\core\\reshape\\merge.py:522: UserWarning: merging between different levels can give an unintended result (1 levels on the left, 2 on the right)\n",
      "  warnings.warn(msg, UserWarning)\n"
     ]
    },
    {
     "name": "stdout",
     "output_type": "stream",
     "text": [
      "index: 387\n",
      "index: 388\n",
      "index: 389\n"
     ]
    },
    {
     "name": "stderr",
     "output_type": "stream",
     "text": [
      "d:\\ProgramData\\Anaconda3\\lib\\site-packages\\pandas\\core\\reshape\\merge.py:522: UserWarning: merging between different levels can give an unintended result (1 levels on the left, 2 on the right)\n",
      "  warnings.warn(msg, UserWarning)\n"
     ]
    },
    {
     "name": "stdout",
     "output_type": "stream",
     "text": [
      "index: 390\n",
      "index: 391\n",
      "index: 392\n"
     ]
    },
    {
     "name": "stderr",
     "output_type": "stream",
     "text": [
      "d:\\ProgramData\\Anaconda3\\lib\\site-packages\\pandas\\core\\reshape\\merge.py:522: UserWarning: merging between different levels can give an unintended result (1 levels on the left, 2 on the right)\n",
      "  warnings.warn(msg, UserWarning)\n"
     ]
    },
    {
     "name": "stdout",
     "output_type": "stream",
     "text": [
      "index: 393\n",
      "index: 394\n",
      "index: 395\n"
     ]
    },
    {
     "name": "stderr",
     "output_type": "stream",
     "text": [
      "d:\\ProgramData\\Anaconda3\\lib\\site-packages\\pandas\\core\\reshape\\merge.py:522: UserWarning: merging between different levels can give an unintended result (1 levels on the left, 2 on the right)\n",
      "  warnings.warn(msg, UserWarning)\n"
     ]
    },
    {
     "name": "stdout",
     "output_type": "stream",
     "text": [
      "index: 396\n",
      "index: 397\n",
      "index: 398\n"
     ]
    },
    {
     "name": "stderr",
     "output_type": "stream",
     "text": [
      "d:\\ProgramData\\Anaconda3\\lib\\site-packages\\pandas\\core\\reshape\\merge.py:522: UserWarning: merging between different levels can give an unintended result (1 levels on the left, 2 on the right)\n",
      "  warnings.warn(msg, UserWarning)\n"
     ]
    },
    {
     "name": "stdout",
     "output_type": "stream",
     "text": [
      "index: 399\n",
      "index: 400\n",
      "index: 401\n"
     ]
    },
    {
     "name": "stderr",
     "output_type": "stream",
     "text": [
      "d:\\ProgramData\\Anaconda3\\lib\\site-packages\\pandas\\core\\reshape\\merge.py:522: UserWarning: merging between different levels can give an unintended result (1 levels on the left, 2 on the right)\n",
      "  warnings.warn(msg, UserWarning)\n"
     ]
    },
    {
     "name": "stdout",
     "output_type": "stream",
     "text": [
      "index: 402\n",
      "index: 403\n",
      "index: 404\n"
     ]
    },
    {
     "name": "stderr",
     "output_type": "stream",
     "text": [
      "d:\\ProgramData\\Anaconda3\\lib\\site-packages\\pandas\\core\\reshape\\merge.py:522: UserWarning: merging between different levels can give an unintended result (1 levels on the left, 2 on the right)\n",
      "  warnings.warn(msg, UserWarning)\n"
     ]
    },
    {
     "name": "stdout",
     "output_type": "stream",
     "text": [
      "index: 405\n",
      "index: 406\n",
      "index: 407\n"
     ]
    },
    {
     "name": "stderr",
     "output_type": "stream",
     "text": [
      "d:\\ProgramData\\Anaconda3\\lib\\site-packages\\pandas\\core\\reshape\\merge.py:522: UserWarning: merging between different levels can give an unintended result (1 levels on the left, 2 on the right)\n",
      "  warnings.warn(msg, UserWarning)\n"
     ]
    },
    {
     "name": "stdout",
     "output_type": "stream",
     "text": [
      "index: 408\n",
      "index: 409\n"
     ]
    },
    {
     "name": "stderr",
     "output_type": "stream",
     "text": [
      "d:\\ProgramData\\Anaconda3\\lib\\site-packages\\pandas\\core\\reshape\\merge.py:522: UserWarning: merging between different levels can give an unintended result (1 levels on the left, 2 on the right)\n",
      "  warnings.warn(msg, UserWarning)\n"
     ]
    },
    {
     "name": "stdout",
     "output_type": "stream",
     "text": [
      "index: 410\n",
      "index: 411\n",
      "index: 412\n"
     ]
    },
    {
     "name": "stderr",
     "output_type": "stream",
     "text": [
      "d:\\ProgramData\\Anaconda3\\lib\\site-packages\\pandas\\core\\reshape\\merge.py:522: UserWarning: merging between different levels can give an unintended result (1 levels on the left, 2 on the right)\n",
      "  warnings.warn(msg, UserWarning)\n"
     ]
    },
    {
     "name": "stdout",
     "output_type": "stream",
     "text": [
      "index: 413\n",
      "index: 414\n",
      "index: 415\n"
     ]
    },
    {
     "name": "stderr",
     "output_type": "stream",
     "text": [
      "d:\\ProgramData\\Anaconda3\\lib\\site-packages\\pandas\\core\\reshape\\merge.py:522: UserWarning: merging between different levels can give an unintended result (1 levels on the left, 2 on the right)\n",
      "  warnings.warn(msg, UserWarning)\n"
     ]
    },
    {
     "name": "stdout",
     "output_type": "stream",
     "text": [
      "index: 416\n",
      "index: 417\n",
      "index: 418\n"
     ]
    },
    {
     "name": "stderr",
     "output_type": "stream",
     "text": [
      "d:\\ProgramData\\Anaconda3\\lib\\site-packages\\pandas\\core\\reshape\\merge.py:522: UserWarning: merging between different levels can give an unintended result (1 levels on the left, 2 on the right)\n",
      "  warnings.warn(msg, UserWarning)\n"
     ]
    },
    {
     "name": "stdout",
     "output_type": "stream",
     "text": [
      "index: 419\n",
      "index: 420\n",
      "index: 421\n"
     ]
    },
    {
     "name": "stderr",
     "output_type": "stream",
     "text": [
      "d:\\ProgramData\\Anaconda3\\lib\\site-packages\\pandas\\core\\reshape\\merge.py:522: UserWarning: merging between different levels can give an unintended result (1 levels on the left, 2 on the right)\n",
      "  warnings.warn(msg, UserWarning)\n"
     ]
    },
    {
     "name": "stdout",
     "output_type": "stream",
     "text": [
      "index: 422\n",
      "index: 423\n",
      "index: 424\n"
     ]
    },
    {
     "name": "stderr",
     "output_type": "stream",
     "text": [
      "d:\\ProgramData\\Anaconda3\\lib\\site-packages\\pandas\\core\\reshape\\merge.py:522: UserWarning: merging between different levels can give an unintended result (1 levels on the left, 2 on the right)\n",
      "  warnings.warn(msg, UserWarning)\n"
     ]
    },
    {
     "name": "stdout",
     "output_type": "stream",
     "text": [
      "index: 425\n",
      "index: 426\n",
      "index: 427\n"
     ]
    },
    {
     "name": "stderr",
     "output_type": "stream",
     "text": [
      "d:\\ProgramData\\Anaconda3\\lib\\site-packages\\pandas\\core\\reshape\\merge.py:522: UserWarning: merging between different levels can give an unintended result (1 levels on the left, 2 on the right)\n",
      "  warnings.warn(msg, UserWarning)\n"
     ]
    },
    {
     "name": "stdout",
     "output_type": "stream",
     "text": [
      "index: 428\n",
      "index: 429\n",
      "index: 430\n"
     ]
    },
    {
     "name": "stderr",
     "output_type": "stream",
     "text": [
      "d:\\ProgramData\\Anaconda3\\lib\\site-packages\\pandas\\core\\reshape\\merge.py:522: UserWarning: merging between different levels can give an unintended result (1 levels on the left, 2 on the right)\n",
      "  warnings.warn(msg, UserWarning)\n"
     ]
    },
    {
     "name": "stdout",
     "output_type": "stream",
     "text": [
      "index: 431\n",
      "index: 432\n"
     ]
    },
    {
     "name": "stderr",
     "output_type": "stream",
     "text": [
      "d:\\ProgramData\\Anaconda3\\lib\\site-packages\\pandas\\core\\reshape\\merge.py:522: UserWarning: merging between different levels can give an unintended result (1 levels on the left, 2 on the right)\n",
      "  warnings.warn(msg, UserWarning)\n"
     ]
    },
    {
     "name": "stdout",
     "output_type": "stream",
     "text": [
      "index: 433\n",
      "index: 434\n",
      "index: 435\n"
     ]
    },
    {
     "name": "stderr",
     "output_type": "stream",
     "text": [
      "d:\\ProgramData\\Anaconda3\\lib\\site-packages\\pandas\\core\\reshape\\merge.py:522: UserWarning: merging between different levels can give an unintended result (1 levels on the left, 2 on the right)\n",
      "  warnings.warn(msg, UserWarning)\n"
     ]
    },
    {
     "name": "stdout",
     "output_type": "stream",
     "text": [
      "index: 436\n",
      "index: 437\n",
      "index: 438\n"
     ]
    },
    {
     "name": "stderr",
     "output_type": "stream",
     "text": [
      "d:\\ProgramData\\Anaconda3\\lib\\site-packages\\pandas\\core\\reshape\\merge.py:522: UserWarning: merging between different levels can give an unintended result (1 levels on the left, 2 on the right)\n",
      "  warnings.warn(msg, UserWarning)\n"
     ]
    },
    {
     "name": "stdout",
     "output_type": "stream",
     "text": [
      "index: 439\n",
      "index: 440\n",
      "index: 441\n"
     ]
    },
    {
     "name": "stderr",
     "output_type": "stream",
     "text": [
      "d:\\ProgramData\\Anaconda3\\lib\\site-packages\\pandas\\core\\reshape\\merge.py:522: UserWarning: merging between different levels can give an unintended result (1 levels on the left, 2 on the right)\n",
      "  warnings.warn(msg, UserWarning)\n"
     ]
    },
    {
     "name": "stdout",
     "output_type": "stream",
     "text": [
      "index: 442\n",
      "index: 443\n",
      "index: 444\n"
     ]
    },
    {
     "name": "stderr",
     "output_type": "stream",
     "text": [
      "d:\\ProgramData\\Anaconda3\\lib\\site-packages\\pandas\\core\\reshape\\merge.py:522: UserWarning: merging between different levels can give an unintended result (1 levels on the left, 2 on the right)\n",
      "  warnings.warn(msg, UserWarning)\n"
     ]
    },
    {
     "name": "stdout",
     "output_type": "stream",
     "text": [
      "index: 445\n",
      "index: 446\n",
      "index: 447\n"
     ]
    },
    {
     "name": "stderr",
     "output_type": "stream",
     "text": [
      "d:\\ProgramData\\Anaconda3\\lib\\site-packages\\pandas\\core\\reshape\\merge.py:522: UserWarning: merging between different levels can give an unintended result (1 levels on the left, 2 on the right)\n",
      "  warnings.warn(msg, UserWarning)\n"
     ]
    },
    {
     "name": "stdout",
     "output_type": "stream",
     "text": [
      "index: 448\n",
      "index: 449\n",
      "index: 450\n"
     ]
    },
    {
     "name": "stderr",
     "output_type": "stream",
     "text": [
      "d:\\ProgramData\\Anaconda3\\lib\\site-packages\\pandas\\core\\reshape\\merge.py:522: UserWarning: merging between different levels can give an unintended result (1 levels on the left, 2 on the right)\n",
      "  warnings.warn(msg, UserWarning)\n"
     ]
    },
    {
     "name": "stdout",
     "output_type": "stream",
     "text": [
      "index: 451\n",
      "index: 452\n"
     ]
    },
    {
     "name": "stderr",
     "output_type": "stream",
     "text": [
      "d:\\ProgramData\\Anaconda3\\lib\\site-packages\\pandas\\core\\reshape\\merge.py:522: UserWarning: merging between different levels can give an unintended result (1 levels on the left, 2 on the right)\n",
      "  warnings.warn(msg, UserWarning)\n"
     ]
    },
    {
     "name": "stdout",
     "output_type": "stream",
     "text": [
      "index: 453\n",
      "index: 454\n",
      "index: 455\n"
     ]
    },
    {
     "name": "stderr",
     "output_type": "stream",
     "text": [
      "d:\\ProgramData\\Anaconda3\\lib\\site-packages\\pandas\\core\\reshape\\merge.py:522: UserWarning: merging between different levels can give an unintended result (1 levels on the left, 2 on the right)\n",
      "  warnings.warn(msg, UserWarning)\n"
     ]
    },
    {
     "name": "stdout",
     "output_type": "stream",
     "text": [
      "index: 456\n",
      "index: 457\n",
      "index: 458\n"
     ]
    },
    {
     "name": "stderr",
     "output_type": "stream",
     "text": [
      "d:\\ProgramData\\Anaconda3\\lib\\site-packages\\pandas\\core\\reshape\\merge.py:522: UserWarning: merging between different levels can give an unintended result (1 levels on the left, 2 on the right)\n",
      "  warnings.warn(msg, UserWarning)\n"
     ]
    },
    {
     "name": "stdout",
     "output_type": "stream",
     "text": [
      "index: 459\n",
      "index: 460\n",
      "index: 461\n"
     ]
    },
    {
     "name": "stderr",
     "output_type": "stream",
     "text": [
      "d:\\ProgramData\\Anaconda3\\lib\\site-packages\\pandas\\core\\reshape\\merge.py:522: UserWarning: merging between different levels can give an unintended result (1 levels on the left, 2 on the right)\n",
      "  warnings.warn(msg, UserWarning)\n"
     ]
    },
    {
     "name": "stdout",
     "output_type": "stream",
     "text": [
      "index: 462\n",
      "index: 463\n",
      "index: 464\n"
     ]
    },
    {
     "name": "stderr",
     "output_type": "stream",
     "text": [
      "d:\\ProgramData\\Anaconda3\\lib\\site-packages\\pandas\\core\\reshape\\merge.py:522: UserWarning: merging between different levels can give an unintended result (1 levels on the left, 2 on the right)\n",
      "  warnings.warn(msg, UserWarning)\n"
     ]
    },
    {
     "name": "stdout",
     "output_type": "stream",
     "text": [
      "index: 465\n",
      "index: 466\n",
      "index: 467\n"
     ]
    },
    {
     "name": "stderr",
     "output_type": "stream",
     "text": [
      "d:\\ProgramData\\Anaconda3\\lib\\site-packages\\pandas\\core\\reshape\\merge.py:522: UserWarning: merging between different levels can give an unintended result (1 levels on the left, 2 on the right)\n",
      "  warnings.warn(msg, UserWarning)\n"
     ]
    },
    {
     "name": "stdout",
     "output_type": "stream",
     "text": [
      "index: 468\n",
      "index: 469\n",
      "index: 470\n"
     ]
    },
    {
     "name": "stderr",
     "output_type": "stream",
     "text": [
      "d:\\ProgramData\\Anaconda3\\lib\\site-packages\\pandas\\core\\reshape\\merge.py:522: UserWarning: merging between different levels can give an unintended result (1 levels on the left, 2 on the right)\n",
      "  warnings.warn(msg, UserWarning)\n"
     ]
    },
    {
     "name": "stdout",
     "output_type": "stream",
     "text": [
      "index: 471\n",
      "index: 472\n",
      "index: 473\n"
     ]
    },
    {
     "name": "stderr",
     "output_type": "stream",
     "text": [
      "d:\\ProgramData\\Anaconda3\\lib\\site-packages\\pandas\\core\\reshape\\merge.py:522: UserWarning: merging between different levels can give an unintended result (1 levels on the left, 2 on the right)\n",
      "  warnings.warn(msg, UserWarning)\n"
     ]
    },
    {
     "name": "stdout",
     "output_type": "stream",
     "text": [
      "index: 474\n",
      "index: 475\n"
     ]
    },
    {
     "name": "stderr",
     "output_type": "stream",
     "text": [
      "d:\\ProgramData\\Anaconda3\\lib\\site-packages\\pandas\\core\\reshape\\merge.py:522: UserWarning: merging between different levels can give an unintended result (1 levels on the left, 2 on the right)\n",
      "  warnings.warn(msg, UserWarning)\n"
     ]
    },
    {
     "name": "stdout",
     "output_type": "stream",
     "text": [
      "index: 476\n",
      "index: 477\n",
      "index: 478\n"
     ]
    },
    {
     "name": "stderr",
     "output_type": "stream",
     "text": [
      "d:\\ProgramData\\Anaconda3\\lib\\site-packages\\pandas\\core\\reshape\\merge.py:522: UserWarning: merging between different levels can give an unintended result (1 levels on the left, 2 on the right)\n",
      "  warnings.warn(msg, UserWarning)\n"
     ]
    },
    {
     "name": "stdout",
     "output_type": "stream",
     "text": [
      "index: 479\n",
      "index: 480\n",
      "index: 481\n"
     ]
    },
    {
     "name": "stderr",
     "output_type": "stream",
     "text": [
      "d:\\ProgramData\\Anaconda3\\lib\\site-packages\\pandas\\core\\reshape\\merge.py:522: UserWarning: merging between different levels can give an unintended result (1 levels on the left, 2 on the right)\n",
      "  warnings.warn(msg, UserWarning)\n"
     ]
    },
    {
     "name": "stdout",
     "output_type": "stream",
     "text": [
      "index: 482\n",
      "index: 483\n",
      "index: 484\n"
     ]
    },
    {
     "name": "stderr",
     "output_type": "stream",
     "text": [
      "d:\\ProgramData\\Anaconda3\\lib\\site-packages\\pandas\\core\\reshape\\merge.py:522: UserWarning: merging between different levels can give an unintended result (1 levels on the left, 2 on the right)\n",
      "  warnings.warn(msg, UserWarning)\n"
     ]
    },
    {
     "name": "stdout",
     "output_type": "stream",
     "text": [
      "index: 485\n",
      "index: 486\n",
      "index: 487\n"
     ]
    },
    {
     "name": "stderr",
     "output_type": "stream",
     "text": [
      "d:\\ProgramData\\Anaconda3\\lib\\site-packages\\pandas\\core\\reshape\\merge.py:522: UserWarning: merging between different levels can give an unintended result (1 levels on the left, 2 on the right)\n",
      "  warnings.warn(msg, UserWarning)\n"
     ]
    },
    {
     "name": "stdout",
     "output_type": "stream",
     "text": [
      "index: 488\n",
      "index: 489\n",
      "index: 490\n"
     ]
    },
    {
     "name": "stderr",
     "output_type": "stream",
     "text": [
      "d:\\ProgramData\\Anaconda3\\lib\\site-packages\\pandas\\core\\reshape\\merge.py:522: UserWarning: merging between different levels can give an unintended result (1 levels on the left, 2 on the right)\n",
      "  warnings.warn(msg, UserWarning)\n"
     ]
    },
    {
     "name": "stdout",
     "output_type": "stream",
     "text": [
      "index: 491\n",
      "index: 492\n",
      "index: 493\n"
     ]
    },
    {
     "name": "stderr",
     "output_type": "stream",
     "text": [
      "d:\\ProgramData\\Anaconda3\\lib\\site-packages\\pandas\\core\\reshape\\merge.py:522: UserWarning: merging between different levels can give an unintended result (1 levels on the left, 2 on the right)\n",
      "  warnings.warn(msg, UserWarning)\n"
     ]
    },
    {
     "name": "stdout",
     "output_type": "stream",
     "text": [
      "index: 494\n",
      "index: 495\n",
      "index: 496\n"
     ]
    },
    {
     "name": "stderr",
     "output_type": "stream",
     "text": [
      "d:\\ProgramData\\Anaconda3\\lib\\site-packages\\pandas\\core\\reshape\\merge.py:522: UserWarning: merging between different levels can give an unintended result (1 levels on the left, 2 on the right)\n",
      "  warnings.warn(msg, UserWarning)\n"
     ]
    },
    {
     "name": "stdout",
     "output_type": "stream",
     "text": [
      "index: 497\n",
      "index: 498\n"
     ]
    },
    {
     "name": "stderr",
     "output_type": "stream",
     "text": [
      "d:\\ProgramData\\Anaconda3\\lib\\site-packages\\pandas\\core\\reshape\\merge.py:522: UserWarning: merging between different levels can give an unintended result (1 levels on the left, 2 on the right)\n",
      "  warnings.warn(msg, UserWarning)\n"
     ]
    },
    {
     "name": "stdout",
     "output_type": "stream",
     "text": [
      "index: 499\n",
      "index: 500\n",
      "index: 501\n"
     ]
    },
    {
     "name": "stderr",
     "output_type": "stream",
     "text": [
      "d:\\ProgramData\\Anaconda3\\lib\\site-packages\\pandas\\core\\reshape\\merge.py:522: UserWarning: merging between different levels can give an unintended result (1 levels on the left, 2 on the right)\n",
      "  warnings.warn(msg, UserWarning)\n"
     ]
    },
    {
     "name": "stdout",
     "output_type": "stream",
     "text": [
      "index: 502\n",
      "index: 503\n",
      "index: 504\n"
     ]
    },
    {
     "name": "stderr",
     "output_type": "stream",
     "text": [
      "d:\\ProgramData\\Anaconda3\\lib\\site-packages\\pandas\\core\\reshape\\merge.py:522: UserWarning: merging between different levels can give an unintended result (1 levels on the left, 2 on the right)\n",
      "  warnings.warn(msg, UserWarning)\n"
     ]
    },
    {
     "name": "stdout",
     "output_type": "stream",
     "text": [
      "index: 505\n",
      "index: 506\n",
      "index: 507\n"
     ]
    },
    {
     "name": "stderr",
     "output_type": "stream",
     "text": [
      "d:\\ProgramData\\Anaconda3\\lib\\site-packages\\pandas\\core\\reshape\\merge.py:522: UserWarning: merging between different levels can give an unintended result (1 levels on the left, 2 on the right)\n",
      "  warnings.warn(msg, UserWarning)\n"
     ]
    },
    {
     "name": "stdout",
     "output_type": "stream",
     "text": [
      "index: 508\n",
      "index: 509\n",
      "index: 510\n"
     ]
    },
    {
     "name": "stderr",
     "output_type": "stream",
     "text": [
      "d:\\ProgramData\\Anaconda3\\lib\\site-packages\\pandas\\core\\reshape\\merge.py:522: UserWarning: merging between different levels can give an unintended result (1 levels on the left, 2 on the right)\n",
      "  warnings.warn(msg, UserWarning)\n"
     ]
    },
    {
     "name": "stdout",
     "output_type": "stream",
     "text": [
      "index: 511\n",
      "index: 512\n",
      "index: 513\n"
     ]
    },
    {
     "name": "stderr",
     "output_type": "stream",
     "text": [
      "d:\\ProgramData\\Anaconda3\\lib\\site-packages\\pandas\\core\\reshape\\merge.py:522: UserWarning: merging between different levels can give an unintended result (1 levels on the left, 2 on the right)\n",
      "  warnings.warn(msg, UserWarning)\n"
     ]
    },
    {
     "name": "stdout",
     "output_type": "stream",
     "text": [
      "index: 514\n",
      "index: 515\n",
      "index: 516\n"
     ]
    },
    {
     "name": "stderr",
     "output_type": "stream",
     "text": [
      "d:\\ProgramData\\Anaconda3\\lib\\site-packages\\pandas\\core\\reshape\\merge.py:522: UserWarning: merging between different levels can give an unintended result (1 levels on the left, 2 on the right)\n",
      "  warnings.warn(msg, UserWarning)\n"
     ]
    },
    {
     "name": "stdout",
     "output_type": "stream",
     "text": [
      "index: 517\n",
      "index: 518\n"
     ]
    },
    {
     "name": "stderr",
     "output_type": "stream",
     "text": [
      "d:\\ProgramData\\Anaconda3\\lib\\site-packages\\pandas\\core\\reshape\\merge.py:522: UserWarning: merging between different levels can give an unintended result (1 levels on the left, 2 on the right)\n",
      "  warnings.warn(msg, UserWarning)\n"
     ]
    },
    {
     "name": "stdout",
     "output_type": "stream",
     "text": [
      "index: 519\n",
      "index: 520\n",
      "index: 521\n"
     ]
    },
    {
     "name": "stderr",
     "output_type": "stream",
     "text": [
      "d:\\ProgramData\\Anaconda3\\lib\\site-packages\\pandas\\core\\reshape\\merge.py:522: UserWarning: merging between different levels can give an unintended result (1 levels on the left, 2 on the right)\n",
      "  warnings.warn(msg, UserWarning)\n"
     ]
    },
    {
     "name": "stdout",
     "output_type": "stream",
     "text": [
      "index: 522\n",
      "index: 523\n",
      "index: 524\n"
     ]
    },
    {
     "name": "stderr",
     "output_type": "stream",
     "text": [
      "d:\\ProgramData\\Anaconda3\\lib\\site-packages\\pandas\\core\\reshape\\merge.py:522: UserWarning: merging between different levels can give an unintended result (1 levels on the left, 2 on the right)\n",
      "  warnings.warn(msg, UserWarning)\n"
     ]
    },
    {
     "name": "stdout",
     "output_type": "stream",
     "text": [
      "index: 525\n",
      "index: 526\n",
      "index: 527\n"
     ]
    },
    {
     "name": "stderr",
     "output_type": "stream",
     "text": [
      "d:\\ProgramData\\Anaconda3\\lib\\site-packages\\pandas\\core\\reshape\\merge.py:522: UserWarning: merging between different levels can give an unintended result (1 levels on the left, 2 on the right)\n",
      "  warnings.warn(msg, UserWarning)\n"
     ]
    },
    {
     "name": "stdout",
     "output_type": "stream",
     "text": [
      "index: 528\n",
      "index: 529\n",
      "index: 530\n"
     ]
    },
    {
     "name": "stderr",
     "output_type": "stream",
     "text": [
      "d:\\ProgramData\\Anaconda3\\lib\\site-packages\\pandas\\core\\reshape\\merge.py:522: UserWarning: merging between different levels can give an unintended result (1 levels on the left, 2 on the right)\n",
      "  warnings.warn(msg, UserWarning)\n"
     ]
    },
    {
     "name": "stdout",
     "output_type": "stream",
     "text": [
      "index: 531\n",
      "index: 532\n",
      "index: 533\n"
     ]
    },
    {
     "name": "stderr",
     "output_type": "stream",
     "text": [
      "d:\\ProgramData\\Anaconda3\\lib\\site-packages\\pandas\\core\\reshape\\merge.py:522: UserWarning: merging between different levels can give an unintended result (1 levels on the left, 2 on the right)\n",
      "  warnings.warn(msg, UserWarning)\n"
     ]
    },
    {
     "name": "stdout",
     "output_type": "stream",
     "text": [
      "index: 534\n",
      "index: 535\n",
      "index: 536\n"
     ]
    },
    {
     "name": "stderr",
     "output_type": "stream",
     "text": [
      "d:\\ProgramData\\Anaconda3\\lib\\site-packages\\pandas\\core\\reshape\\merge.py:522: UserWarning: merging between different levels can give an unintended result (1 levels on the left, 2 on the right)\n",
      "  warnings.warn(msg, UserWarning)\n"
     ]
    },
    {
     "name": "stdout",
     "output_type": "stream",
     "text": [
      "index: 537\n",
      "index: 538\n"
     ]
    },
    {
     "name": "stderr",
     "output_type": "stream",
     "text": [
      "d:\\ProgramData\\Anaconda3\\lib\\site-packages\\pandas\\core\\reshape\\merge.py:522: UserWarning: merging between different levels can give an unintended result (1 levels on the left, 2 on the right)\n",
      "  warnings.warn(msg, UserWarning)\n"
     ]
    },
    {
     "name": "stdout",
     "output_type": "stream",
     "text": [
      "index: 539\n",
      "index: 540\n",
      "index: 541\n"
     ]
    },
    {
     "name": "stderr",
     "output_type": "stream",
     "text": [
      "d:\\ProgramData\\Anaconda3\\lib\\site-packages\\pandas\\core\\reshape\\merge.py:522: UserWarning: merging between different levels can give an unintended result (1 levels on the left, 2 on the right)\n",
      "  warnings.warn(msg, UserWarning)\n"
     ]
    },
    {
     "name": "stdout",
     "output_type": "stream",
     "text": [
      "index: 542\n",
      "index: 543\n",
      "index: 544\n"
     ]
    },
    {
     "name": "stderr",
     "output_type": "stream",
     "text": [
      "d:\\ProgramData\\Anaconda3\\lib\\site-packages\\pandas\\core\\reshape\\merge.py:522: UserWarning: merging between different levels can give an unintended result (1 levels on the left, 2 on the right)\n",
      "  warnings.warn(msg, UserWarning)\n"
     ]
    },
    {
     "name": "stdout",
     "output_type": "stream",
     "text": [
      "index: 545\n",
      "index: 546\n",
      "index: 547\n"
     ]
    },
    {
     "name": "stderr",
     "output_type": "stream",
     "text": [
      "d:\\ProgramData\\Anaconda3\\lib\\site-packages\\pandas\\core\\reshape\\merge.py:522: UserWarning: merging between different levels can give an unintended result (1 levels on the left, 2 on the right)\n",
      "  warnings.warn(msg, UserWarning)\n"
     ]
    },
    {
     "name": "stdout",
     "output_type": "stream",
     "text": [
      "index: 548\n",
      "index: 549\n",
      "index: 550\n"
     ]
    },
    {
     "name": "stderr",
     "output_type": "stream",
     "text": [
      "d:\\ProgramData\\Anaconda3\\lib\\site-packages\\pandas\\core\\reshape\\merge.py:522: UserWarning: merging between different levels can give an unintended result (1 levels on the left, 2 on the right)\n",
      "  warnings.warn(msg, UserWarning)\n"
     ]
    },
    {
     "name": "stdout",
     "output_type": "stream",
     "text": [
      "index: 551\n",
      "index: 552\n",
      "index: 553\n"
     ]
    },
    {
     "name": "stderr",
     "output_type": "stream",
     "text": [
      "d:\\ProgramData\\Anaconda3\\lib\\site-packages\\pandas\\core\\reshape\\merge.py:522: UserWarning: merging between different levels can give an unintended result (1 levels on the left, 2 on the right)\n",
      "  warnings.warn(msg, UserWarning)\n"
     ]
    },
    {
     "name": "stdout",
     "output_type": "stream",
     "text": [
      "index: 554\n",
      "index: 555\n",
      "index: 556\n"
     ]
    },
    {
     "name": "stderr",
     "output_type": "stream",
     "text": [
      "d:\\ProgramData\\Anaconda3\\lib\\site-packages\\pandas\\core\\reshape\\merge.py:522: UserWarning: merging between different levels can give an unintended result (1 levels on the left, 2 on the right)\n",
      "  warnings.warn(msg, UserWarning)\n"
     ]
    },
    {
     "name": "stdout",
     "output_type": "stream",
     "text": [
      "index: 557\n",
      "index: 558\n",
      "index: 559\n"
     ]
    },
    {
     "name": "stderr",
     "output_type": "stream",
     "text": [
      "d:\\ProgramData\\Anaconda3\\lib\\site-packages\\pandas\\core\\reshape\\merge.py:522: UserWarning: merging between different levels can give an unintended result (1 levels on the left, 2 on the right)\n",
      "  warnings.warn(msg, UserWarning)\n"
     ]
    },
    {
     "name": "stdout",
     "output_type": "stream",
     "text": [
      "index: 560\n",
      "index: 561\n"
     ]
    },
    {
     "name": "stderr",
     "output_type": "stream",
     "text": [
      "d:\\ProgramData\\Anaconda3\\lib\\site-packages\\pandas\\core\\reshape\\merge.py:522: UserWarning: merging between different levels can give an unintended result (1 levels on the left, 2 on the right)\n",
      "  warnings.warn(msg, UserWarning)\n"
     ]
    },
    {
     "name": "stdout",
     "output_type": "stream",
     "text": [
      "index: 562\n",
      "index: 563\n",
      "index: 564\n"
     ]
    },
    {
     "name": "stderr",
     "output_type": "stream",
     "text": [
      "d:\\ProgramData\\Anaconda3\\lib\\site-packages\\pandas\\core\\reshape\\merge.py:522: UserWarning: merging between different levels can give an unintended result (1 levels on the left, 2 on the right)\n",
      "  warnings.warn(msg, UserWarning)\n"
     ]
    },
    {
     "name": "stdout",
     "output_type": "stream",
     "text": [
      "index: 565\n",
      "index: 566\n",
      "index: 567\n"
     ]
    },
    {
     "name": "stderr",
     "output_type": "stream",
     "text": [
      "d:\\ProgramData\\Anaconda3\\lib\\site-packages\\pandas\\core\\reshape\\merge.py:522: UserWarning: merging between different levels can give an unintended result (1 levels on the left, 2 on the right)\n",
      "  warnings.warn(msg, UserWarning)\n"
     ]
    },
    {
     "name": "stdout",
     "output_type": "stream",
     "text": [
      "index: 568\n",
      "index: 569\n",
      "index: 570\n"
     ]
    },
    {
     "name": "stderr",
     "output_type": "stream",
     "text": [
      "d:\\ProgramData\\Anaconda3\\lib\\site-packages\\pandas\\core\\reshape\\merge.py:522: UserWarning: merging between different levels can give an unintended result (1 levels on the left, 2 on the right)\n",
      "  warnings.warn(msg, UserWarning)\n"
     ]
    },
    {
     "name": "stdout",
     "output_type": "stream",
     "text": [
      "index: 571\n",
      "index: 572\n",
      "index: 573\n"
     ]
    },
    {
     "name": "stderr",
     "output_type": "stream",
     "text": [
      "d:\\ProgramData\\Anaconda3\\lib\\site-packages\\pandas\\core\\reshape\\merge.py:522: UserWarning: merging between different levels can give an unintended result (1 levels on the left, 2 on the right)\n",
      "  warnings.warn(msg, UserWarning)\n"
     ]
    },
    {
     "name": "stdout",
     "output_type": "stream",
     "text": [
      "index: 574\n",
      "index: 575\n",
      "index: 576\n"
     ]
    },
    {
     "name": "stderr",
     "output_type": "stream",
     "text": [
      "d:\\ProgramData\\Anaconda3\\lib\\site-packages\\pandas\\core\\reshape\\merge.py:522: UserWarning: merging between different levels can give an unintended result (1 levels on the left, 2 on the right)\n",
      "  warnings.warn(msg, UserWarning)\n"
     ]
    },
    {
     "name": "stdout",
     "output_type": "stream",
     "text": [
      "index: 577\n",
      "index: 578\n",
      "index: 579\n"
     ]
    },
    {
     "name": "stderr",
     "output_type": "stream",
     "text": [
      "d:\\ProgramData\\Anaconda3\\lib\\site-packages\\pandas\\core\\reshape\\merge.py:522: UserWarning: merging between different levels can give an unintended result (1 levels on the left, 2 on the right)\n",
      "  warnings.warn(msg, UserWarning)\n"
     ]
    },
    {
     "name": "stdout",
     "output_type": "stream",
     "text": [
      "index: 580\n",
      "index: 581\n"
     ]
    },
    {
     "name": "stderr",
     "output_type": "stream",
     "text": [
      "d:\\ProgramData\\Anaconda3\\lib\\site-packages\\pandas\\core\\reshape\\merge.py:522: UserWarning: merging between different levels can give an unintended result (1 levels on the left, 2 on the right)\n",
      "  warnings.warn(msg, UserWarning)\n"
     ]
    },
    {
     "name": "stdout",
     "output_type": "stream",
     "text": [
      "index: 582\n",
      "index: 583\n",
      "index: 584\n"
     ]
    },
    {
     "name": "stderr",
     "output_type": "stream",
     "text": [
      "d:\\ProgramData\\Anaconda3\\lib\\site-packages\\pandas\\core\\reshape\\merge.py:522: UserWarning: merging between different levels can give an unintended result (1 levels on the left, 2 on the right)\n",
      "  warnings.warn(msg, UserWarning)\n"
     ]
    },
    {
     "name": "stdout",
     "output_type": "stream",
     "text": [
      "index: 585\n",
      "index: 586\n",
      "index: 587\n"
     ]
    },
    {
     "name": "stderr",
     "output_type": "stream",
     "text": [
      "d:\\ProgramData\\Anaconda3\\lib\\site-packages\\pandas\\core\\reshape\\merge.py:522: UserWarning: merging between different levels can give an unintended result (1 levels on the left, 2 on the right)\n",
      "  warnings.warn(msg, UserWarning)\n"
     ]
    },
    {
     "name": "stdout",
     "output_type": "stream",
     "text": [
      "index: 588\n",
      "index: 589\n",
      "index: 590\n"
     ]
    },
    {
     "name": "stderr",
     "output_type": "stream",
     "text": [
      "d:\\ProgramData\\Anaconda3\\lib\\site-packages\\pandas\\core\\reshape\\merge.py:522: UserWarning: merging between different levels can give an unintended result (1 levels on the left, 2 on the right)\n",
      "  warnings.warn(msg, UserWarning)\n"
     ]
    },
    {
     "name": "stdout",
     "output_type": "stream",
     "text": [
      "index: 591\n",
      "index: 592\n",
      "index: 593\n"
     ]
    },
    {
     "name": "stderr",
     "output_type": "stream",
     "text": [
      "d:\\ProgramData\\Anaconda3\\lib\\site-packages\\pandas\\core\\reshape\\merge.py:522: UserWarning: merging between different levels can give an unintended result (1 levels on the left, 2 on the right)\n",
      "  warnings.warn(msg, UserWarning)\n"
     ]
    },
    {
     "name": "stdout",
     "output_type": "stream",
     "text": [
      "index: 594\n",
      "index: 595\n",
      "index: 596\n"
     ]
    },
    {
     "name": "stderr",
     "output_type": "stream",
     "text": [
      "d:\\ProgramData\\Anaconda3\\lib\\site-packages\\pandas\\core\\reshape\\merge.py:522: UserWarning: merging between different levels can give an unintended result (1 levels on the left, 2 on the right)\n",
      "  warnings.warn(msg, UserWarning)\n"
     ]
    },
    {
     "name": "stdout",
     "output_type": "stream",
     "text": [
      "index: 597\n",
      "index: 598\n",
      "index: 599\n"
     ]
    },
    {
     "name": "stderr",
     "output_type": "stream",
     "text": [
      "d:\\ProgramData\\Anaconda3\\lib\\site-packages\\pandas\\core\\reshape\\merge.py:522: UserWarning: merging between different levels can give an unintended result (1 levels on the left, 2 on the right)\n",
      "  warnings.warn(msg, UserWarning)\n"
     ]
    },
    {
     "name": "stdout",
     "output_type": "stream",
     "text": [
      "index: 600\n",
      "index: 601\n"
     ]
    },
    {
     "name": "stderr",
     "output_type": "stream",
     "text": [
      "d:\\ProgramData\\Anaconda3\\lib\\site-packages\\pandas\\core\\reshape\\merge.py:522: UserWarning: merging between different levels can give an unintended result (1 levels on the left, 2 on the right)\n",
      "  warnings.warn(msg, UserWarning)\n"
     ]
    },
    {
     "name": "stdout",
     "output_type": "stream",
     "text": [
      "index: 602\n",
      "index: 603\n",
      "index: 604\n"
     ]
    },
    {
     "name": "stderr",
     "output_type": "stream",
     "text": [
      "d:\\ProgramData\\Anaconda3\\lib\\site-packages\\pandas\\core\\reshape\\merge.py:522: UserWarning: merging between different levels can give an unintended result (1 levels on the left, 2 on the right)\n",
      "  warnings.warn(msg, UserWarning)\n"
     ]
    },
    {
     "name": "stdout",
     "output_type": "stream",
     "text": [
      "index: 605\n",
      "index: 606\n",
      "index: 607\n"
     ]
    },
    {
     "name": "stderr",
     "output_type": "stream",
     "text": [
      "d:\\ProgramData\\Anaconda3\\lib\\site-packages\\pandas\\core\\reshape\\merge.py:522: UserWarning: merging between different levels can give an unintended result (1 levels on the left, 2 on the right)\n",
      "  warnings.warn(msg, UserWarning)\n"
     ]
    },
    {
     "name": "stdout",
     "output_type": "stream",
     "text": [
      "index: 608\n",
      "index: 609\n",
      "index: 610\n"
     ]
    },
    {
     "name": "stderr",
     "output_type": "stream",
     "text": [
      "d:\\ProgramData\\Anaconda3\\lib\\site-packages\\pandas\\core\\reshape\\merge.py:522: UserWarning: merging between different levels can give an unintended result (1 levels on the left, 2 on the right)\n",
      "  warnings.warn(msg, UserWarning)\n"
     ]
    },
    {
     "name": "stdout",
     "output_type": "stream",
     "text": [
      "index: 611\n",
      "index: 612\n",
      "index: 613\n"
     ]
    },
    {
     "name": "stderr",
     "output_type": "stream",
     "text": [
      "d:\\ProgramData\\Anaconda3\\lib\\site-packages\\pandas\\core\\reshape\\merge.py:522: UserWarning: merging between different levels can give an unintended result (1 levels on the left, 2 on the right)\n",
      "  warnings.warn(msg, UserWarning)\n"
     ]
    },
    {
     "name": "stdout",
     "output_type": "stream",
     "text": [
      "index: 614\n",
      "index: 615\n",
      "index: 616\n"
     ]
    },
    {
     "name": "stderr",
     "output_type": "stream",
     "text": [
      "d:\\ProgramData\\Anaconda3\\lib\\site-packages\\pandas\\core\\reshape\\merge.py:522: UserWarning: merging between different levels can give an unintended result (1 levels on the left, 2 on the right)\n",
      "  warnings.warn(msg, UserWarning)\n"
     ]
    },
    {
     "name": "stdout",
     "output_type": "stream",
     "text": [
      "index: 617\n",
      "index: 618\n"
     ]
    },
    {
     "name": "stderr",
     "output_type": "stream",
     "text": [
      "d:\\ProgramData\\Anaconda3\\lib\\site-packages\\pandas\\core\\reshape\\merge.py:522: UserWarning: merging between different levels can give an unintended result (1 levels on the left, 2 on the right)\n",
      "  warnings.warn(msg, UserWarning)\n"
     ]
    },
    {
     "name": "stdout",
     "output_type": "stream",
     "text": [
      "index: 619\n",
      "index: 620\n",
      "index: 621\n"
     ]
    },
    {
     "name": "stderr",
     "output_type": "stream",
     "text": [
      "d:\\ProgramData\\Anaconda3\\lib\\site-packages\\pandas\\core\\reshape\\merge.py:522: UserWarning: merging between different levels can give an unintended result (1 levels on the left, 2 on the right)\n",
      "  warnings.warn(msg, UserWarning)\n"
     ]
    },
    {
     "name": "stdout",
     "output_type": "stream",
     "text": [
      "index: 622\n",
      "index: 623\n",
      "index: 624\n"
     ]
    },
    {
     "name": "stderr",
     "output_type": "stream",
     "text": [
      "d:\\ProgramData\\Anaconda3\\lib\\site-packages\\pandas\\core\\reshape\\merge.py:522: UserWarning: merging between different levels can give an unintended result (1 levels on the left, 2 on the right)\n",
      "  warnings.warn(msg, UserWarning)\n"
     ]
    },
    {
     "name": "stdout",
     "output_type": "stream",
     "text": [
      "index: 625\n",
      "index: 626\n",
      "index: 627\n"
     ]
    },
    {
     "name": "stderr",
     "output_type": "stream",
     "text": [
      "d:\\ProgramData\\Anaconda3\\lib\\site-packages\\pandas\\core\\reshape\\merge.py:522: UserWarning: merging between different levels can give an unintended result (1 levels on the left, 2 on the right)\n",
      "  warnings.warn(msg, UserWarning)\n"
     ]
    },
    {
     "name": "stdout",
     "output_type": "stream",
     "text": [
      "index: 628\n",
      "index: 629\n",
      "index: 630\n"
     ]
    },
    {
     "name": "stderr",
     "output_type": "stream",
     "text": [
      "d:\\ProgramData\\Anaconda3\\lib\\site-packages\\pandas\\core\\reshape\\merge.py:522: UserWarning: merging between different levels can give an unintended result (1 levels on the left, 2 on the right)\n",
      "  warnings.warn(msg, UserWarning)\n"
     ]
    },
    {
     "name": "stdout",
     "output_type": "stream",
     "text": [
      "index: 631\n",
      "index: 632\n",
      "index: 633\n"
     ]
    },
    {
     "name": "stderr",
     "output_type": "stream",
     "text": [
      "d:\\ProgramData\\Anaconda3\\lib\\site-packages\\pandas\\core\\reshape\\merge.py:522: UserWarning: merging between different levels can give an unintended result (1 levels on the left, 2 on the right)\n",
      "  warnings.warn(msg, UserWarning)\n"
     ]
    },
    {
     "name": "stdout",
     "output_type": "stream",
     "text": [
      "index: 634\n",
      "index: 635\n",
      "index: 636\n"
     ]
    },
    {
     "name": "stderr",
     "output_type": "stream",
     "text": [
      "d:\\ProgramData\\Anaconda3\\lib\\site-packages\\pandas\\core\\reshape\\merge.py:522: UserWarning: merging between different levels can give an unintended result (1 levels on the left, 2 on the right)\n",
      "  warnings.warn(msg, UserWarning)\n"
     ]
    },
    {
     "name": "stdout",
     "output_type": "stream",
     "text": [
      "index: 637\n",
      "index: 638\n"
     ]
    },
    {
     "name": "stderr",
     "output_type": "stream",
     "text": [
      "d:\\ProgramData\\Anaconda3\\lib\\site-packages\\pandas\\core\\reshape\\merge.py:522: UserWarning: merging between different levels can give an unintended result (1 levels on the left, 2 on the right)\n",
      "  warnings.warn(msg, UserWarning)\n"
     ]
    },
    {
     "name": "stdout",
     "output_type": "stream",
     "text": [
      "index: 639\n",
      "index: 640\n",
      "index: 641\n"
     ]
    },
    {
     "name": "stderr",
     "output_type": "stream",
     "text": [
      "d:\\ProgramData\\Anaconda3\\lib\\site-packages\\pandas\\core\\reshape\\merge.py:522: UserWarning: merging between different levels can give an unintended result (1 levels on the left, 2 on the right)\n",
      "  warnings.warn(msg, UserWarning)\n"
     ]
    },
    {
     "name": "stdout",
     "output_type": "stream",
     "text": [
      "index: 642\n",
      "index: 643\n",
      "index: 644\n"
     ]
    },
    {
     "name": "stderr",
     "output_type": "stream",
     "text": [
      "d:\\ProgramData\\Anaconda3\\lib\\site-packages\\pandas\\core\\reshape\\merge.py:522: UserWarning: merging between different levels can give an unintended result (1 levels on the left, 2 on the right)\n",
      "  warnings.warn(msg, UserWarning)\n"
     ]
    },
    {
     "name": "stdout",
     "output_type": "stream",
     "text": [
      "index: 645\n",
      "index: 646\n",
      "index: 647\n"
     ]
    },
    {
     "name": "stderr",
     "output_type": "stream",
     "text": [
      "d:\\ProgramData\\Anaconda3\\lib\\site-packages\\pandas\\core\\reshape\\merge.py:522: UserWarning: merging between different levels can give an unintended result (1 levels on the left, 2 on the right)\n",
      "  warnings.warn(msg, UserWarning)\n"
     ]
    },
    {
     "name": "stdout",
     "output_type": "stream",
     "text": [
      "index: 648\n",
      "index: 649\n",
      "index: 650\n"
     ]
    },
    {
     "name": "stderr",
     "output_type": "stream",
     "text": [
      "d:\\ProgramData\\Anaconda3\\lib\\site-packages\\pandas\\core\\reshape\\merge.py:522: UserWarning: merging between different levels can give an unintended result (1 levels on the left, 2 on the right)\n",
      "  warnings.warn(msg, UserWarning)\n"
     ]
    },
    {
     "name": "stdout",
     "output_type": "stream",
     "text": [
      "index: 651\n",
      "index: 652\n",
      "index: 653\n",
      "Iterator is stopped\n"
     ]
    }
   ],
   "source": [
    "processUserAppUsage()"
   ]
  },
  {
   "cell_type": "code",
   "execution_count": 13,
   "metadata": {},
   "outputs": [],
   "source": [
    "#将user_basic_info.csv 和 user_behavior_info.csv中的字符值编码成可以训练的数值类型，合并\n",
    "class2id = {}\n",
    "id2class = {}\n",
    "def mergeBasicTables(baseTable):\n",
    "    resTable = baseTable.merge(user_basic_info, how='left', on='uid', suffixes=('_base0', '_ubaf'))\n",
    "    resTable = resTable.merge(user_behavior_info, how='left', on='uid', suffixes=('_base1', '_ubef'))\n",
    "    cat_columns = ['city','prodName','color','carrier','os','ct']\n",
    "    for c in cat_columns:\n",
    "        resTable[c] = resTable[c].apply(lambda x: x if type(x)==str else str(x))\n",
    "        sort_temp = sorted(list(set(resTable[c])))  \n",
    "        class2id[c+'2id'] = dict(zip(sort_temp, range(1, len(sort_temp)+1)))\n",
    "        id2class['id2'+c] = dict(zip(range(1,len(sort_temp)+1), sort_temp))\n",
    "        resTable[c] = resTable[c].apply(lambda x: class2id[c+'2id'][x])\n",
    "        \n",
    "    return resTable"
   ]
  },
  {
   "cell_type": "code",
   "execution_count": 14,
   "metadata": {},
   "outputs": [],
   "source": [
    "#处理app使用相关数据\n",
    "#对user_app_actived.csv简单统计\n",
    "#将之前训练的appuseProcess.csv进行合并\n",
    "def mergeAppData(baseTable):\n",
    "    resTable = baseTable.merge(user_app_actived, how='left', on='uid')\n",
    "    resTable['appId'] = resTable['appId'].apply(lambda x: len(list(x.split('#'))))\n",
    "    appusedTable = pd.read_csv(\"appuseProcessed.csv\")\n",
    "    resTable = resTable.merge(appusedTable, how='left', on='uid')\n",
    "    resTable[['category', 'usage_most_used_category']] = resTable[['category', 'usage_most_used_category']].fillna(41)\n",
    "    resTable = resTable.fillna(0)\n",
    "    #print(resTable[:5])\n",
    "    return resTable"
   ]
  },
  {
   "cell_type": "code",
   "execution_count": 15,
   "metadata": {},
   "outputs": [
    {
     "name": "stdout",
     "output_type": "stream",
     "text": [
      "(2010000, 34)\n",
      "(502500, 33)\n"
     ]
    }
   ],
   "source": [
    "#合并用户基本特征以及app使用相关特征，作为训练集和测试集\n",
    "df_train = mergeAppData(mergeBasicTables(age_train))\n",
    "df_test = mergeAppData(mergeBasicTables(age_test))\n",
    "print(df_train.shape)\n",
    "print(df_test.shape)"
   ]
  },
  {
   "cell_type": "code",
   "execution_count": 16,
   "metadata": {},
   "outputs": [],
   "source": [
    "#训练模型\n",
    "\n",
    "from sklearn.feature_selection import SelectFromModel, VarianceThreshold, SelectKBest, chi2, mutual_info_classif, f_classif\n",
    "from sklearn.preprocessing import Imputer\n",
    "from sklearn.ensemble import ExtraTreesClassifier\n",
    "\n",
    "import lightgbm as lgb\n",
    "from sklearn.model_selection import train_test_split\n",
    "from sklearn.metrics import roc_auc_score, accuracy_score, f1_score\n",
    "from sklearn.model_selection import StratifiedKFold"
   ]
  },
  {
   "cell_type": "code",
   "execution_count": 17,
   "metadata": {},
   "outputs": [
    {
     "name": "stdout",
     "output_type": "stream",
     "text": [
      "训练模型：\n",
      "0\n",
      "training start...\n",
      "[1]\tvalid_0's multi_error: 0.639935\n",
      "Training until validation scores don't improve for 50 rounds.\n",
      "[2]\tvalid_0's multi_error: 0.625721\n",
      "[3]\tvalid_0's multi_error: 0.619444\n",
      "[4]\tvalid_0's multi_error: 0.615721\n",
      "[5]\tvalid_0's multi_error: 0.615402\n",
      "[6]\tvalid_0's multi_error: 0.611829\n",
      "[7]\tvalid_0's multi_error: 0.610293\n",
      "[8]\tvalid_0's multi_error: 0.609566\n",
      "[9]\tvalid_0's multi_error: 0.60881\n",
      "[10]\tvalid_0's multi_error: 0.607804\n",
      "[11]\tvalid_0's multi_error: 0.607481\n",
      "[12]\tvalid_0's multi_error: 0.606596\n",
      "[13]\tvalid_0's multi_error: 0.606233\n",
      "[14]\tvalid_0's multi_error: 0.605157\n",
      "[15]\tvalid_0's multi_error: 0.604996\n",
      "[16]\tvalid_0's multi_error: 0.604153\n",
      "[17]\tvalid_0's multi_error: 0.603389\n",
      "[18]\tvalid_0's multi_error: 0.602977\n",
      "[19]\tvalid_0's multi_error: 0.602387\n",
      "[20]\tvalid_0's multi_error: 0.601984\n",
      "[21]\tvalid_0's multi_error: 0.601205\n",
      "[22]\tvalid_0's multi_error: 0.60049\n",
      "[23]\tvalid_0's multi_error: 0.599744\n",
      "[24]\tvalid_0's multi_error: 0.59912\n",
      "[25]\tvalid_0's multi_error: 0.598665\n",
      "[26]\tvalid_0's multi_error: 0.598178\n",
      "[27]\tvalid_0's multi_error: 0.59746\n",
      "[28]\tvalid_0's multi_error: 0.596689\n",
      "[29]\tvalid_0's multi_error: 0.596126\n",
      "[30]\tvalid_0's multi_error: 0.59556\n",
      "[31]\tvalid_0's multi_error: 0.594911\n",
      "[32]\tvalid_0's multi_error: 0.594399\n",
      "[33]\tvalid_0's multi_error: 0.593966\n",
      "[34]\tvalid_0's multi_error: 0.593563\n",
      "[35]\tvalid_0's multi_error: 0.593051\n",
      "[36]\tvalid_0's multi_error: 0.592862\n",
      "[37]\tvalid_0's multi_error: 0.592359\n",
      "[38]\tvalid_0's multi_error: 0.591962\n",
      "[39]\tvalid_0's multi_error: 0.591629\n",
      "[40]\tvalid_0's multi_error: 0.591357\n",
      "[41]\tvalid_0's multi_error: 0.59081\n",
      "[42]\tvalid_0's multi_error: 0.590339\n",
      "[43]\tvalid_0's multi_error: 0.589899\n",
      "[44]\tvalid_0's multi_error: 0.589419\n",
      "[45]\tvalid_0's multi_error: 0.588877\n",
      "[46]\tvalid_0's multi_error: 0.588596\n",
      "[47]\tvalid_0's multi_error: 0.588362\n",
      "[48]\tvalid_0's multi_error: 0.587811\n",
      "[49]\tvalid_0's multi_error: 0.587286\n",
      "[50]\tvalid_0's multi_error: 0.586889\n",
      "[51]\tvalid_0's multi_error: 0.586553\n",
      "[52]\tvalid_0's multi_error: 0.585917\n",
      "[53]\tvalid_0's multi_error: 0.585738\n",
      "[54]\tvalid_0's multi_error: 0.585339\n",
      "[55]\tvalid_0's multi_error: 0.58515\n",
      "[56]\tvalid_0's multi_error: 0.58482\n",
      "[57]\tvalid_0's multi_error: 0.584508\n",
      "[58]\tvalid_0's multi_error: 0.58408\n",
      "[59]\tvalid_0's multi_error: 0.583722\n",
      "[60]\tvalid_0's multi_error: 0.583439\n",
      "[61]\tvalid_0's multi_error: 0.583166\n",
      "[62]\tvalid_0's multi_error: 0.58281\n",
      "[63]\tvalid_0's multi_error: 0.582526\n",
      "[64]\tvalid_0's multi_error: 0.582227\n",
      "[65]\tvalid_0's multi_error: 0.581974\n",
      "[66]\tvalid_0's multi_error: 0.581589\n",
      "[67]\tvalid_0's multi_error: 0.581393\n",
      "[68]\tvalid_0's multi_error: 0.581174\n",
      "[69]\tvalid_0's multi_error: 0.580869\n",
      "[70]\tvalid_0's multi_error: 0.580648\n",
      "[71]\tvalid_0's multi_error: 0.580208\n",
      "[72]\tvalid_0's multi_error: 0.579899\n",
      "[73]\tvalid_0's multi_error: 0.579639\n",
      "[74]\tvalid_0's multi_error: 0.579254\n",
      "[75]\tvalid_0's multi_error: 0.579033\n",
      "[76]\tvalid_0's multi_error: 0.578727\n",
      "[77]\tvalid_0's multi_error: 0.578386\n",
      "[78]\tvalid_0's multi_error: 0.578156\n",
      "[79]\tvalid_0's multi_error: 0.577917\n",
      "[80]\tvalid_0's multi_error: 0.577569\n",
      "[81]\tvalid_0's multi_error: 0.577348\n",
      "[82]\tvalid_0's multi_error: 0.57712\n",
      "[83]\tvalid_0's multi_error: 0.576881\n",
      "[84]\tvalid_0's multi_error: 0.57676\n",
      "[85]\tvalid_0's multi_error: 0.576617\n",
      "[86]\tvalid_0's multi_error: 0.576283\n",
      "[87]\tvalid_0's multi_error: 0.576211\n",
      "[88]\tvalid_0's multi_error: 0.576042\n",
      "[89]\tvalid_0's multi_error: 0.575813\n",
      "[90]\tvalid_0's multi_error: 0.575642\n",
      "[91]\tvalid_0's multi_error: 0.575402\n",
      "[92]\tvalid_0's multi_error: 0.575187\n",
      "[93]\tvalid_0's multi_error: 0.575008\n",
      "[94]\tvalid_0's multi_error: 0.57502\n",
      "[95]\tvalid_0's multi_error: 0.57489\n",
      "[96]\tvalid_0's multi_error: 0.574714\n",
      "[97]\tvalid_0's multi_error: 0.574495\n",
      "[98]\tvalid_0's multi_error: 0.574345\n",
      "[99]\tvalid_0's multi_error: 0.574236\n",
      "[100]\tvalid_0's multi_error: 0.573969\n",
      "[101]\tvalid_0's multi_error: 0.573662\n",
      "[102]\tvalid_0's multi_error: 0.573399\n",
      "[103]\tvalid_0's multi_error: 0.573284\n",
      "[104]\tvalid_0's multi_error: 0.57309\n",
      "[105]\tvalid_0's multi_error: 0.573025\n",
      "[106]\tvalid_0's multi_error: 0.572969\n",
      "[107]\tvalid_0's multi_error: 0.572805\n",
      "[108]\tvalid_0's multi_error: 0.572516\n",
      "[109]\tvalid_0's multi_error: 0.572442\n",
      "[110]\tvalid_0's multi_error: 0.572266\n",
      "[111]\tvalid_0's multi_error: 0.572053\n",
      "[112]\tvalid_0's multi_error: 0.57178\n",
      "[113]\tvalid_0's multi_error: 0.571593\n",
      "[114]\tvalid_0's multi_error: 0.571371\n",
      "[115]\tvalid_0's multi_error: 0.571348\n",
      "[116]\tvalid_0's multi_error: 0.571226\n",
      "[117]\tvalid_0's multi_error: 0.571008\n",
      "[118]\tvalid_0's multi_error: 0.570807\n",
      "[119]\tvalid_0's multi_error: 0.570747\n",
      "[120]\tvalid_0's multi_error: 0.570593\n",
      "[121]\tvalid_0's multi_error: 0.570586\n",
      "[122]\tvalid_0's multi_error: 0.570442\n",
      "[123]\tvalid_0's multi_error: 0.570278\n",
      "[124]\tvalid_0's multi_error: 0.570132\n",
      "[125]\tvalid_0's multi_error: 0.570042\n",
      "[126]\tvalid_0's multi_error: 0.569922\n",
      "[127]\tvalid_0's multi_error: 0.569708\n",
      "[128]\tvalid_0's multi_error: 0.569674\n",
      "[129]\tvalid_0's multi_error: 0.569533\n",
      "[130]\tvalid_0's multi_error: 0.569357\n",
      "[131]\tvalid_0's multi_error: 0.569239\n",
      "[132]\tvalid_0's multi_error: 0.569101\n",
      "[133]\tvalid_0's multi_error: 0.568957\n",
      "[134]\tvalid_0's multi_error: 0.568925\n",
      "[135]\tvalid_0's multi_error: 0.568889\n",
      "[136]\tvalid_0's multi_error: 0.568713\n",
      "[137]\tvalid_0's multi_error: 0.568602\n",
      "[138]\tvalid_0's multi_error: 0.56853\n",
      "[139]\tvalid_0's multi_error: 0.568384\n",
      "[140]\tvalid_0's multi_error: 0.568283\n",
      "[141]\tvalid_0's multi_error: 0.568184\n",
      "[142]\tvalid_0's multi_error: 0.568133\n",
      "[143]\tvalid_0's multi_error: 0.567926\n",
      "[144]\tvalid_0's multi_error: 0.567963\n",
      "[145]\tvalid_0's multi_error: 0.56776\n",
      "[146]\tvalid_0's multi_error: 0.567747\n",
      "[147]\tvalid_0's multi_error: 0.567592\n",
      "[148]\tvalid_0's multi_error: 0.567507\n",
      "[149]\tvalid_0's multi_error: 0.567362\n",
      "[150]\tvalid_0's multi_error: 0.567256\n",
      "[151]\tvalid_0's multi_error: 0.567165\n",
      "[152]\tvalid_0's multi_error: 0.567039\n",
      "[153]\tvalid_0's multi_error: 0.566896\n",
      "[154]\tvalid_0's multi_error: 0.566881\n",
      "[155]\tvalid_0's multi_error: 0.566775\n",
      "[156]\tvalid_0's multi_error: 0.566692\n",
      "[157]\tvalid_0's multi_error: 0.566629\n",
      "[158]\tvalid_0's multi_error: 0.566436\n",
      "[159]\tvalid_0's multi_error: 0.566399\n",
      "[160]\tvalid_0's multi_error: 0.56623\n",
      "[161]\tvalid_0's multi_error: 0.566204\n",
      "[162]\tvalid_0's multi_error: 0.566105\n",
      "[163]\tvalid_0's multi_error: 0.566072\n",
      "[164]\tvalid_0's multi_error: 0.56596\n",
      "[165]\tvalid_0's multi_error: 0.565838\n",
      "[166]\tvalid_0's multi_error: 0.565711\n",
      "[167]\tvalid_0's multi_error: 0.565668\n",
      "[168]\tvalid_0's multi_error: 0.565572\n",
      "[169]\tvalid_0's multi_error: 0.565514\n",
      "[170]\tvalid_0's multi_error: 0.56551\n",
      "[171]\tvalid_0's multi_error: 0.565399\n",
      "[172]\tvalid_0's multi_error: 0.565298\n",
      "[173]\tvalid_0's multi_error: 0.565229\n",
      "[174]\tvalid_0's multi_error: 0.565141\n",
      "[175]\tvalid_0's multi_error: 0.565004\n",
      "[176]\tvalid_0's multi_error: 0.564913\n",
      "[177]\tvalid_0's multi_error: 0.564792\n",
      "[178]\tvalid_0's multi_error: 0.564756\n",
      "[179]\tvalid_0's multi_error: 0.564617\n",
      "[180]\tvalid_0's multi_error: 0.564605\n",
      "[181]\tvalid_0's multi_error: 0.564548\n",
      "[182]\tvalid_0's multi_error: 0.564395\n",
      "[183]\tvalid_0's multi_error: 0.564298\n",
      "[184]\tvalid_0's multi_error: 0.564207\n",
      "[185]\tvalid_0's multi_error: 0.564192\n",
      "[186]\tvalid_0's multi_error: 0.564145\n",
      "[187]\tvalid_0's multi_error: 0.56401\n",
      "[188]\tvalid_0's multi_error: 0.563916\n",
      "[189]\tvalid_0's multi_error: 0.563784\n",
      "[190]\tvalid_0's multi_error: 0.563651\n",
      "[191]\tvalid_0's multi_error: 0.563499\n",
      "[192]\tvalid_0's multi_error: 0.563548\n",
      "[193]\tvalid_0's multi_error: 0.563478\n",
      "[194]\tvalid_0's multi_error: 0.563407\n",
      "[195]\tvalid_0's multi_error: 0.563345\n",
      "[196]\tvalid_0's multi_error: 0.56329\n",
      "[197]\tvalid_0's multi_error: 0.563263\n",
      "[198]\tvalid_0's multi_error: 0.563213\n",
      "[199]\tvalid_0's multi_error: 0.563116\n",
      "[200]\tvalid_0's multi_error: 0.563074\n",
      "[201]\tvalid_0's multi_error: 0.562974\n",
      "[202]\tvalid_0's multi_error: 0.562959\n",
      "[203]\tvalid_0's multi_error: 0.562792\n",
      "[204]\tvalid_0's multi_error: 0.562754\n",
      "[205]\tvalid_0's multi_error: 0.562674\n",
      "[206]\tvalid_0's multi_error: 0.562599\n",
      "[207]\tvalid_0's multi_error: 0.562545\n",
      "[208]\tvalid_0's multi_error: 0.562475\n",
      "[209]\tvalid_0's multi_error: 0.562392\n",
      "[210]\tvalid_0's multi_error: 0.562335\n",
      "[211]\tvalid_0's multi_error: 0.562277\n",
      "[212]\tvalid_0's multi_error: 0.562175\n",
      "[213]\tvalid_0's multi_error: 0.562056\n",
      "[214]\tvalid_0's multi_error: 0.562035\n",
      "[215]\tvalid_0's multi_error: 0.561995\n",
      "[216]\tvalid_0's multi_error: 0.561881\n",
      "[217]\tvalid_0's multi_error: 0.561881\n",
      "[218]\tvalid_0's multi_error: 0.561828\n",
      "[219]\tvalid_0's multi_error: 0.561807\n",
      "[220]\tvalid_0's multi_error: 0.561786\n",
      "[221]\tvalid_0's multi_error: 0.561841\n",
      "[222]\tvalid_0's multi_error: 0.561748\n",
      "[223]\tvalid_0's multi_error: 0.561695\n",
      "[224]\tvalid_0's multi_error: 0.56158\n",
      "[225]\tvalid_0's multi_error: 0.561542\n",
      "[226]\tvalid_0's multi_error: 0.561481\n",
      "[227]\tvalid_0's multi_error: 0.561387\n",
      "[228]\tvalid_0's multi_error: 0.56129\n",
      "[229]\tvalid_0's multi_error: 0.561271\n",
      "[230]\tvalid_0's multi_error: 0.561242\n",
      "[231]\tvalid_0's multi_error: 0.561144\n",
      "[232]\tvalid_0's multi_error: 0.561157\n",
      "[233]\tvalid_0's multi_error: 0.561116\n",
      "[234]\tvalid_0's multi_error: 0.561045\n",
      "[235]\tvalid_0's multi_error: 0.56099\n",
      "[236]\tvalid_0's multi_error: 0.560981\n",
      "[237]\tvalid_0's multi_error: 0.560951\n",
      "[238]\tvalid_0's multi_error: 0.560904\n",
      "[239]\tvalid_0's multi_error: 0.560825\n",
      "[240]\tvalid_0's multi_error: 0.560869\n",
      "[241]\tvalid_0's multi_error: 0.560817\n",
      "[242]\tvalid_0's multi_error: 0.560719\n",
      "[243]\tvalid_0's multi_error: 0.560723\n",
      "[244]\tvalid_0's multi_error: 0.560671\n",
      "[245]\tvalid_0's multi_error: 0.560562\n",
      "[246]\tvalid_0's multi_error: 0.560507\n",
      "[247]\tvalid_0's multi_error: 0.560465\n",
      "[248]\tvalid_0's multi_error: 0.560425\n",
      "[249]\tvalid_0's multi_error: 0.560396\n",
      "[250]\tvalid_0's multi_error: 0.560342\n",
      "[251]\tvalid_0's multi_error: 0.560323\n",
      "[252]\tvalid_0's multi_error: 0.560271\n",
      "[253]\tvalid_0's multi_error: 0.560305\n",
      "[254]\tvalid_0's multi_error: 0.560187\n",
      "[255]\tvalid_0's multi_error: 0.560157\n",
      "[256]\tvalid_0's multi_error: 0.560165\n",
      "[257]\tvalid_0's multi_error: 0.560075\n",
      "[258]\tvalid_0's multi_error: 0.56002\n",
      "[259]\tvalid_0's multi_error: 0.559954\n",
      "[260]\tvalid_0's multi_error: 0.560005\n",
      "[261]\tvalid_0's multi_error: 0.560001\n",
      "[262]\tvalid_0's multi_error: 0.559951\n",
      "[263]\tvalid_0's multi_error: 0.559865\n",
      "[264]\tvalid_0's multi_error: 0.559798\n",
      "[265]\tvalid_0's multi_error: 0.559738\n",
      "[266]\tvalid_0's multi_error: 0.559716\n",
      "[267]\tvalid_0's multi_error: 0.559678\n",
      "[268]\tvalid_0's multi_error: 0.559653\n",
      "[269]\tvalid_0's multi_error: 0.559632\n",
      "[270]\tvalid_0's multi_error: 0.559608\n",
      "[271]\tvalid_0's multi_error: 0.55955\n",
      "[272]\tvalid_0's multi_error: 0.559489\n",
      "[273]\tvalid_0's multi_error: 0.559431\n",
      "[274]\tvalid_0's multi_error: 0.559351\n",
      "[275]\tvalid_0's multi_error: 0.559241\n",
      "[276]\tvalid_0's multi_error: 0.559196\n",
      "[277]\tvalid_0's multi_error: 0.559163\n",
      "[278]\tvalid_0's multi_error: 0.559131\n",
      "[279]\tvalid_0's multi_error: 0.55909\n",
      "[280]\tvalid_0's multi_error: 0.559059\n",
      "[281]\tvalid_0's multi_error: 0.558956\n",
      "[282]\tvalid_0's multi_error: 0.558974\n",
      "[283]\tvalid_0's multi_error: 0.558923\n",
      "[284]\tvalid_0's multi_error: 0.558911\n",
      "[285]\tvalid_0's multi_error: 0.558835\n",
      "[286]\tvalid_0's multi_error: 0.558841\n",
      "[287]\tvalid_0's multi_error: 0.558754\n",
      "[288]\tvalid_0's multi_error: 0.558772\n",
      "[289]\tvalid_0's multi_error: 0.558781\n",
      "[290]\tvalid_0's multi_error: 0.558817\n",
      "[291]\tvalid_0's multi_error: 0.558659\n",
      "[292]\tvalid_0's multi_error: 0.558614\n",
      "[293]\tvalid_0's multi_error: 0.558544\n",
      "[294]\tvalid_0's multi_error: 0.558544\n",
      "[295]\tvalid_0's multi_error: 0.558468\n",
      "[296]\tvalid_0's multi_error: 0.558374\n",
      "[297]\tvalid_0's multi_error: 0.558317\n",
      "[298]\tvalid_0's multi_error: 0.558366\n",
      "[299]\tvalid_0's multi_error: 0.558319\n",
      "[300]\tvalid_0's multi_error: 0.558231\n",
      "[301]\tvalid_0's multi_error: 0.558226\n",
      "[302]\tvalid_0's multi_error: 0.558229\n",
      "[303]\tvalid_0's multi_error: 0.558196\n",
      "[304]\tvalid_0's multi_error: 0.558201\n",
      "[305]\tvalid_0's multi_error: 0.558151\n",
      "[306]\tvalid_0's multi_error: 0.558142\n",
      "[307]\tvalid_0's multi_error: 0.558163\n",
      "[308]\tvalid_0's multi_error: 0.558151\n",
      "[309]\tvalid_0's multi_error: 0.558201\n",
      "[310]\tvalid_0's multi_error: 0.55818\n",
      "[311]\tvalid_0's multi_error: 0.558098\n",
      "[312]\tvalid_0's multi_error: 0.558016\n",
      "[313]\tvalid_0's multi_error: 0.557965\n",
      "[314]\tvalid_0's multi_error: 0.557986\n",
      "[315]\tvalid_0's multi_error: 0.557923\n",
      "[316]\tvalid_0's multi_error: 0.557841\n",
      "[317]\tvalid_0's multi_error: 0.557844\n",
      "[318]\tvalid_0's multi_error: 0.557847\n",
      "[319]\tvalid_0's multi_error: 0.557789\n",
      "[320]\tvalid_0's multi_error: 0.557665\n",
      "[321]\tvalid_0's multi_error: 0.557648\n",
      "[322]\tvalid_0's multi_error: 0.557672\n",
      "[323]\tvalid_0's multi_error: 0.55762\n",
      "[324]\tvalid_0's multi_error: 0.557613\n",
      "[325]\tvalid_0's multi_error: 0.557542\n",
      "[326]\tvalid_0's multi_error: 0.557514\n",
      "[327]\tvalid_0's multi_error: 0.55746\n",
      "[328]\tvalid_0's multi_error: 0.557419\n",
      "[329]\tvalid_0's multi_error: 0.557404\n",
      "[330]\tvalid_0's multi_error: 0.557423\n",
      "[331]\tvalid_0's multi_error: 0.557365\n",
      "[332]\tvalid_0's multi_error: 0.557363\n",
      "[333]\tvalid_0's multi_error: 0.557307\n",
      "[334]\tvalid_0's multi_error: 0.557266\n",
      "[335]\tvalid_0's multi_error: 0.557259\n",
      "[336]\tvalid_0's multi_error: 0.557308\n",
      "[337]\tvalid_0's multi_error: 0.55722\n",
      "[338]\tvalid_0's multi_error: 0.557195\n",
      "[339]\tvalid_0's multi_error: 0.557128\n",
      "[340]\tvalid_0's multi_error: 0.55711\n",
      "[341]\tvalid_0's multi_error: 0.557102\n",
      "[342]\tvalid_0's multi_error: 0.557116\n",
      "[343]\tvalid_0's multi_error: 0.557035\n",
      "[344]\tvalid_0's multi_error: 0.557033\n",
      "[345]\tvalid_0's multi_error: 0.557031\n",
      "[346]\tvalid_0's multi_error: 0.55698\n",
      "[347]\tvalid_0's multi_error: 0.556942\n",
      "[348]\tvalid_0's multi_error: 0.556892\n",
      "[349]\tvalid_0's multi_error: 0.556854\n",
      "[350]\tvalid_0's multi_error: 0.556799\n",
      "[351]\tvalid_0's multi_error: 0.556817\n",
      "[352]\tvalid_0's multi_error: 0.556845\n",
      "[353]\tvalid_0's multi_error: 0.556822\n",
      "[354]\tvalid_0's multi_error: 0.556841\n",
      "[355]\tvalid_0's multi_error: 0.556845\n",
      "[356]\tvalid_0's multi_error: 0.556829\n",
      "[357]\tvalid_0's multi_error: 0.556802\n",
      "[358]\tvalid_0's multi_error: 0.556738\n",
      "[359]\tvalid_0's multi_error: 0.556759\n",
      "[360]\tvalid_0's multi_error: 0.556707\n",
      "[361]\tvalid_0's multi_error: 0.55665\n",
      "[362]\tvalid_0's multi_error: 0.556638\n",
      "[363]\tvalid_0's multi_error: 0.556633\n",
      "[364]\tvalid_0's multi_error: 0.556571\n",
      "[365]\tvalid_0's multi_error: 0.556544\n",
      "[366]\tvalid_0's multi_error: 0.556545\n",
      "[367]\tvalid_0's multi_error: 0.556566\n",
      "[368]\tvalid_0's multi_error: 0.556574\n",
      "[369]\tvalid_0's multi_error: 0.556539\n",
      "[370]\tvalid_0's multi_error: 0.556536\n",
      "[371]\tvalid_0's multi_error: 0.556536\n",
      "[372]\tvalid_0's multi_error: 0.556554\n",
      "[373]\tvalid_0's multi_error: 0.556545\n",
      "[374]\tvalid_0's multi_error: 0.556495\n",
      "[375]\tvalid_0's multi_error: 0.556466\n",
      "[376]\tvalid_0's multi_error: 0.556438\n",
      "[377]\tvalid_0's multi_error: 0.556459\n",
      "[378]\tvalid_0's multi_error: 0.556422\n",
      "[379]\tvalid_0's multi_error: 0.556407\n",
      "[380]\tvalid_0's multi_error: 0.556404\n",
      "[381]\tvalid_0's multi_error: 0.556438\n",
      "[382]\tvalid_0's multi_error: 0.556436\n",
      "[383]\tvalid_0's multi_error: 0.55642\n",
      "[384]\tvalid_0's multi_error: 0.556362\n",
      "[385]\tvalid_0's multi_error: 0.556314\n",
      "[386]\tvalid_0's multi_error: 0.556287\n",
      "[387]\tvalid_0's multi_error: 0.556289\n",
      "[388]\tvalid_0's multi_error: 0.556269\n",
      "[389]\tvalid_0's multi_error: 0.556257\n",
      "[390]\tvalid_0's multi_error: 0.556247\n",
      "[391]\tvalid_0's multi_error: 0.556233\n",
      "[392]\tvalid_0's multi_error: 0.556193\n",
      "[393]\tvalid_0's multi_error: 0.556222\n",
      "[394]\tvalid_0's multi_error: 0.55619\n",
      "[395]\tvalid_0's multi_error: 0.556126\n",
      "[396]\tvalid_0's multi_error: 0.556142\n",
      "[397]\tvalid_0's multi_error: 0.556163\n",
      "[398]\tvalid_0's multi_error: 0.556119\n",
      "[399]\tvalid_0's multi_error: 0.556099\n",
      "[400]\tvalid_0's multi_error: 0.556059\n",
      "[401]\tvalid_0's multi_error: 0.556033\n",
      "[402]\tvalid_0's multi_error: 0.556081\n",
      "[403]\tvalid_0's multi_error: 0.556087\n",
      "[404]\tvalid_0's multi_error: 0.55608\n",
      "[405]\tvalid_0's multi_error: 0.556066\n",
      "[406]\tvalid_0's multi_error: 0.556002\n",
      "[407]\tvalid_0's multi_error: 0.555978\n",
      "[408]\tvalid_0's multi_error: 0.555981\n",
      "[409]\tvalid_0's multi_error: 0.556047\n",
      "[410]\tvalid_0's multi_error: 0.556014\n",
      "[411]\tvalid_0's multi_error: 0.555941\n",
      "[412]\tvalid_0's multi_error: 0.555968\n",
      "[413]\tvalid_0's multi_error: 0.555986\n",
      "[414]\tvalid_0's multi_error: 0.55602\n",
      "[415]\tvalid_0's multi_error: 0.555942\n",
      "[416]\tvalid_0's multi_error: 0.555859\n",
      "[417]\tvalid_0's multi_error: 0.555848\n",
      "[418]\tvalid_0's multi_error: 0.555856\n",
      "[419]\tvalid_0's multi_error: 0.555883\n",
      "[420]\tvalid_0's multi_error: 0.555865\n",
      "[421]\tvalid_0's multi_error: 0.555871\n",
      "[422]\tvalid_0's multi_error: 0.555911\n",
      "[423]\tvalid_0's multi_error: 0.55585\n",
      "[424]\tvalid_0's multi_error: 0.555853\n",
      "[425]\tvalid_0's multi_error: 0.555817\n",
      "[426]\tvalid_0's multi_error: 0.555808\n",
      "[427]\tvalid_0's multi_error: 0.555801\n",
      "[428]\tvalid_0's multi_error: 0.555775\n",
      "[429]\tvalid_0's multi_error: 0.555772\n",
      "[430]\tvalid_0's multi_error: 0.555748\n",
      "[431]\tvalid_0's multi_error: 0.555696\n",
      "[432]\tvalid_0's multi_error: 0.555722\n",
      "[433]\tvalid_0's multi_error: 0.555732\n",
      "[434]\tvalid_0's multi_error: 0.555732\n",
      "[435]\tvalid_0's multi_error: 0.555702\n",
      "[436]\tvalid_0's multi_error: 0.555725\n",
      "[437]\tvalid_0's multi_error: 0.555675\n",
      "[438]\tvalid_0's multi_error: 0.555662\n",
      "[439]\tvalid_0's multi_error: 0.55565\n",
      "[440]\tvalid_0's multi_error: 0.555602\n",
      "[441]\tvalid_0's multi_error: 0.555566\n",
      "[442]\tvalid_0's multi_error: 0.555608\n",
      "[443]\tvalid_0's multi_error: 0.555566\n",
      "[444]\tvalid_0's multi_error: 0.55558\n",
      "[445]\tvalid_0's multi_error: 0.555542\n",
      "[446]\tvalid_0's multi_error: 0.55556\n",
      "[447]\tvalid_0's multi_error: 0.555538\n",
      "[448]\tvalid_0's multi_error: 0.555462\n",
      "[449]\tvalid_0's multi_error: 0.555435\n",
      "[450]\tvalid_0's multi_error: 0.555462\n",
      "[451]\tvalid_0's multi_error: 0.555402\n",
      "[452]\tvalid_0's multi_error: 0.555357\n",
      "[453]\tvalid_0's multi_error: 0.555353\n",
      "[454]\tvalid_0's multi_error: 0.55531\n",
      "[455]\tvalid_0's multi_error: 0.555283\n",
      "[456]\tvalid_0's multi_error: 0.55529\n",
      "[457]\tvalid_0's multi_error: 0.555286\n",
      "[458]\tvalid_0's multi_error: 0.555216\n",
      "[459]\tvalid_0's multi_error: 0.555214\n",
      "[460]\tvalid_0's multi_error: 0.55518\n",
      "[461]\tvalid_0's multi_error: 0.555168\n",
      "[462]\tvalid_0's multi_error: 0.555144\n",
      "[463]\tvalid_0's multi_error: 0.555148\n",
      "[464]\tvalid_0's multi_error: 0.555096\n",
      "[465]\tvalid_0's multi_error: 0.555077\n",
      "[466]\tvalid_0's multi_error: 0.555023\n",
      "[467]\tvalid_0's multi_error: 0.555065\n",
      "[468]\tvalid_0's multi_error: 0.555044\n",
      "[469]\tvalid_0's multi_error: 0.555026\n",
      "[470]\tvalid_0's multi_error: 0.555053\n",
      "[471]\tvalid_0's multi_error: 0.555066\n",
      "[472]\tvalid_0's multi_error: 0.555062\n",
      "[473]\tvalid_0's multi_error: 0.555014\n",
      "[474]\tvalid_0's multi_error: 0.555011\n",
      "[475]\tvalid_0's multi_error: 0.554942\n",
      "[476]\tvalid_0's multi_error: 0.55491\n",
      "[477]\tvalid_0's multi_error: 0.554951\n",
      "[478]\tvalid_0's multi_error: 0.554923\n",
      "[479]\tvalid_0's multi_error: 0.554953\n",
      "[480]\tvalid_0's multi_error: 0.554968\n",
      "[481]\tvalid_0's multi_error: 0.554992\n",
      "[482]\tvalid_0's multi_error: 0.554992\n",
      "[483]\tvalid_0's multi_error: 0.554971\n",
      "[484]\tvalid_0's multi_error: 0.554936\n",
      "[485]\tvalid_0's multi_error: 0.554929\n",
      "[486]\tvalid_0's multi_error: 0.554938\n",
      "[487]\tvalid_0's multi_error: 0.554871\n",
      "[488]\tvalid_0's multi_error: 0.554844\n",
      "[489]\tvalid_0's multi_error: 0.554854\n",
      "[490]\tvalid_0's multi_error: 0.554807\n",
      "[491]\tvalid_0's multi_error: 0.554831\n",
      "[492]\tvalid_0's multi_error: 0.554838\n",
      "[493]\tvalid_0's multi_error: 0.554819\n",
      "[494]\tvalid_0's multi_error: 0.554798\n",
      "[495]\tvalid_0's multi_error: 0.554802\n",
      "[496]\tvalid_0's multi_error: 0.554793\n",
      "[497]\tvalid_0's multi_error: 0.554825\n",
      "[498]\tvalid_0's multi_error: 0.554774\n",
      "[499]\tvalid_0's multi_error: 0.55479\n",
      "[500]\tvalid_0's multi_error: 0.554765\n",
      "[501]\tvalid_0's multi_error: 0.554757\n",
      "[502]\tvalid_0's multi_error: 0.554754\n",
      "[503]\tvalid_0's multi_error: 0.554756\n",
      "[504]\tvalid_0's multi_error: 0.554731\n",
      "[505]\tvalid_0's multi_error: 0.554729\n",
      "[506]\tvalid_0's multi_error: 0.554798\n",
      "[507]\tvalid_0's multi_error: 0.554798\n",
      "[508]\tvalid_0's multi_error: 0.554798\n",
      "[509]\tvalid_0's multi_error: 0.554711\n",
      "[510]\tvalid_0's multi_error: 0.554687\n",
      "[511]\tvalid_0's multi_error: 0.554677\n",
      "[512]\tvalid_0's multi_error: 0.55468\n",
      "[513]\tvalid_0's multi_error: 0.55465\n",
      "[514]\tvalid_0's multi_error: 0.554695\n",
      "[515]\tvalid_0's multi_error: 0.554692\n",
      "[516]\tvalid_0's multi_error: 0.554689\n",
      "[517]\tvalid_0's multi_error: 0.554662\n",
      "[518]\tvalid_0's multi_error: 0.554657\n",
      "[519]\tvalid_0's multi_error: 0.554662\n",
      "[520]\tvalid_0's multi_error: 0.554605\n",
      "[521]\tvalid_0's multi_error: 0.554635\n",
      "[522]\tvalid_0's multi_error: 0.554639\n",
      "[523]\tvalid_0's multi_error: 0.554616\n",
      "[524]\tvalid_0's multi_error: 0.554631\n",
      "[525]\tvalid_0's multi_error: 0.554598\n",
      "[526]\tvalid_0's multi_error: 0.554587\n",
      "[527]\tvalid_0's multi_error: 0.554607\n",
      "[528]\tvalid_0's multi_error: 0.554586\n",
      "[529]\tvalid_0's multi_error: 0.55456\n",
      "[530]\tvalid_0's multi_error: 0.554534\n",
      "[531]\tvalid_0's multi_error: 0.554538\n",
      "[532]\tvalid_0's multi_error: 0.554522\n",
      "[533]\tvalid_0's multi_error: 0.55452\n",
      "[534]\tvalid_0's multi_error: 0.554463\n",
      "[535]\tvalid_0's multi_error: 0.554484\n",
      "[536]\tvalid_0's multi_error: 0.554459\n",
      "[537]\tvalid_0's multi_error: 0.554492\n",
      "[538]\tvalid_0's multi_error: 0.554513\n",
      "[539]\tvalid_0's multi_error: 0.554422\n",
      "[540]\tvalid_0's multi_error: 0.554428\n",
      "[541]\tvalid_0's multi_error: 0.55439\n",
      "[542]\tvalid_0's multi_error: 0.554369\n",
      "[543]\tvalid_0's multi_error: 0.554405\n",
      "[544]\tvalid_0's multi_error: 0.554401\n",
      "[545]\tvalid_0's multi_error: 0.554413\n",
      "[546]\tvalid_0's multi_error: 0.554419\n",
      "[547]\tvalid_0's multi_error: 0.554383\n",
      "[548]\tvalid_0's multi_error: 0.55435\n",
      "[549]\tvalid_0's multi_error: 0.554338\n",
      "[550]\tvalid_0's multi_error: 0.554326\n",
      "[551]\tvalid_0's multi_error: 0.554344\n",
      "[552]\tvalid_0's multi_error: 0.554311\n",
      "[553]\tvalid_0's multi_error: 0.554287\n",
      "[554]\tvalid_0's multi_error: 0.554281\n",
      "[555]\tvalid_0's multi_error: 0.554234\n",
      "[556]\tvalid_0's multi_error: 0.554232\n",
      "[557]\tvalid_0's multi_error: 0.554219\n",
      "[558]\tvalid_0's multi_error: 0.554207\n",
      "[559]\tvalid_0's multi_error: 0.554193\n",
      "[560]\tvalid_0's multi_error: 0.554201\n",
      "[561]\tvalid_0's multi_error: 0.554157\n",
      "[562]\tvalid_0's multi_error: 0.554134\n",
      "[563]\tvalid_0's multi_error: 0.554132\n",
      "[564]\tvalid_0's multi_error: 0.554111\n",
      "[565]\tvalid_0's multi_error: 0.554107\n",
      "[566]\tvalid_0's multi_error: 0.554138\n",
      "[567]\tvalid_0's multi_error: 0.554102\n",
      "[568]\tvalid_0's multi_error: 0.554128\n",
      "[569]\tvalid_0's multi_error: 0.554104\n",
      "[570]\tvalid_0's multi_error: 0.554138\n",
      "[571]\tvalid_0's multi_error: 0.554131\n",
      "[572]\tvalid_0's multi_error: 0.554135\n",
      "[573]\tvalid_0's multi_error: 0.554159\n",
      "[574]\tvalid_0's multi_error: 0.554159\n",
      "[575]\tvalid_0's multi_error: 0.554165\n",
      "[576]\tvalid_0's multi_error: 0.554139\n",
      "[577]\tvalid_0's multi_error: 0.554132\n",
      "[578]\tvalid_0's multi_error: 0.554154\n",
      "[579]\tvalid_0's multi_error: 0.554125\n",
      "[580]\tvalid_0's multi_error: 0.554086\n",
      "[581]\tvalid_0's multi_error: 0.554111\n",
      "[582]\tvalid_0's multi_error: 0.554084\n",
      "[583]\tvalid_0's multi_error: 0.554042\n",
      "[584]\tvalid_0's multi_error: 0.554019\n",
      "[585]\tvalid_0's multi_error: 0.553992\n",
      "[586]\tvalid_0's multi_error: 0.553977\n",
      "[587]\tvalid_0's multi_error: 0.554001\n",
      "[588]\tvalid_0's multi_error: 0.55402\n",
      "[589]\tvalid_0's multi_error: 0.553995\n",
      "[590]\tvalid_0's multi_error: 0.553983\n",
      "[591]\tvalid_0's multi_error: 0.553965\n",
      "[592]\tvalid_0's multi_error: 0.553989\n",
      "[593]\tvalid_0's multi_error: 0.553978\n",
      "[594]\tvalid_0's multi_error: 0.553953\n",
      "[595]\tvalid_0's multi_error: 0.553935\n",
      "[596]\tvalid_0's multi_error: 0.553895\n",
      "[597]\tvalid_0's multi_error: 0.553887\n",
      "[598]\tvalid_0's multi_error: 0.553862\n",
      "[599]\tvalid_0's multi_error: 0.55392\n",
      "[600]\tvalid_0's multi_error: 0.55389\n",
      "[601]\tvalid_0's multi_error: 0.553823\n",
      "[602]\tvalid_0's multi_error: 0.553835\n",
      "[603]\tvalid_0's multi_error: 0.553835\n",
      "[604]\tvalid_0's multi_error: 0.553838\n",
      "[605]\tvalid_0's multi_error: 0.553828\n",
      "[606]\tvalid_0's multi_error: 0.553862\n",
      "[607]\tvalid_0's multi_error: 0.553836\n",
      "[608]\tvalid_0's multi_error: 0.553786\n",
      "[609]\tvalid_0's multi_error: 0.553763\n",
      "[610]\tvalid_0's multi_error: 0.553738\n",
      "[611]\tvalid_0's multi_error: 0.553716\n",
      "[612]\tvalid_0's multi_error: 0.553732\n",
      "[613]\tvalid_0's multi_error: 0.553717\n",
      "[614]\tvalid_0's multi_error: 0.553711\n",
      "[615]\tvalid_0's multi_error: 0.553674\n",
      "[616]\tvalid_0's multi_error: 0.553684\n",
      "[617]\tvalid_0's multi_error: 0.553693\n",
      "[618]\tvalid_0's multi_error: 0.553674\n",
      "[619]\tvalid_0's multi_error: 0.55365\n",
      "[620]\tvalid_0's multi_error: 0.553644\n",
      "[621]\tvalid_0's multi_error: 0.553653\n",
      "[622]\tvalid_0's multi_error: 0.553656\n",
      "[623]\tvalid_0's multi_error: 0.553684\n",
      "[624]\tvalid_0's multi_error: 0.553654\n",
      "[625]\tvalid_0's multi_error: 0.553626\n",
      "[626]\tvalid_0's multi_error: 0.553632\n",
      "[627]\tvalid_0's multi_error: 0.553619\n",
      "[628]\tvalid_0's multi_error: 0.553647\n",
      "[629]\tvalid_0's multi_error: 0.553689\n",
      "[630]\tvalid_0's multi_error: 0.553687\n",
      "[631]\tvalid_0's multi_error: 0.553641\n",
      "[632]\tvalid_0's multi_error: 0.553683\n",
      "[633]\tvalid_0's multi_error: 0.553634\n",
      "[634]\tvalid_0's multi_error: 0.553629\n",
      "[635]\tvalid_0's multi_error: 0.553653\n",
      "[636]\tvalid_0's multi_error: 0.553648\n",
      "[637]\tvalid_0's multi_error: 0.553668\n",
      "[638]\tvalid_0's multi_error: 0.553638\n",
      "[639]\tvalid_0's multi_error: 0.553669\n",
      "[640]\tvalid_0's multi_error: 0.553677\n",
      "[641]\tvalid_0's multi_error: 0.553598\n",
      "[642]\tvalid_0's multi_error: 0.553645\n",
      "[643]\tvalid_0's multi_error: 0.553616\n",
      "[644]\tvalid_0's multi_error: 0.553617\n",
      "[645]\tvalid_0's multi_error: 0.553626\n",
      "[646]\tvalid_0's multi_error: 0.553641\n",
      "[647]\tvalid_0's multi_error: 0.553577\n",
      "[648]\tvalid_0's multi_error: 0.553575\n",
      "[649]\tvalid_0's multi_error: 0.553563\n",
      "[650]\tvalid_0's multi_error: 0.55356\n",
      "[651]\tvalid_0's multi_error: 0.553529\n",
      "[652]\tvalid_0's multi_error: 0.553525\n",
      "[653]\tvalid_0's multi_error: 0.553531\n",
      "[654]\tvalid_0's multi_error: 0.553516\n",
      "[655]\tvalid_0's multi_error: 0.553517\n",
      "[656]\tvalid_0's multi_error: 0.553523\n",
      "[657]\tvalid_0's multi_error: 0.553484\n",
      "[658]\tvalid_0's multi_error: 0.553508\n",
      "[659]\tvalid_0's multi_error: 0.553502\n",
      "[660]\tvalid_0's multi_error: 0.553513\n",
      "[661]\tvalid_0's multi_error: 0.553499\n",
      "[662]\tvalid_0's multi_error: 0.553474\n",
      "[663]\tvalid_0's multi_error: 0.553478\n",
      "[664]\tvalid_0's multi_error: 0.553481\n",
      "[665]\tvalid_0's multi_error: 0.553451\n",
      "[666]\tvalid_0's multi_error: 0.553459\n",
      "[667]\tvalid_0's multi_error: 0.553432\n",
      "[668]\tvalid_0's multi_error: 0.553422\n",
      "[669]\tvalid_0's multi_error: 0.553471\n",
      "[670]\tvalid_0's multi_error: 0.553478\n",
      "[671]\tvalid_0's multi_error: 0.553454\n",
      "[672]\tvalid_0's multi_error: 0.553436\n",
      "[673]\tvalid_0's multi_error: 0.55342\n",
      "[674]\tvalid_0's multi_error: 0.553442\n",
      "[675]\tvalid_0's multi_error: 0.553423\n",
      "[676]\tvalid_0's multi_error: 0.553445\n",
      "[677]\tvalid_0's multi_error: 0.553416\n",
      "[678]\tvalid_0's multi_error: 0.553456\n",
      "[679]\tvalid_0's multi_error: 0.553463\n",
      "[680]\tvalid_0's multi_error: 0.553436\n",
      "[681]\tvalid_0's multi_error: 0.553422\n",
      "[682]\tvalid_0's multi_error: 0.553422\n",
      "[683]\tvalid_0's multi_error: 0.553399\n",
      "[684]\tvalid_0's multi_error: 0.553402\n",
      "[685]\tvalid_0's multi_error: 0.553374\n",
      "[686]\tvalid_0's multi_error: 0.553359\n",
      "[687]\tvalid_0's multi_error: 0.553305\n",
      "[688]\tvalid_0's multi_error: 0.553302\n",
      "[689]\tvalid_0's multi_error: 0.553338\n",
      "[690]\tvalid_0's multi_error: 0.553347\n",
      "[691]\tvalid_0's multi_error: 0.55332\n",
      "[692]\tvalid_0's multi_error: 0.553316\n",
      "[693]\tvalid_0's multi_error: 0.553322\n",
      "[694]\tvalid_0's multi_error: 0.553293\n",
      "[695]\tvalid_0's multi_error: 0.553274\n",
      "[696]\tvalid_0's multi_error: 0.553259\n",
      "[697]\tvalid_0's multi_error: 0.553259\n",
      "[698]\tvalid_0's multi_error: 0.553257\n",
      "[699]\tvalid_0's multi_error: 0.553257\n",
      "[700]\tvalid_0's multi_error: 0.55329\n",
      "[701]\tvalid_0's multi_error: 0.553301\n",
      "[702]\tvalid_0's multi_error: 0.553292\n",
      "[703]\tvalid_0's multi_error: 0.553284\n",
      "[704]\tvalid_0's multi_error: 0.553304\n",
      "[705]\tvalid_0's multi_error: 0.553331\n",
      "[706]\tvalid_0's multi_error: 0.553341\n",
      "[707]\tvalid_0's multi_error: 0.553362\n",
      "[708]\tvalid_0's multi_error: 0.553353\n",
      "[709]\tvalid_0's multi_error: 0.55336\n",
      "[710]\tvalid_0's multi_error: 0.553335\n",
      "[711]\tvalid_0's multi_error: 0.553344\n",
      "[712]\tvalid_0's multi_error: 0.553372\n",
      "[713]\tvalid_0's multi_error: 0.553387\n",
      "[714]\tvalid_0's multi_error: 0.553386\n",
      "[715]\tvalid_0's multi_error: 0.553402\n",
      "[716]\tvalid_0's multi_error: 0.553372\n",
      "[717]\tvalid_0's multi_error: 0.553334\n",
      "[718]\tvalid_0's multi_error: 0.553257\n",
      "[719]\tvalid_0's multi_error: 0.553226\n",
      "[720]\tvalid_0's multi_error: 0.553262\n",
      "[721]\tvalid_0's multi_error: 0.553271\n",
      "[722]\tvalid_0's multi_error: 0.553251\n",
      "[723]\tvalid_0's multi_error: 0.553226\n",
      "[724]\tvalid_0's multi_error: 0.553216\n",
      "[725]\tvalid_0's multi_error: 0.55321\n",
      "[726]\tvalid_0's multi_error: 0.553231\n",
      "[727]\tvalid_0's multi_error: 0.553256\n",
      "[728]\tvalid_0's multi_error: 0.553217\n",
      "[729]\tvalid_0's multi_error: 0.553196\n",
      "[730]\tvalid_0's multi_error: 0.553232\n",
      "[731]\tvalid_0's multi_error: 0.553213\n",
      "[732]\tvalid_0's multi_error: 0.553202\n",
      "[733]\tvalid_0's multi_error: 0.553225\n",
      "[734]\tvalid_0's multi_error: 0.553201\n",
      "[735]\tvalid_0's multi_error: 0.553169\n",
      "[736]\tvalid_0's multi_error: 0.553156\n",
      "[737]\tvalid_0's multi_error: 0.553175\n",
      "[738]\tvalid_0's multi_error: 0.553154\n",
      "[739]\tvalid_0's multi_error: 0.55315\n",
      "[740]\tvalid_0's multi_error: 0.553111\n",
      "[741]\tvalid_0's multi_error: 0.553102\n",
      "[742]\tvalid_0's multi_error: 0.553102\n",
      "[743]\tvalid_0's multi_error: 0.553105\n",
      "[744]\tvalid_0's multi_error: 0.553119\n",
      "[745]\tvalid_0's multi_error: 0.553125\n",
      "[746]\tvalid_0's multi_error: 0.553119\n",
      "[747]\tvalid_0's multi_error: 0.553102\n",
      "[748]\tvalid_0's multi_error: 0.553086\n",
      "[749]\tvalid_0's multi_error: 0.553047\n",
      "[750]\tvalid_0's multi_error: 0.553074\n",
      "[751]\tvalid_0's multi_error: 0.553077\n",
      "[752]\tvalid_0's multi_error: 0.553057\n",
      "[753]\tvalid_0's multi_error: 0.553032\n",
      "[754]\tvalid_0's multi_error: 0.553038\n",
      "[755]\tvalid_0's multi_error: 0.553035\n",
      "[756]\tvalid_0's multi_error: 0.553059\n",
      "[757]\tvalid_0's multi_error: 0.553066\n",
      "[758]\tvalid_0's multi_error: 0.553014\n",
      "[759]\tvalid_0's multi_error: 0.552995\n",
      "[760]\tvalid_0's multi_error: 0.553004\n",
      "[761]\tvalid_0's multi_error: 0.553025\n",
      "[762]\tvalid_0's multi_error: 0.553044\n",
      "[763]\tvalid_0's multi_error: 0.55302\n",
      "[764]\tvalid_0's multi_error: 0.553039\n",
      "[765]\tvalid_0's multi_error: 0.553017\n",
      "[766]\tvalid_0's multi_error: 0.552923\n",
      "[767]\tvalid_0's multi_error: 0.552917\n",
      "[768]\tvalid_0's multi_error: 0.552896\n",
      "[769]\tvalid_0's multi_error: 0.552916\n",
      "[770]\tvalid_0's multi_error: 0.552959\n",
      "[771]\tvalid_0's multi_error: 0.552981\n",
      "[772]\tvalid_0's multi_error: 0.552975\n",
      "[773]\tvalid_0's multi_error: 0.552972\n",
      "[774]\tvalid_0's multi_error: 0.552977\n",
      "[775]\tvalid_0's multi_error: 0.552986\n",
      "[776]\tvalid_0's multi_error: 0.552987\n",
      "[777]\tvalid_0's multi_error: 0.552986\n",
      "[778]\tvalid_0's multi_error: 0.552954\n",
      "[779]\tvalid_0's multi_error: 0.552984\n",
      "[780]\tvalid_0's multi_error: 0.553029\n",
      "[781]\tvalid_0's multi_error: 0.553008\n",
      "[782]\tvalid_0's multi_error: 0.552986\n",
      "[783]\tvalid_0's multi_error: 0.552986\n",
      "[784]\tvalid_0's multi_error: 0.553004\n",
      "[785]\tvalid_0's multi_error: 0.552996\n",
      "[786]\tvalid_0's multi_error: 0.552981\n",
      "[787]\tvalid_0's multi_error: 0.552945\n",
      "[788]\tvalid_0's multi_error: 0.552956\n",
      "[789]\tvalid_0's multi_error: 0.552925\n",
      "[790]\tvalid_0's multi_error: 0.552928\n",
      "[791]\tvalid_0's multi_error: 0.552948\n",
      "[792]\tvalid_0's multi_error: 0.552968\n",
      "[793]\tvalid_0's multi_error: 0.552981\n",
      "[794]\tvalid_0's multi_error: 0.552978\n",
      "[795]\tvalid_0's multi_error: 0.552944\n",
      "[796]\tvalid_0's multi_error: 0.552922\n",
      "[797]\tvalid_0's multi_error: 0.552899\n",
      "[798]\tvalid_0's multi_error: 0.552877\n",
      "[799]\tvalid_0's multi_error: 0.552862\n",
      "[800]\tvalid_0's multi_error: 0.552945\n",
      "[801]\tvalid_0's multi_error: 0.552928\n",
      "[802]\tvalid_0's multi_error: 0.552951\n",
      "[803]\tvalid_0's multi_error: 0.552953\n",
      "[804]\tvalid_0's multi_error: 0.552957\n",
      "[805]\tvalid_0's multi_error: 0.552942\n",
      "[806]\tvalid_0's multi_error: 0.552925\n",
      "[807]\tvalid_0's multi_error: 0.552925\n",
      "[808]\tvalid_0's multi_error: 0.552914\n",
      "[809]\tvalid_0's multi_error: 0.552896\n",
      "[810]\tvalid_0's multi_error: 0.552866\n",
      "[811]\tvalid_0's multi_error: 0.552847\n",
      "[812]\tvalid_0's multi_error: 0.552775\n",
      "[813]\tvalid_0's multi_error: 0.552786\n",
      "[814]\tvalid_0's multi_error: 0.552832\n",
      "[815]\tvalid_0's multi_error: 0.552777\n",
      "[816]\tvalid_0's multi_error: 0.552775\n",
      "[817]\tvalid_0's multi_error: 0.552742\n",
      "[818]\tvalid_0's multi_error: 0.55272\n",
      "[819]\tvalid_0's multi_error: 0.552699\n",
      "[820]\tvalid_0's multi_error: 0.552669\n",
      "[821]\tvalid_0's multi_error: 0.552684\n",
      "[822]\tvalid_0's multi_error: 0.552638\n",
      "[823]\tvalid_0's multi_error: 0.552635\n",
      "[824]\tvalid_0's multi_error: 0.552632\n",
      "[825]\tvalid_0's multi_error: 0.552641\n",
      "[826]\tvalid_0's multi_error: 0.55265\n",
      "[827]\tvalid_0's multi_error: 0.552645\n",
      "[828]\tvalid_0's multi_error: 0.552611\n",
      "[829]\tvalid_0's multi_error: 0.552629\n",
      "[830]\tvalid_0's multi_error: 0.552642\n",
      "[831]\tvalid_0's multi_error: 0.552616\n",
      "[832]\tvalid_0's multi_error: 0.55259\n",
      "[833]\tvalid_0's multi_error: 0.552599\n",
      "[834]\tvalid_0's multi_error: 0.552617\n",
      "[835]\tvalid_0's multi_error: 0.552592\n",
      "[836]\tvalid_0's multi_error: 0.552607\n",
      "[837]\tvalid_0's multi_error: 0.552575\n",
      "[838]\tvalid_0's multi_error: 0.552571\n",
      "[839]\tvalid_0's multi_error: 0.552566\n",
      "[840]\tvalid_0's multi_error: 0.552566\n",
      "[841]\tvalid_0's multi_error: 0.552547\n",
      "[842]\tvalid_0's multi_error: 0.552541\n",
      "[843]\tvalid_0's multi_error: 0.552545\n",
      "[844]\tvalid_0's multi_error: 0.55258\n",
      "[845]\tvalid_0's multi_error: 0.552541\n",
      "[846]\tvalid_0's multi_error: 0.55255\n",
      "[847]\tvalid_0's multi_error: 0.552534\n",
      "[848]\tvalid_0's multi_error: 0.552559\n",
      "[849]\tvalid_0's multi_error: 0.552542\n",
      "[850]\tvalid_0's multi_error: 0.552517\n",
      "[851]\tvalid_0's multi_error: 0.552541\n",
      "[852]\tvalid_0's multi_error: 0.552504\n",
      "[853]\tvalid_0's multi_error: 0.552513\n",
      "[854]\tvalid_0's multi_error: 0.552505\n",
      "[855]\tvalid_0's multi_error: 0.552528\n",
      "[856]\tvalid_0's multi_error: 0.552517\n",
      "[857]\tvalid_0's multi_error: 0.552504\n",
      "[858]\tvalid_0's multi_error: 0.552486\n",
      "[859]\tvalid_0's multi_error: 0.55248\n",
      "[860]\tvalid_0's multi_error: 0.55246\n",
      "[861]\tvalid_0's multi_error: 0.552474\n",
      "[862]\tvalid_0's multi_error: 0.552425\n",
      "[863]\tvalid_0's multi_error: 0.55245\n",
      "[864]\tvalid_0's multi_error: 0.552463\n",
      "[865]\tvalid_0's multi_error: 0.552459\n",
      "[866]\tvalid_0's multi_error: 0.552468\n",
      "[867]\tvalid_0's multi_error: 0.552492\n",
      "[868]\tvalid_0's multi_error: 0.552465\n",
      "[869]\tvalid_0's multi_error: 0.552483\n",
      "[870]\tvalid_0's multi_error: 0.55245\n",
      "[871]\tvalid_0's multi_error: 0.552431\n",
      "[872]\tvalid_0's multi_error: 0.552425\n",
      "[873]\tvalid_0's multi_error: 0.552466\n",
      "[874]\tvalid_0's multi_error: 0.552457\n",
      "[875]\tvalid_0's multi_error: 0.552459\n",
      "[876]\tvalid_0's multi_error: 0.552445\n",
      "[877]\tvalid_0's multi_error: 0.55242\n",
      "[878]\tvalid_0's multi_error: 0.552408\n",
      "[879]\tvalid_0's multi_error: 0.552432\n",
      "[880]\tvalid_0's multi_error: 0.552441\n",
      "[881]\tvalid_0's multi_error: 0.552428\n",
      "[882]\tvalid_0's multi_error: 0.552387\n",
      "[883]\tvalid_0's multi_error: 0.552336\n",
      "[884]\tvalid_0's multi_error: 0.552351\n",
      "[885]\tvalid_0's multi_error: 0.552338\n",
      "[886]\tvalid_0's multi_error: 0.552329\n",
      "[887]\tvalid_0's multi_error: 0.552339\n",
      "[888]\tvalid_0's multi_error: 0.552357\n",
      "[889]\tvalid_0's multi_error: 0.552371\n",
      "[890]\tvalid_0's multi_error: 0.55238\n",
      "[891]\tvalid_0's multi_error: 0.552384\n",
      "[892]\tvalid_0's multi_error: 0.552389\n",
      "[893]\tvalid_0's multi_error: 0.552351\n",
      "[894]\tvalid_0's multi_error: 0.552332\n",
      "[895]\tvalid_0's multi_error: 0.552316\n",
      "[896]\tvalid_0's multi_error: 0.55232\n",
      "[897]\tvalid_0's multi_error: 0.552292\n",
      "[898]\tvalid_0's multi_error: 0.55231\n",
      "[899]\tvalid_0's multi_error: 0.552299\n",
      "[900]\tvalid_0's multi_error: 0.552292\n",
      "[901]\tvalid_0's multi_error: 0.552317\n",
      "[902]\tvalid_0's multi_error: 0.552317\n",
      "[903]\tvalid_0's multi_error: 0.552304\n",
      "[904]\tvalid_0's multi_error: 0.552322\n",
      "[905]\tvalid_0's multi_error: 0.552329\n",
      "[906]\tvalid_0's multi_error: 0.552335\n",
      "[907]\tvalid_0's multi_error: 0.552354\n",
      "[908]\tvalid_0's multi_error: 0.552366\n",
      "[909]\tvalid_0's multi_error: 0.552342\n",
      "[910]\tvalid_0's multi_error: 0.552329\n",
      "[911]\tvalid_0's multi_error: 0.552332\n",
      "[912]\tvalid_0's multi_error: 0.552331\n",
      "[913]\tvalid_0's multi_error: 0.552325\n",
      "[914]\tvalid_0's multi_error: 0.552307\n",
      "[915]\tvalid_0's multi_error: 0.552286\n",
      "[916]\tvalid_0's multi_error: 0.552278\n",
      "[917]\tvalid_0's multi_error: 0.552289\n",
      "[918]\tvalid_0's multi_error: 0.552263\n",
      "[919]\tvalid_0's multi_error: 0.552262\n",
      "[920]\tvalid_0's multi_error: 0.552256\n",
      "[921]\tvalid_0's multi_error: 0.552231\n",
      "[922]\tvalid_0's multi_error: 0.552214\n",
      "[923]\tvalid_0's multi_error: 0.552213\n",
      "[924]\tvalid_0's multi_error: 0.552213\n",
      "[925]\tvalid_0's multi_error: 0.552235\n",
      "[926]\tvalid_0's multi_error: 0.552268\n",
      "[927]\tvalid_0's multi_error: 0.552241\n",
      "[928]\tvalid_0's multi_error: 0.552236\n",
      "[929]\tvalid_0's multi_error: 0.552226\n",
      "[930]\tvalid_0's multi_error: 0.552278\n",
      "[931]\tvalid_0's multi_error: 0.552293\n",
      "[932]\tvalid_0's multi_error: 0.552278\n",
      "[933]\tvalid_0's multi_error: 0.552281\n",
      "[934]\tvalid_0's multi_error: 0.552268\n",
      "[935]\tvalid_0's multi_error: 0.552216\n",
      "[936]\tvalid_0's multi_error: 0.552236\n",
      "[937]\tvalid_0's multi_error: 0.552241\n",
      "[938]\tvalid_0's multi_error: 0.552208\n",
      "[939]\tvalid_0's multi_error: 0.552211\n",
      "[940]\tvalid_0's multi_error: 0.552195\n",
      "[941]\tvalid_0's multi_error: 0.552266\n",
      "[942]\tvalid_0's multi_error: 0.552275\n",
      "[943]\tvalid_0's multi_error: 0.552311\n",
      "[944]\tvalid_0's multi_error: 0.552275\n",
      "[945]\tvalid_0's multi_error: 0.552242\n",
      "[946]\tvalid_0's multi_error: 0.552256\n",
      "[947]\tvalid_0's multi_error: 0.552259\n",
      "[948]\tvalid_0's multi_error: 0.552262\n",
      "[949]\tvalid_0's multi_error: 0.552247\n",
      "[950]\tvalid_0's multi_error: 0.552247\n",
      "[951]\tvalid_0's multi_error: 0.552228\n",
      "[952]\tvalid_0's multi_error: 0.552214\n",
      "[953]\tvalid_0's multi_error: 0.552193\n",
      "[954]\tvalid_0's multi_error: 0.552186\n",
      "[955]\tvalid_0's multi_error: 0.552168\n",
      "[956]\tvalid_0's multi_error: 0.55218\n",
      "[957]\tvalid_0's multi_error: 0.552174\n",
      "[958]\tvalid_0's multi_error: 0.552172\n",
      "[959]\tvalid_0's multi_error: 0.552147\n",
      "[960]\tvalid_0's multi_error: 0.552192\n",
      "[961]\tvalid_0's multi_error: 0.552169\n",
      "[962]\tvalid_0's multi_error: 0.552163\n",
      "[963]\tvalid_0's multi_error: 0.552139\n",
      "[964]\tvalid_0's multi_error: 0.552169\n",
      "[965]\tvalid_0's multi_error: 0.552169\n",
      "[966]\tvalid_0's multi_error: 0.552144\n",
      "[967]\tvalid_0's multi_error: 0.552114\n",
      "[968]\tvalid_0's multi_error: 0.552159\n",
      "[969]\tvalid_0's multi_error: 0.552135\n",
      "[970]\tvalid_0's multi_error: 0.552154\n",
      "[971]\tvalid_0's multi_error: 0.552147\n",
      "[972]\tvalid_0's multi_error: 0.55215\n",
      "[973]\tvalid_0's multi_error: 0.552147\n",
      "[974]\tvalid_0's multi_error: 0.552126\n",
      "[975]\tvalid_0's multi_error: 0.552138\n",
      "[976]\tvalid_0's multi_error: 0.55209\n",
      "[977]\tvalid_0's multi_error: 0.552077\n",
      "[978]\tvalid_0's multi_error: 0.552095\n",
      "[979]\tvalid_0's multi_error: 0.552154\n",
      "[980]\tvalid_0's multi_error: 0.552141\n",
      "[981]\tvalid_0's multi_error: 0.552163\n",
      "[982]\tvalid_0's multi_error: 0.552102\n",
      "[983]\tvalid_0's multi_error: 0.552086\n",
      "[984]\tvalid_0's multi_error: 0.552092\n",
      "[985]\tvalid_0's multi_error: 0.552101\n",
      "[986]\tvalid_0's multi_error: 0.552092\n",
      "[987]\tvalid_0's multi_error: 0.55206\n",
      "[988]\tvalid_0's multi_error: 0.552025\n",
      "[989]\tvalid_0's multi_error: 0.552016\n",
      "[990]\tvalid_0's multi_error: 0.552031\n",
      "[991]\tvalid_0's multi_error: 0.55205\n",
      "[992]\tvalid_0's multi_error: 0.552042\n",
      "[993]\tvalid_0's multi_error: 0.552057\n",
      "[994]\tvalid_0's multi_error: 0.552057\n",
      "[995]\tvalid_0's multi_error: 0.552039\n",
      "[996]\tvalid_0's multi_error: 0.552057\n",
      "[997]\tvalid_0's multi_error: 0.552032\n",
      "[998]\tvalid_0's multi_error: 0.552044\n",
      "[999]\tvalid_0's multi_error: 0.552031\n",
      "[1000]\tvalid_0's multi_error: 0.551983\n",
      "Did not meet early stopping. Best iteration is:\n",
      "[1000]\tvalid_0's multi_error: 0.551983\n",
      "1\n",
      "training start...\n",
      "[1]\tvalid_0's multi_error: 0.637504\n",
      "Training until validation scores don't improve for 50 rounds.\n",
      "[2]\tvalid_0's multi_error: 0.624661\n",
      "[3]\tvalid_0's multi_error: 0.61851\n",
      "[4]\tvalid_0's multi_error: 0.615015\n",
      "[5]\tvalid_0's multi_error: 0.614512\n",
      "[6]\tvalid_0's multi_error: 0.611472\n",
      "[7]\tvalid_0's multi_error: 0.610133\n",
      "[8]\tvalid_0's multi_error: 0.609303\n",
      "[9]\tvalid_0's multi_error: 0.608619\n",
      "[10]\tvalid_0's multi_error: 0.607451\n",
      "[11]\tvalid_0's multi_error: 0.606857\n",
      "[12]\tvalid_0's multi_error: 0.60586\n",
      "[13]\tvalid_0's multi_error: 0.605343\n",
      "[14]\tvalid_0's multi_error: 0.604675\n",
      "[15]\tvalid_0's multi_error: 0.604073\n",
      "[16]\tvalid_0's multi_error: 0.602996\n",
      "[17]\tvalid_0's multi_error: 0.602597\n",
      "[18]\tvalid_0's multi_error: 0.602284\n",
      "[19]\tvalid_0's multi_error: 0.60176\n",
      "[20]\tvalid_0's multi_error: 0.601175\n",
      "[21]\tvalid_0's multi_error: 0.600361\n",
      "[22]\tvalid_0's multi_error: 0.599724\n",
      "[23]\tvalid_0's multi_error: 0.599225\n",
      "[24]\tvalid_0's multi_error: 0.598816\n",
      "[25]\tvalid_0's multi_error: 0.598097\n",
      "[26]\tvalid_0's multi_error: 0.597545\n",
      "[27]\tvalid_0's multi_error: 0.597076\n",
      "[28]\tvalid_0's multi_error: 0.596296\n",
      "[29]\tvalid_0's multi_error: 0.595952\n",
      "[30]\tvalid_0's multi_error: 0.595661\n",
      "[31]\tvalid_0's multi_error: 0.595022\n",
      "[32]\tvalid_0's multi_error: 0.594628\n",
      "[33]\tvalid_0's multi_error: 0.594206\n",
      "[34]\tvalid_0's multi_error: 0.593621\n",
      "[35]\tvalid_0's multi_error: 0.592831\n",
      "[36]\tvalid_0's multi_error: 0.592406\n",
      "[37]\tvalid_0's multi_error: 0.591991\n",
      "[38]\tvalid_0's multi_error: 0.591685\n",
      "[39]\tvalid_0's multi_error: 0.591085\n",
      "[40]\tvalid_0's multi_error: 0.590713\n",
      "[41]\tvalid_0's multi_error: 0.590206\n",
      "[42]\tvalid_0's multi_error: 0.589716\n",
      "[43]\tvalid_0's multi_error: 0.589348\n",
      "[44]\tvalid_0's multi_error: 0.588963\n",
      "[45]\tvalid_0's multi_error: 0.588363\n",
      "[46]\tvalid_0's multi_error: 0.587922\n",
      "[47]\tvalid_0's multi_error: 0.587554\n",
      "[48]\tvalid_0's multi_error: 0.586976\n",
      "[49]\tvalid_0's multi_error: 0.58659\n",
      "[50]\tvalid_0's multi_error: 0.586203\n",
      "[51]\tvalid_0's multi_error: 0.585976\n",
      "[52]\tvalid_0's multi_error: 0.58553\n",
      "[53]\tvalid_0's multi_error: 0.585182\n",
      "[54]\tvalid_0's multi_error: 0.585048\n",
      "[55]\tvalid_0's multi_error: 0.58456\n",
      "[56]\tvalid_0's multi_error: 0.584303\n",
      "[57]\tvalid_0's multi_error: 0.583999\n",
      "[58]\tvalid_0's multi_error: 0.583591\n",
      "[59]\tvalid_0's multi_error: 0.583381\n",
      "[60]\tvalid_0's multi_error: 0.583127\n",
      "[61]\tvalid_0's multi_error: 0.582875\n",
      "[62]\tvalid_0's multi_error: 0.582555\n",
      "[63]\tvalid_0's multi_error: 0.582316\n",
      "[64]\tvalid_0's multi_error: 0.581997\n",
      "[65]\tvalid_0's multi_error: 0.581928\n",
      "[66]\tvalid_0's multi_error: 0.581615\n",
      "[67]\tvalid_0's multi_error: 0.58119\n",
      "[68]\tvalid_0's multi_error: 0.580952\n",
      "[69]\tvalid_0's multi_error: 0.580724\n",
      "[70]\tvalid_0's multi_error: 0.580343\n",
      "[71]\tvalid_0's multi_error: 0.580215\n",
      "[72]\tvalid_0's multi_error: 0.579888\n",
      "[73]\tvalid_0's multi_error: 0.579588\n",
      "[74]\tvalid_0's multi_error: 0.579355\n",
      "[75]\tvalid_0's multi_error: 0.579146\n",
      "[76]\tvalid_0's multi_error: 0.578933\n",
      "[77]\tvalid_0's multi_error: 0.578679\n",
      "[78]\tvalid_0's multi_error: 0.578443\n",
      "[79]\tvalid_0's multi_error: 0.578272\n",
      "[80]\tvalid_0's multi_error: 0.577984\n",
      "[81]\tvalid_0's multi_error: 0.577963\n",
      "[82]\tvalid_0's multi_error: 0.577754\n",
      "[83]\tvalid_0's multi_error: 0.577536\n",
      "[84]\tvalid_0's multi_error: 0.577221\n",
      "[85]\tvalid_0's multi_error: 0.576937\n",
      "[86]\tvalid_0's multi_error: 0.576778\n",
      "[87]\tvalid_0's multi_error: 0.576442\n",
      "[88]\tvalid_0's multi_error: 0.576257\n",
      "[89]\tvalid_0's multi_error: 0.576007\n",
      "[90]\tvalid_0's multi_error: 0.575788\n",
      "[91]\tvalid_0's multi_error: 0.575693\n",
      "[92]\tvalid_0's multi_error: 0.575512\n",
      "[93]\tvalid_0's multi_error: 0.575169\n",
      "[94]\tvalid_0's multi_error: 0.575061\n",
      "[95]\tvalid_0's multi_error: 0.574931\n",
      "[96]\tvalid_0's multi_error: 0.574755\n",
      "[97]\tvalid_0's multi_error: 0.574449\n",
      "[98]\tvalid_0's multi_error: 0.574234\n",
      "[99]\tvalid_0's multi_error: 0.574145\n",
      "[100]\tvalid_0's multi_error: 0.573846\n",
      "[101]\tvalid_0's multi_error: 0.573631\n",
      "[102]\tvalid_0's multi_error: 0.573481\n",
      "[103]\tvalid_0's multi_error: 0.573439\n",
      "[104]\tvalid_0's multi_error: 0.573245\n",
      "[105]\tvalid_0's multi_error: 0.573161\n",
      "[106]\tvalid_0's multi_error: 0.572957\n",
      "[107]\tvalid_0's multi_error: 0.572737\n",
      "[108]\tvalid_0's multi_error: 0.572639\n",
      "[109]\tvalid_0's multi_error: 0.572452\n",
      "[110]\tvalid_0's multi_error: 0.572225\n",
      "[111]\tvalid_0's multi_error: 0.572224\n",
      "[112]\tvalid_0's multi_error: 0.571958\n",
      "[113]\tvalid_0's multi_error: 0.571916\n",
      "[114]\tvalid_0's multi_error: 0.571907\n",
      "[115]\tvalid_0's multi_error: 0.571687\n",
      "[116]\tvalid_0's multi_error: 0.571482\n",
      "[117]\tvalid_0's multi_error: 0.571275\n",
      "[118]\tvalid_0's multi_error: 0.571122\n",
      "[119]\tvalid_0's multi_error: 0.570909\n",
      "[120]\tvalid_0's multi_error: 0.570861\n",
      "[121]\tvalid_0's multi_error: 0.570661\n",
      "[122]\tvalid_0's multi_error: 0.570513\n",
      "[123]\tvalid_0's multi_error: 0.570306\n",
      "[124]\tvalid_0's multi_error: 0.570161\n",
      "[125]\tvalid_0's multi_error: 0.570046\n",
      "[126]\tvalid_0's multi_error: 0.569999\n",
      "[127]\tvalid_0's multi_error: 0.569837\n",
      "[128]\tvalid_0's multi_error: 0.569679\n",
      "[129]\tvalid_0's multi_error: 0.56941\n",
      "[130]\tvalid_0's multi_error: 0.569378\n",
      "[131]\tvalid_0's multi_error: 0.569304\n",
      "[132]\tvalid_0's multi_error: 0.569221\n",
      "[133]\tvalid_0's multi_error: 0.569051\n",
      "[134]\tvalid_0's multi_error: 0.568851\n",
      "[135]\tvalid_0's multi_error: 0.568748\n",
      "[136]\tvalid_0's multi_error: 0.568791\n",
      "[137]\tvalid_0's multi_error: 0.568694\n",
      "[138]\tvalid_0's multi_error: 0.56856\n",
      "[139]\tvalid_0's multi_error: 0.568527\n",
      "[140]\tvalid_0's multi_error: 0.568463\n",
      "[141]\tvalid_0's multi_error: 0.568319\n",
      "[142]\tvalid_0's multi_error: 0.568197\n",
      "[143]\tvalid_0's multi_error: 0.568022\n",
      "[144]\tvalid_0's multi_error: 0.568057\n",
      "[145]\tvalid_0's multi_error: 0.567899\n",
      "[146]\tvalid_0's multi_error: 0.567857\n",
      "[147]\tvalid_0's multi_error: 0.567761\n",
      "[148]\tvalid_0's multi_error: 0.567618\n",
      "[149]\tvalid_0's multi_error: 0.567572\n",
      "[150]\tvalid_0's multi_error: 0.567361\n",
      "[151]\tvalid_0's multi_error: 0.567219\n",
      "[152]\tvalid_0's multi_error: 0.567194\n",
      "[153]\tvalid_0's multi_error: 0.56706\n",
      "[154]\tvalid_0's multi_error: 0.56693\n",
      "[155]\tvalid_0's multi_error: 0.56691\n",
      "[156]\tvalid_0's multi_error: 0.566839\n",
      "[157]\tvalid_0's multi_error: 0.566672\n",
      "[158]\tvalid_0's multi_error: 0.566604\n",
      "[159]\tvalid_0's multi_error: 0.566416\n",
      "[160]\tvalid_0's multi_error: 0.566369\n",
      "[161]\tvalid_0's multi_error: 0.56619\n",
      "[162]\tvalid_0's multi_error: 0.566001\n",
      "[163]\tvalid_0's multi_error: 0.565916\n",
      "[164]\tvalid_0's multi_error: 0.565899\n",
      "[165]\tvalid_0's multi_error: 0.565864\n",
      "[166]\tvalid_0's multi_error: 0.565784\n",
      "[167]\tvalid_0's multi_error: 0.565673\n",
      "[168]\tvalid_0's multi_error: 0.565604\n",
      "[169]\tvalid_0's multi_error: 0.565461\n",
      "[170]\tvalid_0's multi_error: 0.565403\n",
      "[171]\tvalid_0's multi_error: 0.565382\n",
      "[172]\tvalid_0's multi_error: 0.565343\n",
      "[173]\tvalid_0's multi_error: 0.56519\n",
      "[174]\tvalid_0's multi_error: 0.565131\n",
      "[175]\tvalid_0's multi_error: 0.565155\n",
      "[176]\tvalid_0's multi_error: 0.564979\n",
      "[177]\tvalid_0's multi_error: 0.564755\n",
      "[178]\tvalid_0's multi_error: 0.564776\n",
      "[179]\tvalid_0's multi_error: 0.564663\n",
      "[180]\tvalid_0's multi_error: 0.564539\n",
      "[181]\tvalid_0's multi_error: 0.564461\n",
      "[182]\tvalid_0's multi_error: 0.564475\n",
      "[183]\tvalid_0's multi_error: 0.56433\n",
      "[184]\tvalid_0's multi_error: 0.564258\n",
      "[185]\tvalid_0's multi_error: 0.56423\n",
      "[186]\tvalid_0's multi_error: 0.564194\n",
      "[187]\tvalid_0's multi_error: 0.564206\n",
      "[188]\tvalid_0's multi_error: 0.564087\n",
      "[189]\tvalid_0's multi_error: 0.56404\n",
      "[190]\tvalid_0's multi_error: 0.564016\n",
      "[191]\tvalid_0's multi_error: 0.563978\n",
      "[192]\tvalid_0's multi_error: 0.563876\n",
      "[193]\tvalid_0's multi_error: 0.563776\n",
      "[194]\tvalid_0's multi_error: 0.563684\n",
      "[195]\tvalid_0's multi_error: 0.563639\n",
      "[196]\tvalid_0's multi_error: 0.563628\n",
      "[197]\tvalid_0's multi_error: 0.563543\n",
      "[198]\tvalid_0's multi_error: 0.563419\n",
      "[199]\tvalid_0's multi_error: 0.563275\n",
      "[200]\tvalid_0's multi_error: 0.563279\n",
      "[201]\tvalid_0's multi_error: 0.563249\n",
      "[202]\tvalid_0's multi_error: 0.563255\n",
      "[203]\tvalid_0's multi_error: 0.563215\n",
      "[204]\tvalid_0's multi_error: 0.563085\n",
      "[205]\tvalid_0's multi_error: 0.562979\n",
      "[206]\tvalid_0's multi_error: 0.562946\n",
      "[207]\tvalid_0's multi_error: 0.56283\n",
      "[208]\tvalid_0's multi_error: 0.562757\n",
      "[209]\tvalid_0's multi_error: 0.562673\n",
      "[210]\tvalid_0's multi_error: 0.562601\n",
      "[211]\tvalid_0's multi_error: 0.562475\n",
      "[212]\tvalid_0's multi_error: 0.562436\n",
      "[213]\tvalid_0's multi_error: 0.562309\n",
      "[214]\tvalid_0's multi_error: 0.562199\n",
      "[215]\tvalid_0's multi_error: 0.56214\n",
      "[216]\tvalid_0's multi_error: 0.562145\n",
      "[217]\tvalid_0's multi_error: 0.562013\n",
      "[218]\tvalid_0's multi_error: 0.561869\n",
      "[219]\tvalid_0's multi_error: 0.561843\n",
      "[220]\tvalid_0's multi_error: 0.561806\n",
      "[221]\tvalid_0's multi_error: 0.561809\n",
      "[222]\tvalid_0's multi_error: 0.561772\n",
      "[223]\tvalid_0's multi_error: 0.56177\n",
      "[224]\tvalid_0's multi_error: 0.561684\n",
      "[225]\tvalid_0's multi_error: 0.561716\n",
      "[226]\tvalid_0's multi_error: 0.561675\n",
      "[227]\tvalid_0's multi_error: 0.561636\n",
      "[228]\tvalid_0's multi_error: 0.56157\n",
      "[229]\tvalid_0's multi_error: 0.561452\n",
      "[230]\tvalid_0's multi_error: 0.561442\n",
      "[231]\tvalid_0's multi_error: 0.561524\n",
      "[232]\tvalid_0's multi_error: 0.561354\n",
      "[233]\tvalid_0's multi_error: 0.561273\n",
      "[234]\tvalid_0's multi_error: 0.561194\n",
      "[235]\tvalid_0's multi_error: 0.561163\n",
      "[236]\tvalid_0's multi_error: 0.561143\n",
      "[237]\tvalid_0's multi_error: 0.561175\n",
      "[238]\tvalid_0's multi_error: 0.561158\n",
      "[239]\tvalid_0's multi_error: 0.561139\n",
      "[240]\tvalid_0's multi_error: 0.560952\n",
      "[241]\tvalid_0's multi_error: 0.560904\n",
      "[242]\tvalid_0's multi_error: 0.560863\n",
      "[243]\tvalid_0's multi_error: 0.560819\n",
      "[244]\tvalid_0's multi_error: 0.560658\n",
      "[245]\tvalid_0's multi_error: 0.560607\n",
      "[246]\tvalid_0's multi_error: 0.560584\n",
      "[247]\tvalid_0's multi_error: 0.560539\n",
      "[248]\tvalid_0's multi_error: 0.560448\n",
      "[249]\tvalid_0's multi_error: 0.560437\n",
      "[250]\tvalid_0's multi_error: 0.560357\n",
      "[251]\tvalid_0's multi_error: 0.560334\n",
      "[252]\tvalid_0's multi_error: 0.560266\n",
      "[253]\tvalid_0's multi_error: 0.56029\n",
      "[254]\tvalid_0's multi_error: 0.560297\n",
      "[255]\tvalid_0's multi_error: 0.560233\n",
      "[256]\tvalid_0's multi_error: 0.560287\n",
      "[257]\tvalid_0's multi_error: 0.560216\n",
      "[258]\tvalid_0's multi_error: 0.560227\n",
      "[259]\tvalid_0's multi_error: 0.560143\n",
      "[260]\tvalid_0's multi_error: 0.560099\n",
      "[261]\tvalid_0's multi_error: 0.560169\n",
      "[262]\tvalid_0's multi_error: 0.560078\n",
      "[263]\tvalid_0's multi_error: 0.559984\n",
      "[264]\tvalid_0's multi_error: 0.559861\n",
      "[265]\tvalid_0's multi_error: 0.559854\n",
      "[266]\tvalid_0's multi_error: 0.559784\n",
      "[267]\tvalid_0's multi_error: 0.559706\n",
      "[268]\tvalid_0's multi_error: 0.559685\n",
      "[269]\tvalid_0's multi_error: 0.559675\n",
      "[270]\tvalid_0's multi_error: 0.559596\n",
      "[271]\tvalid_0's multi_error: 0.559516\n",
      "[272]\tvalid_0's multi_error: 0.559539\n",
      "[273]\tvalid_0's multi_error: 0.559466\n",
      "[274]\tvalid_0's multi_error: 0.559343\n",
      "[275]\tvalid_0's multi_error: 0.559306\n",
      "[276]\tvalid_0's multi_error: 0.559318\n",
      "[277]\tvalid_0's multi_error: 0.559325\n",
      "[278]\tvalid_0's multi_error: 0.559215\n",
      "[279]\tvalid_0's multi_error: 0.559163\n",
      "[280]\tvalid_0's multi_error: 0.559094\n",
      "[281]\tvalid_0's multi_error: 0.559082\n",
      "[282]\tvalid_0's multi_error: 0.559033\n",
      "[283]\tvalid_0's multi_error: 0.559099\n",
      "[284]\tvalid_0's multi_error: 0.558997\n",
      "[285]\tvalid_0's multi_error: 0.558978\n",
      "[286]\tvalid_0's multi_error: 0.558927\n",
      "[287]\tvalid_0's multi_error: 0.558845\n",
      "[288]\tvalid_0's multi_error: 0.558797\n",
      "[289]\tvalid_0's multi_error: 0.55876\n",
      "[290]\tvalid_0's multi_error: 0.558701\n",
      "[291]\tvalid_0's multi_error: 0.558657\n",
      "[292]\tvalid_0's multi_error: 0.558603\n",
      "[293]\tvalid_0's multi_error: 0.558531\n",
      "[294]\tvalid_0's multi_error: 0.558561\n",
      "[295]\tvalid_0's multi_error: 0.558569\n",
      "[296]\tvalid_0's multi_error: 0.558482\n",
      "[297]\tvalid_0's multi_error: 0.558384\n",
      "[298]\tvalid_0's multi_error: 0.558385\n",
      "[299]\tvalid_0's multi_error: 0.558351\n",
      "[300]\tvalid_0's multi_error: 0.558316\n",
      "[301]\tvalid_0's multi_error: 0.558345\n",
      "[302]\tvalid_0's multi_error: 0.558294\n",
      "[303]\tvalid_0's multi_error: 0.558227\n",
      "[304]\tvalid_0's multi_error: 0.558163\n",
      "[305]\tvalid_0's multi_error: 0.558163\n",
      "[306]\tvalid_0's multi_error: 0.55824\n",
      "[307]\tvalid_0's multi_error: 0.558133\n",
      "[308]\tvalid_0's multi_error: 0.558109\n",
      "[309]\tvalid_0's multi_error: 0.55811\n",
      "[310]\tvalid_0's multi_error: 0.558101\n",
      "[311]\tvalid_0's multi_error: 0.558058\n",
      "[312]\tvalid_0's multi_error: 0.558027\n",
      "[313]\tvalid_0's multi_error: 0.557945\n",
      "[314]\tvalid_0's multi_error: 0.557918\n",
      "[315]\tvalid_0's multi_error: 0.55791\n",
      "[316]\tvalid_0's multi_error: 0.557924\n",
      "[317]\tvalid_0's multi_error: 0.557858\n",
      "[318]\tvalid_0's multi_error: 0.557864\n",
      "[319]\tvalid_0's multi_error: 0.55786\n",
      "[320]\tvalid_0's multi_error: 0.557872\n",
      "[321]\tvalid_0's multi_error: 0.557836\n",
      "[322]\tvalid_0's multi_error: 0.557779\n",
      "[323]\tvalid_0's multi_error: 0.557731\n",
      "[324]\tvalid_0's multi_error: 0.557745\n",
      "[325]\tvalid_0's multi_error: 0.557742\n",
      "[326]\tvalid_0's multi_error: 0.557697\n",
      "[327]\tvalid_0's multi_error: 0.557724\n",
      "[328]\tvalid_0's multi_error: 0.557684\n",
      "[329]\tvalid_0's multi_error: 0.557637\n",
      "[330]\tvalid_0's multi_error: 0.55759\n",
      "[331]\tvalid_0's multi_error: 0.55757\n",
      "[332]\tvalid_0's multi_error: 0.557554\n",
      "[333]\tvalid_0's multi_error: 0.55751\n",
      "[334]\tvalid_0's multi_error: 0.557439\n",
      "[335]\tvalid_0's multi_error: 0.557445\n",
      "[336]\tvalid_0's multi_error: 0.557461\n",
      "[337]\tvalid_0's multi_error: 0.557431\n",
      "[338]\tvalid_0's multi_error: 0.557376\n",
      "[339]\tvalid_0's multi_error: 0.557401\n",
      "[340]\tvalid_0's multi_error: 0.557409\n",
      "[341]\tvalid_0's multi_error: 0.557364\n",
      "[342]\tvalid_0's multi_error: 0.557304\n",
      "[343]\tvalid_0's multi_error: 0.55731\n",
      "[344]\tvalid_0's multi_error: 0.557236\n",
      "[345]\tvalid_0's multi_error: 0.557199\n",
      "[346]\tvalid_0's multi_error: 0.557176\n",
      "[347]\tvalid_0's multi_error: 0.557173\n",
      "[348]\tvalid_0's multi_error: 0.55716\n",
      "[349]\tvalid_0's multi_error: 0.557145\n",
      "[350]\tvalid_0's multi_error: 0.557103\n",
      "[351]\tvalid_0's multi_error: 0.55709\n",
      "[352]\tvalid_0's multi_error: 0.557037\n",
      "[353]\tvalid_0's multi_error: 0.557016\n",
      "[354]\tvalid_0's multi_error: 0.556978\n",
      "[355]\tvalid_0's multi_error: 0.556919\n",
      "[356]\tvalid_0's multi_error: 0.556915\n",
      "[357]\tvalid_0's multi_error: 0.556796\n",
      "[358]\tvalid_0's multi_error: 0.556757\n",
      "[359]\tvalid_0's multi_error: 0.556764\n",
      "[360]\tvalid_0's multi_error: 0.556755\n",
      "[361]\tvalid_0's multi_error: 0.556763\n",
      "[362]\tvalid_0's multi_error: 0.556754\n",
      "[363]\tvalid_0's multi_error: 0.55674\n",
      "[364]\tvalid_0's multi_error: 0.556764\n",
      "[365]\tvalid_0's multi_error: 0.55679\n",
      "[366]\tvalid_0's multi_error: 0.556755\n",
      "[367]\tvalid_0's multi_error: 0.55674\n",
      "[368]\tvalid_0's multi_error: 0.556728\n",
      "[369]\tvalid_0's multi_error: 0.556733\n",
      "[370]\tvalid_0's multi_error: 0.556666\n",
      "[371]\tvalid_0's multi_error: 0.556664\n",
      "[372]\tvalid_0's multi_error: 0.55667\n",
      "[373]\tvalid_0's multi_error: 0.556633\n",
      "[374]\tvalid_0's multi_error: 0.55663\n",
      "[375]\tvalid_0's multi_error: 0.556693\n",
      "[376]\tvalid_0's multi_error: 0.556688\n",
      "[377]\tvalid_0's multi_error: 0.556672\n",
      "[378]\tvalid_0's multi_error: 0.556681\n",
      "[379]\tvalid_0's multi_error: 0.556636\n",
      "[380]\tvalid_0's multi_error: 0.55661\n",
      "[381]\tvalid_0's multi_error: 0.556567\n",
      "[382]\tvalid_0's multi_error: 0.556518\n",
      "[383]\tvalid_0's multi_error: 0.556522\n",
      "[384]\tvalid_0's multi_error: 0.556461\n",
      "[385]\tvalid_0's multi_error: 0.556394\n",
      "[386]\tvalid_0's multi_error: 0.556431\n",
      "[387]\tvalid_0's multi_error: 0.556449\n",
      "[388]\tvalid_0's multi_error: 0.556427\n",
      "[389]\tvalid_0's multi_error: 0.556372\n",
      "[390]\tvalid_0's multi_error: 0.55637\n",
      "[391]\tvalid_0's multi_error: 0.556352\n",
      "[392]\tvalid_0's multi_error: 0.556243\n",
      "[393]\tvalid_0's multi_error: 0.55623\n",
      "[394]\tvalid_0's multi_error: 0.556201\n",
      "[395]\tvalid_0's multi_error: 0.556225\n",
      "[396]\tvalid_0's multi_error: 0.556191\n",
      "[397]\tvalid_0's multi_error: 0.556185\n",
      "[398]\tvalid_0's multi_error: 0.55616\n",
      "[399]\tvalid_0's multi_error: 0.556163\n",
      "[400]\tvalid_0's multi_error: 0.556121\n",
      "[401]\tvalid_0's multi_error: 0.556101\n",
      "[402]\tvalid_0's multi_error: 0.556052\n",
      "[403]\tvalid_0's multi_error: 0.556037\n",
      "[404]\tvalid_0's multi_error: 0.556004\n",
      "[405]\tvalid_0's multi_error: 0.555993\n",
      "[406]\tvalid_0's multi_error: 0.556049\n",
      "[407]\tvalid_0's multi_error: 0.556078\n",
      "[408]\tvalid_0's multi_error: 0.55606\n",
      "[409]\tvalid_0's multi_error: 0.556013\n",
      "[410]\tvalid_0's multi_error: 0.556015\n",
      "[411]\tvalid_0's multi_error: 0.555966\n",
      "[412]\tvalid_0's multi_error: 0.555952\n",
      "[413]\tvalid_0's multi_error: 0.555885\n",
      "[414]\tvalid_0's multi_error: 0.555896\n",
      "[415]\tvalid_0's multi_error: 0.555909\n",
      "[416]\tvalid_0's multi_error: 0.55584\n",
      "[417]\tvalid_0's multi_error: 0.555763\n",
      "[418]\tvalid_0's multi_error: 0.555746\n",
      "[419]\tvalid_0's multi_error: 0.555734\n",
      "[420]\tvalid_0's multi_error: 0.555712\n",
      "[421]\tvalid_0's multi_error: 0.555679\n",
      "[422]\tvalid_0's multi_error: 0.555724\n",
      "[423]\tvalid_0's multi_error: 0.555785\n",
      "[424]\tvalid_0's multi_error: 0.555758\n",
      "[425]\tvalid_0's multi_error: 0.555733\n",
      "[426]\tvalid_0's multi_error: 0.555734\n",
      "[427]\tvalid_0's multi_error: 0.55569\n",
      "[428]\tvalid_0's multi_error: 0.55566\n",
      "[429]\tvalid_0's multi_error: 0.555687\n",
      "[430]\tvalid_0's multi_error: 0.555793\n",
      "[431]\tvalid_0's multi_error: 0.555728\n",
      "[432]\tvalid_0's multi_error: 0.555775\n",
      "[433]\tvalid_0's multi_error: 0.555712\n",
      "[434]\tvalid_0's multi_error: 0.55567\n",
      "[435]\tvalid_0's multi_error: 0.555622\n",
      "[436]\tvalid_0's multi_error: 0.555616\n",
      "[437]\tvalid_0's multi_error: 0.55566\n",
      "[438]\tvalid_0's multi_error: 0.555682\n",
      "[439]\tvalid_0's multi_error: 0.555637\n",
      "[440]\tvalid_0's multi_error: 0.555633\n",
      "[441]\tvalid_0's multi_error: 0.555646\n",
      "[442]\tvalid_0's multi_error: 0.555679\n",
      "[443]\tvalid_0's multi_error: 0.555681\n",
      "[444]\tvalid_0's multi_error: 0.555663\n",
      "[445]\tvalid_0's multi_error: 0.555645\n",
      "[446]\tvalid_0's multi_error: 0.555537\n",
      "[447]\tvalid_0's multi_error: 0.55551\n",
      "[448]\tvalid_0's multi_error: 0.555528\n",
      "[449]\tvalid_0's multi_error: 0.555548\n",
      "[450]\tvalid_0's multi_error: 0.55551\n",
      "[451]\tvalid_0's multi_error: 0.555536\n",
      "[452]\tvalid_0's multi_error: 0.555463\n",
      "[453]\tvalid_0's multi_error: 0.555475\n",
      "[454]\tvalid_0's multi_error: 0.55541\n",
      "[455]\tvalid_0's multi_error: 0.555439\n",
      "[456]\tvalid_0's multi_error: 0.555373\n",
      "[457]\tvalid_0's multi_error: 0.555373\n",
      "[458]\tvalid_0's multi_error: 0.555331\n",
      "[459]\tvalid_0's multi_error: 0.555281\n",
      "[460]\tvalid_0's multi_error: 0.55529\n",
      "[461]\tvalid_0's multi_error: 0.55524\n",
      "[462]\tvalid_0's multi_error: 0.555255\n",
      "[463]\tvalid_0's multi_error: 0.55523\n",
      "[464]\tvalid_0's multi_error: 0.555191\n",
      "[465]\tvalid_0's multi_error: 0.555146\n",
      "[466]\tvalid_0's multi_error: 0.555146\n",
      "[467]\tvalid_0's multi_error: 0.555206\n",
      "[468]\tvalid_0's multi_error: 0.555219\n",
      "[469]\tvalid_0's multi_error: 0.555239\n",
      "[470]\tvalid_0's multi_error: 0.555222\n",
      "[471]\tvalid_0's multi_error: 0.555201\n",
      "[472]\tvalid_0's multi_error: 0.555157\n",
      "[473]\tvalid_0's multi_error: 0.555109\n",
      "[474]\tvalid_0's multi_error: 0.555127\n",
      "[475]\tvalid_0's multi_error: 0.555112\n",
      "[476]\tvalid_0's multi_error: 0.555125\n",
      "[477]\tvalid_0's multi_error: 0.555143\n",
      "[478]\tvalid_0's multi_error: 0.555116\n",
      "[479]\tvalid_0's multi_error: 0.555067\n",
      "[480]\tvalid_0's multi_error: 0.555039\n",
      "[481]\tvalid_0's multi_error: 0.555042\n",
      "[482]\tvalid_0's multi_error: 0.555037\n",
      "[483]\tvalid_0's multi_error: 0.55499\n",
      "[484]\tvalid_0's multi_error: 0.554985\n",
      "[485]\tvalid_0's multi_error: 0.554946\n",
      "[486]\tvalid_0's multi_error: 0.554916\n",
      "[487]\tvalid_0's multi_error: 0.554924\n",
      "[488]\tvalid_0's multi_error: 0.554931\n",
      "[489]\tvalid_0's multi_error: 0.554927\n",
      "[490]\tvalid_0's multi_error: 0.554887\n",
      "[491]\tvalid_0's multi_error: 0.554839\n",
      "[492]\tvalid_0's multi_error: 0.554842\n",
      "[493]\tvalid_0's multi_error: 0.554822\n",
      "[494]\tvalid_0's multi_error: 0.554831\n",
      "[495]\tvalid_0's multi_error: 0.554787\n",
      "[496]\tvalid_0's multi_error: 0.554761\n",
      "[497]\tvalid_0's multi_error: 0.554737\n",
      "[498]\tvalid_0's multi_error: 0.554719\n",
      "[499]\tvalid_0's multi_error: 0.554672\n",
      "[500]\tvalid_0's multi_error: 0.554685\n",
      "[501]\tvalid_0's multi_error: 0.554691\n",
      "[502]\tvalid_0's multi_error: 0.55466\n",
      "[503]\tvalid_0's multi_error: 0.554639\n",
      "[504]\tvalid_0's multi_error: 0.554681\n",
      "[505]\tvalid_0's multi_error: 0.554642\n",
      "[506]\tvalid_0's multi_error: 0.554637\n",
      "[507]\tvalid_0's multi_error: 0.554591\n",
      "[508]\tvalid_0's multi_error: 0.554609\n",
      "[509]\tvalid_0's multi_error: 0.554578\n",
      "[510]\tvalid_0's multi_error: 0.554578\n",
      "[511]\tvalid_0's multi_error: 0.554582\n",
      "[512]\tvalid_0's multi_error: 0.554558\n",
      "[513]\tvalid_0's multi_error: 0.554549\n",
      "[514]\tvalid_0's multi_error: 0.554463\n",
      "[515]\tvalid_0's multi_error: 0.554425\n",
      "[516]\tvalid_0's multi_error: 0.554455\n",
      "[517]\tvalid_0's multi_error: 0.554466\n",
      "[518]\tvalid_0's multi_error: 0.554422\n",
      "[519]\tvalid_0's multi_error: 0.5544\n",
      "[520]\tvalid_0's multi_error: 0.554406\n",
      "[521]\tvalid_0's multi_error: 0.554401\n",
      "[522]\tvalid_0's multi_error: 0.55439\n",
      "[523]\tvalid_0's multi_error: 0.554391\n",
      "[524]\tvalid_0's multi_error: 0.554415\n",
      "[525]\tvalid_0's multi_error: 0.554393\n",
      "[526]\tvalid_0's multi_error: 0.554366\n",
      "[527]\tvalid_0's multi_error: 0.554345\n",
      "[528]\tvalid_0's multi_error: 0.554388\n",
      "[529]\tvalid_0's multi_error: 0.554419\n",
      "[530]\tvalid_0's multi_error: 0.55436\n",
      "[531]\tvalid_0's multi_error: 0.554358\n",
      "[532]\tvalid_0's multi_error: 0.554366\n",
      "[533]\tvalid_0's multi_error: 0.554352\n",
      "[534]\tvalid_0's multi_error: 0.554369\n",
      "[535]\tvalid_0's multi_error: 0.554382\n",
      "[536]\tvalid_0's multi_error: 0.554397\n",
      "[537]\tvalid_0's multi_error: 0.554428\n",
      "[538]\tvalid_0's multi_error: 0.554448\n",
      "[539]\tvalid_0's multi_error: 0.554431\n",
      "[540]\tvalid_0's multi_error: 0.554407\n",
      "[541]\tvalid_0's multi_error: 0.554403\n",
      "[542]\tvalid_0's multi_error: 0.554391\n",
      "[543]\tvalid_0's multi_error: 0.55441\n",
      "[544]\tvalid_0's multi_error: 0.554375\n",
      "[545]\tvalid_0's multi_error: 0.554394\n",
      "[546]\tvalid_0's multi_error: 0.554367\n",
      "[547]\tvalid_0's multi_error: 0.554385\n",
      "[548]\tvalid_0's multi_error: 0.554367\n",
      "[549]\tvalid_0's multi_error: 0.55437\n",
      "[550]\tvalid_0's multi_error: 0.554351\n",
      "[551]\tvalid_0's multi_error: 0.554315\n",
      "[552]\tvalid_0's multi_error: 0.5543\n",
      "[553]\tvalid_0's multi_error: 0.554342\n",
      "[554]\tvalid_0's multi_error: 0.554316\n",
      "[555]\tvalid_0's multi_error: 0.554293\n",
      "[556]\tvalid_0's multi_error: 0.554246\n",
      "[557]\tvalid_0's multi_error: 0.554233\n",
      "[558]\tvalid_0's multi_error: 0.554204\n",
      "[559]\tvalid_0's multi_error: 0.554196\n",
      "[560]\tvalid_0's multi_error: 0.554176\n",
      "[561]\tvalid_0's multi_error: 0.554194\n",
      "[562]\tvalid_0's multi_error: 0.554249\n",
      "[563]\tvalid_0's multi_error: 0.554193\n",
      "[564]\tvalid_0's multi_error: 0.55421\n",
      "[565]\tvalid_0's multi_error: 0.554203\n",
      "[566]\tvalid_0's multi_error: 0.554219\n",
      "[567]\tvalid_0's multi_error: 0.554215\n",
      "[568]\tvalid_0's multi_error: 0.554246\n",
      "[569]\tvalid_0's multi_error: 0.554201\n",
      "[570]\tvalid_0's multi_error: 0.554137\n",
      "[571]\tvalid_0's multi_error: 0.554128\n",
      "[572]\tvalid_0's multi_error: 0.554142\n",
      "[573]\tvalid_0's multi_error: 0.554146\n",
      "[574]\tvalid_0's multi_error: 0.554136\n",
      "[575]\tvalid_0's multi_error: 0.554116\n",
      "[576]\tvalid_0's multi_error: 0.554106\n",
      "[577]\tvalid_0's multi_error: 0.554091\n",
      "[578]\tvalid_0's multi_error: 0.5541\n",
      "[579]\tvalid_0's multi_error: 0.554113\n",
      "[580]\tvalid_0's multi_error: 0.554079\n",
      "[581]\tvalid_0's multi_error: 0.55409\n",
      "[582]\tvalid_0's multi_error: 0.554113\n",
      "[583]\tvalid_0's multi_error: 0.554091\n",
      "[584]\tvalid_0's multi_error: 0.554058\n",
      "[585]\tvalid_0's multi_error: 0.55407\n",
      "[586]\tvalid_0's multi_error: 0.55409\n",
      "[587]\tvalid_0's multi_error: 0.554061\n",
      "[588]\tvalid_0's multi_error: 0.55401\n",
      "[589]\tvalid_0's multi_error: 0.553993\n",
      "[590]\tvalid_0's multi_error: 0.553978\n",
      "[591]\tvalid_0's multi_error: 0.553969\n",
      "[592]\tvalid_0's multi_error: 0.553913\n",
      "[593]\tvalid_0's multi_error: 0.553899\n",
      "[594]\tvalid_0's multi_error: 0.553882\n",
      "[595]\tvalid_0's multi_error: 0.55389\n",
      "[596]\tvalid_0's multi_error: 0.553899\n",
      "[597]\tvalid_0's multi_error: 0.553872\n",
      "[598]\tvalid_0's multi_error: 0.553882\n",
      "[599]\tvalid_0's multi_error: 0.553901\n",
      "[600]\tvalid_0's multi_error: 0.553921\n",
      "[601]\tvalid_0's multi_error: 0.553933\n",
      "[602]\tvalid_0's multi_error: 0.553945\n",
      "[603]\tvalid_0's multi_error: 0.55393\n",
      "[604]\tvalid_0's multi_error: 0.553907\n",
      "[605]\tvalid_0's multi_error: 0.553925\n",
      "[606]\tvalid_0's multi_error: 0.553927\n",
      "[607]\tvalid_0's multi_error: 0.553893\n",
      "[608]\tvalid_0's multi_error: 0.553854\n",
      "[609]\tvalid_0's multi_error: 0.553842\n",
      "[610]\tvalid_0's multi_error: 0.553815\n",
      "[611]\tvalid_0's multi_error: 0.553797\n",
      "[612]\tvalid_0's multi_error: 0.55377\n",
      "[613]\tvalid_0's multi_error: 0.553755\n",
      "[614]\tvalid_0's multi_error: 0.553778\n",
      "[615]\tvalid_0's multi_error: 0.553788\n",
      "[616]\tvalid_0's multi_error: 0.553803\n",
      "[617]\tvalid_0's multi_error: 0.553793\n",
      "[618]\tvalid_0's multi_error: 0.553816\n",
      "[619]\tvalid_0's multi_error: 0.553827\n",
      "[620]\tvalid_0's multi_error: 0.553855\n",
      "[621]\tvalid_0's multi_error: 0.553834\n",
      "[622]\tvalid_0's multi_error: 0.553816\n",
      "[623]\tvalid_0's multi_error: 0.553816\n",
      "[624]\tvalid_0's multi_error: 0.553828\n",
      "[625]\tvalid_0's multi_error: 0.553816\n",
      "[626]\tvalid_0's multi_error: 0.553797\n",
      "[627]\tvalid_0's multi_error: 0.553781\n",
      "[628]\tvalid_0's multi_error: 0.553736\n",
      "[629]\tvalid_0's multi_error: 0.553727\n",
      "[630]\tvalid_0's multi_error: 0.553707\n",
      "[631]\tvalid_0's multi_error: 0.553667\n",
      "[632]\tvalid_0's multi_error: 0.553603\n",
      "[633]\tvalid_0's multi_error: 0.553624\n",
      "[634]\tvalid_0's multi_error: 0.553654\n",
      "[635]\tvalid_0's multi_error: 0.553664\n",
      "[636]\tvalid_0's multi_error: 0.553657\n",
      "[637]\tvalid_0's multi_error: 0.553646\n",
      "[638]\tvalid_0's multi_error: 0.553645\n",
      "[639]\tvalid_0's multi_error: 0.553646\n",
      "[640]\tvalid_0's multi_error: 0.553613\n",
      "[641]\tvalid_0's multi_error: 0.55359\n",
      "[642]\tvalid_0's multi_error: 0.553607\n",
      "[643]\tvalid_0's multi_error: 0.553631\n",
      "[644]\tvalid_0's multi_error: 0.553606\n",
      "[645]\tvalid_0's multi_error: 0.553613\n",
      "[646]\tvalid_0's multi_error: 0.553604\n",
      "[647]\tvalid_0's multi_error: 0.553593\n",
      "[648]\tvalid_0's multi_error: 0.553569\n",
      "[649]\tvalid_0's multi_error: 0.55357\n",
      "[650]\tvalid_0's multi_error: 0.553597\n",
      "[651]\tvalid_0's multi_error: 0.553575\n",
      "[652]\tvalid_0's multi_error: 0.553643\n",
      "[653]\tvalid_0's multi_error: 0.553645\n",
      "[654]\tvalid_0's multi_error: 0.553646\n",
      "[655]\tvalid_0's multi_error: 0.55364\n",
      "[656]\tvalid_0's multi_error: 0.55361\n",
      "[657]\tvalid_0's multi_error: 0.553607\n",
      "[658]\tvalid_0's multi_error: 0.55363\n",
      "[659]\tvalid_0's multi_error: 0.553679\n",
      "[660]\tvalid_0's multi_error: 0.553648\n",
      "[661]\tvalid_0's multi_error: 0.553636\n",
      "[662]\tvalid_0's multi_error: 0.553548\n",
      "[663]\tvalid_0's multi_error: 0.553546\n",
      "[664]\tvalid_0's multi_error: 0.553537\n",
      "[665]\tvalid_0's multi_error: 0.553485\n",
      "[666]\tvalid_0's multi_error: 0.553437\n",
      "[667]\tvalid_0's multi_error: 0.553448\n",
      "[668]\tvalid_0's multi_error: 0.553463\n",
      "[669]\tvalid_0's multi_error: 0.553458\n",
      "[670]\tvalid_0's multi_error: 0.553466\n",
      "[671]\tvalid_0's multi_error: 0.553424\n",
      "[672]\tvalid_0's multi_error: 0.55336\n",
      "[673]\tvalid_0's multi_error: 0.553387\n",
      "[674]\tvalid_0's multi_error: 0.55337\n",
      "[675]\tvalid_0's multi_error: 0.553361\n",
      "[676]\tvalid_0's multi_error: 0.553394\n",
      "[677]\tvalid_0's multi_error: 0.5534\n",
      "[678]\tvalid_0's multi_error: 0.553364\n",
      "[679]\tvalid_0's multi_error: 0.553339\n",
      "[680]\tvalid_0's multi_error: 0.553318\n",
      "[681]\tvalid_0's multi_error: 0.553339\n",
      "[682]\tvalid_0's multi_error: 0.55336\n",
      "[683]\tvalid_0's multi_error: 0.553316\n",
      "[684]\tvalid_0's multi_error: 0.553309\n",
      "[685]\tvalid_0's multi_error: 0.553321\n",
      "[686]\tvalid_0's multi_error: 0.553291\n",
      "[687]\tvalid_0's multi_error: 0.55326\n",
      "[688]\tvalid_0's multi_error: 0.553249\n",
      "[689]\tvalid_0's multi_error: 0.553236\n",
      "[690]\tvalid_0's multi_error: 0.553191\n",
      "[691]\tvalid_0's multi_error: 0.553196\n",
      "[692]\tvalid_0's multi_error: 0.553146\n",
      "[693]\tvalid_0's multi_error: 0.553193\n",
      "[694]\tvalid_0's multi_error: 0.553164\n",
      "[695]\tvalid_0's multi_error: 0.553152\n",
      "[696]\tvalid_0's multi_error: 0.55316\n",
      "[697]\tvalid_0's multi_error: 0.553131\n",
      "[698]\tvalid_0's multi_error: 0.553134\n",
      "[699]\tvalid_0's multi_error: 0.553139\n",
      "[700]\tvalid_0's multi_error: 0.553151\n",
      "[701]\tvalid_0's multi_error: 0.553155\n",
      "[702]\tvalid_0's multi_error: 0.553149\n",
      "[703]\tvalid_0's multi_error: 0.553143\n",
      "[704]\tvalid_0's multi_error: 0.55313\n",
      "[705]\tvalid_0's multi_error: 0.553106\n",
      "[706]\tvalid_0's multi_error: 0.553072\n",
      "[707]\tvalid_0's multi_error: 0.553051\n",
      "[708]\tvalid_0's multi_error: 0.552997\n",
      "[709]\tvalid_0's multi_error: 0.553012\n",
      "[710]\tvalid_0's multi_error: 0.553039\n",
      "[711]\tvalid_0's multi_error: 0.553036\n",
      "[712]\tvalid_0's multi_error: 0.553001\n",
      "[713]\tvalid_0's multi_error: 0.55299\n",
      "[714]\tvalid_0's multi_error: 0.552973\n",
      "[715]\tvalid_0's multi_error: 0.553003\n",
      "[716]\tvalid_0's multi_error: 0.552985\n",
      "[717]\tvalid_0's multi_error: 0.552967\n",
      "[718]\tvalid_0's multi_error: 0.552978\n",
      "[719]\tvalid_0's multi_error: 0.552973\n",
      "[720]\tvalid_0's multi_error: 0.552931\n",
      "[721]\tvalid_0's multi_error: 0.552991\n",
      "[722]\tvalid_0's multi_error: 0.552964\n",
      "[723]\tvalid_0's multi_error: 0.552999\n",
      "[724]\tvalid_0's multi_error: 0.552951\n",
      "[725]\tvalid_0's multi_error: 0.552942\n",
      "[726]\tvalid_0's multi_error: 0.552903\n",
      "[727]\tvalid_0's multi_error: 0.552882\n",
      "[728]\tvalid_0's multi_error: 0.552891\n",
      "[729]\tvalid_0's multi_error: 0.552885\n",
      "[730]\tvalid_0's multi_error: 0.552839\n",
      "[731]\tvalid_0's multi_error: 0.552822\n",
      "[732]\tvalid_0's multi_error: 0.552845\n",
      "[733]\tvalid_0's multi_error: 0.552824\n",
      "[734]\tvalid_0's multi_error: 0.552849\n",
      "[735]\tvalid_0's multi_error: 0.552809\n",
      "[736]\tvalid_0's multi_error: 0.552858\n",
      "[737]\tvalid_0's multi_error: 0.552857\n",
      "[738]\tvalid_0's multi_error: 0.552857\n",
      "[739]\tvalid_0's multi_error: 0.552806\n",
      "[740]\tvalid_0's multi_error: 0.552818\n",
      "[741]\tvalid_0's multi_error: 0.552796\n",
      "[742]\tvalid_0's multi_error: 0.552769\n",
      "[743]\tvalid_0's multi_error: 0.552773\n",
      "[744]\tvalid_0's multi_error: 0.552796\n",
      "[745]\tvalid_0's multi_error: 0.552803\n",
      "[746]\tvalid_0's multi_error: 0.552818\n",
      "[747]\tvalid_0's multi_error: 0.552754\n",
      "[748]\tvalid_0's multi_error: 0.552758\n",
      "[749]\tvalid_0's multi_error: 0.552772\n",
      "[750]\tvalid_0's multi_error: 0.552788\n",
      "[751]\tvalid_0's multi_error: 0.552796\n",
      "[752]\tvalid_0's multi_error: 0.5528\n",
      "[753]\tvalid_0's multi_error: 0.552825\n",
      "[754]\tvalid_0's multi_error: 0.552828\n",
      "[755]\tvalid_0's multi_error: 0.552867\n",
      "[756]\tvalid_0's multi_error: 0.55286\n",
      "[757]\tvalid_0's multi_error: 0.552849\n",
      "[758]\tvalid_0's multi_error: 0.552849\n",
      "[759]\tvalid_0's multi_error: 0.552836\n",
      "[760]\tvalid_0's multi_error: 0.552846\n",
      "[761]\tvalid_0's multi_error: 0.55281\n",
      "[762]\tvalid_0's multi_error: 0.552794\n",
      "[763]\tvalid_0's multi_error: 0.552796\n",
      "[764]\tvalid_0's multi_error: 0.552819\n",
      "[765]\tvalid_0's multi_error: 0.55284\n",
      "[766]\tvalid_0's multi_error: 0.552803\n",
      "[767]\tvalid_0's multi_error: 0.552784\n",
      "[768]\tvalid_0's multi_error: 0.552749\n",
      "[769]\tvalid_0's multi_error: 0.552775\n",
      "[770]\tvalid_0's multi_error: 0.552751\n",
      "[771]\tvalid_0's multi_error: 0.552728\n",
      "[772]\tvalid_0's multi_error: 0.552749\n",
      "[773]\tvalid_0's multi_error: 0.552716\n",
      "[774]\tvalid_0's multi_error: 0.552681\n",
      "[775]\tvalid_0's multi_error: 0.552673\n",
      "[776]\tvalid_0's multi_error: 0.552669\n",
      "[777]\tvalid_0's multi_error: 0.552633\n",
      "[778]\tvalid_0's multi_error: 0.552637\n",
      "[779]\tvalid_0's multi_error: 0.552597\n",
      "[780]\tvalid_0's multi_error: 0.552616\n",
      "[781]\tvalid_0's multi_error: 0.552597\n",
      "[782]\tvalid_0's multi_error: 0.55263\n",
      "[783]\tvalid_0's multi_error: 0.552615\n",
      "[784]\tvalid_0's multi_error: 0.552618\n",
      "[785]\tvalid_0's multi_error: 0.552618\n",
      "[786]\tvalid_0's multi_error: 0.552624\n",
      "[787]\tvalid_0's multi_error: 0.552669\n",
      "[788]\tvalid_0's multi_error: 0.552673\n",
      "[789]\tvalid_0's multi_error: 0.55266\n",
      "[790]\tvalid_0's multi_error: 0.552667\n",
      "[791]\tvalid_0's multi_error: 0.552667\n",
      "[792]\tvalid_0's multi_error: 0.552676\n",
      "[793]\tvalid_0's multi_error: 0.55269\n",
      "[794]\tvalid_0's multi_error: 0.552696\n",
      "[795]\tvalid_0's multi_error: 0.552676\n",
      "[796]\tvalid_0's multi_error: 0.552691\n",
      "[797]\tvalid_0's multi_error: 0.55264\n",
      "[798]\tvalid_0's multi_error: 0.552625\n",
      "[799]\tvalid_0's multi_error: 0.552613\n",
      "[800]\tvalid_0's multi_error: 0.552612\n",
      "[801]\tvalid_0's multi_error: 0.5526\n",
      "[802]\tvalid_0's multi_error: 0.552606\n",
      "[803]\tvalid_0's multi_error: 0.552628\n",
      "[804]\tvalid_0's multi_error: 0.552603\n",
      "[805]\tvalid_0's multi_error: 0.55259\n",
      "[806]\tvalid_0's multi_error: 0.552596\n",
      "[807]\tvalid_0's multi_error: 0.552593\n",
      "[808]\tvalid_0's multi_error: 0.552591\n",
      "[809]\tvalid_0's multi_error: 0.552549\n",
      "[810]\tvalid_0's multi_error: 0.552522\n",
      "[811]\tvalid_0's multi_error: 0.552533\n",
      "[812]\tvalid_0's multi_error: 0.552522\n",
      "[813]\tvalid_0's multi_error: 0.552525\n",
      "[814]\tvalid_0's multi_error: 0.55251\n",
      "[815]\tvalid_0's multi_error: 0.552503\n",
      "[816]\tvalid_0's multi_error: 0.552503\n",
      "[817]\tvalid_0's multi_error: 0.552466\n",
      "[818]\tvalid_0's multi_error: 0.552464\n",
      "[819]\tvalid_0's multi_error: 0.55243\n",
      "[820]\tvalid_0's multi_error: 0.552446\n",
      "[821]\tvalid_0's multi_error: 0.552412\n",
      "[822]\tvalid_0's multi_error: 0.552394\n",
      "[823]\tvalid_0's multi_error: 0.552367\n",
      "[824]\tvalid_0's multi_error: 0.552349\n",
      "[825]\tvalid_0's multi_error: 0.552352\n",
      "[826]\tvalid_0's multi_error: 0.552312\n",
      "[827]\tvalid_0's multi_error: 0.552309\n",
      "[828]\tvalid_0's multi_error: 0.552331\n",
      "[829]\tvalid_0's multi_error: 0.552312\n",
      "[830]\tvalid_0's multi_error: 0.552307\n",
      "[831]\tvalid_0's multi_error: 0.552304\n",
      "[832]\tvalid_0's multi_error: 0.552279\n",
      "[833]\tvalid_0's multi_error: 0.5523\n",
      "[834]\tvalid_0's multi_error: 0.552276\n",
      "[835]\tvalid_0's multi_error: 0.552279\n",
      "[836]\tvalid_0's multi_error: 0.552307\n",
      "[837]\tvalid_0's multi_error: 0.552281\n",
      "[838]\tvalid_0's multi_error: 0.552285\n",
      "[839]\tvalid_0's multi_error: 0.552264\n",
      "[840]\tvalid_0's multi_error: 0.552236\n",
      "[841]\tvalid_0's multi_error: 0.552212\n",
      "[842]\tvalid_0's multi_error: 0.552246\n",
      "[843]\tvalid_0's multi_error: 0.552258\n",
      "[844]\tvalid_0's multi_error: 0.552225\n",
      "[845]\tvalid_0's multi_error: 0.552251\n",
      "[846]\tvalid_0's multi_error: 0.552225\n",
      "[847]\tvalid_0's multi_error: 0.552242\n",
      "[848]\tvalid_0's multi_error: 0.552255\n",
      "[849]\tvalid_0's multi_error: 0.552278\n",
      "[850]\tvalid_0's multi_error: 0.552225\n",
      "[851]\tvalid_0's multi_error: 0.552258\n",
      "[852]\tvalid_0's multi_error: 0.55224\n",
      "[853]\tvalid_0's multi_error: 0.552199\n",
      "[854]\tvalid_0's multi_error: 0.552219\n",
      "[855]\tvalid_0's multi_error: 0.552188\n",
      "[856]\tvalid_0's multi_error: 0.552194\n",
      "[857]\tvalid_0's multi_error: 0.552157\n",
      "[858]\tvalid_0's multi_error: 0.552124\n",
      "[859]\tvalid_0's multi_error: 0.552091\n",
      "[860]\tvalid_0's multi_error: 0.5521\n",
      "[861]\tvalid_0's multi_error: 0.552082\n",
      "[862]\tvalid_0's multi_error: 0.552075\n",
      "[863]\tvalid_0's multi_error: 0.552052\n",
      "[864]\tvalid_0's multi_error: 0.552087\n",
      "[865]\tvalid_0's multi_error: 0.552043\n",
      "[866]\tvalid_0's multi_error: 0.552057\n",
      "[867]\tvalid_0's multi_error: 0.55204\n",
      "[868]\tvalid_0's multi_error: 0.552036\n",
      "[869]\tvalid_0's multi_error: 0.552087\n",
      "[870]\tvalid_0's multi_error: 0.552073\n",
      "[871]\tvalid_0's multi_error: 0.55204\n",
      "[872]\tvalid_0's multi_error: 0.552034\n",
      "[873]\tvalid_0's multi_error: 0.552001\n",
      "[874]\tvalid_0's multi_error: 0.55196\n",
      "[875]\tvalid_0's multi_error: 0.551976\n",
      "[876]\tvalid_0's multi_error: 0.55194\n",
      "[877]\tvalid_0's multi_error: 0.551969\n",
      "[878]\tvalid_0's multi_error: 0.551939\n",
      "[879]\tvalid_0's multi_error: 0.55194\n",
      "[880]\tvalid_0's multi_error: 0.551949\n",
      "[881]\tvalid_0's multi_error: 0.551939\n",
      "[882]\tvalid_0's multi_error: 0.551904\n",
      "[883]\tvalid_0's multi_error: 0.551919\n",
      "[884]\tvalid_0's multi_error: 0.551897\n",
      "[885]\tvalid_0's multi_error: 0.551893\n",
      "[886]\tvalid_0's multi_error: 0.551909\n",
      "[887]\tvalid_0's multi_error: 0.551928\n",
      "[888]\tvalid_0's multi_error: 0.551936\n",
      "[889]\tvalid_0's multi_error: 0.551924\n",
      "[890]\tvalid_0's multi_error: 0.551887\n",
      "[891]\tvalid_0's multi_error: 0.551904\n",
      "[892]\tvalid_0's multi_error: 0.551943\n",
      "[893]\tvalid_0's multi_error: 0.551913\n",
      "[894]\tvalid_0's multi_error: 0.551922\n",
      "[895]\tvalid_0's multi_error: 0.551912\n",
      "[896]\tvalid_0's multi_error: 0.551939\n",
      "[897]\tvalid_0's multi_error: 0.551915\n",
      "[898]\tvalid_0's multi_error: 0.551913\n",
      "[899]\tvalid_0's multi_error: 0.551931\n",
      "[900]\tvalid_0's multi_error: 0.551925\n",
      "[901]\tvalid_0's multi_error: 0.551915\n",
      "[902]\tvalid_0's multi_error: 0.551903\n",
      "[903]\tvalid_0's multi_error: 0.551921\n",
      "[904]\tvalid_0's multi_error: 0.55193\n",
      "[905]\tvalid_0's multi_error: 0.551927\n",
      "[906]\tvalid_0's multi_error: 0.551928\n",
      "[907]\tvalid_0's multi_error: 0.551931\n",
      "[908]\tvalid_0's multi_error: 0.551922\n",
      "[909]\tvalid_0's multi_error: 0.551888\n",
      "[910]\tvalid_0's multi_error: 0.551881\n",
      "[911]\tvalid_0's multi_error: 0.551901\n",
      "[912]\tvalid_0's multi_error: 0.551909\n",
      "[913]\tvalid_0's multi_error: 0.551933\n",
      "[914]\tvalid_0's multi_error: 0.551928\n",
      "[915]\tvalid_0's multi_error: 0.551969\n",
      "[916]\tvalid_0's multi_error: 0.551945\n",
      "[917]\tvalid_0's multi_error: 0.551913\n",
      "[918]\tvalid_0's multi_error: 0.551904\n",
      "[919]\tvalid_0's multi_error: 0.551913\n",
      "[920]\tvalid_0's multi_error: 0.551925\n",
      "[921]\tvalid_0's multi_error: 0.551945\n",
      "[922]\tvalid_0's multi_error: 0.551913\n",
      "[923]\tvalid_0's multi_error: 0.551927\n",
      "[924]\tvalid_0's multi_error: 0.551945\n",
      "[925]\tvalid_0's multi_error: 0.551906\n",
      "[926]\tvalid_0's multi_error: 0.551927\n",
      "[927]\tvalid_0's multi_error: 0.551943\n",
      "[928]\tvalid_0's multi_error: 0.551925\n",
      "[929]\tvalid_0's multi_error: 0.551928\n",
      "[930]\tvalid_0's multi_error: 0.551964\n",
      "[931]\tvalid_0's multi_error: 0.551951\n",
      "[932]\tvalid_0's multi_error: 0.551949\n",
      "[933]\tvalid_0's multi_error: 0.551952\n",
      "[934]\tvalid_0's multi_error: 0.551954\n",
      "[935]\tvalid_0's multi_error: 0.551957\n",
      "[936]\tvalid_0's multi_error: 0.551984\n",
      "[937]\tvalid_0's multi_error: 0.551994\n",
      "[938]\tvalid_0's multi_error: 0.551981\n",
      "[939]\tvalid_0's multi_error: 0.55196\n",
      "[940]\tvalid_0's multi_error: 0.551955\n",
      "[941]\tvalid_0's multi_error: 0.551939\n",
      "[942]\tvalid_0's multi_error: 0.551921\n",
      "[943]\tvalid_0's multi_error: 0.55194\n",
      "[944]\tvalid_0's multi_error: 0.55194\n",
      "[945]\tvalid_0's multi_error: 0.551933\n",
      "[946]\tvalid_0's multi_error: 0.55193\n",
      "[947]\tvalid_0's multi_error: 0.551916\n",
      "[948]\tvalid_0's multi_error: 0.551922\n",
      "[949]\tvalid_0's multi_error: 0.551954\n",
      "[950]\tvalid_0's multi_error: 0.551961\n",
      "[951]\tvalid_0's multi_error: 0.55193\n",
      "[952]\tvalid_0's multi_error: 0.551939\n",
      "[953]\tvalid_0's multi_error: 0.551922\n",
      "[954]\tvalid_0's multi_error: 0.551913\n",
      "[955]\tvalid_0's multi_error: 0.551906\n",
      "[956]\tvalid_0's multi_error: 0.551875\n",
      "[957]\tvalid_0's multi_error: 0.551906\n",
      "[958]\tvalid_0's multi_error: 0.551912\n",
      "[959]\tvalid_0's multi_error: 0.551866\n",
      "[960]\tvalid_0's multi_error: 0.551907\n",
      "[961]\tvalid_0's multi_error: 0.551931\n",
      "[962]\tvalid_0's multi_error: 0.551964\n",
      "[963]\tvalid_0's multi_error: 0.551943\n",
      "[964]\tvalid_0's multi_error: 0.551951\n",
      "[965]\tvalid_0's multi_error: 0.551937\n",
      "[966]\tvalid_0's multi_error: 0.551943\n",
      "[967]\tvalid_0's multi_error: 0.55191\n",
      "[968]\tvalid_0's multi_error: 0.551884\n",
      "[969]\tvalid_0's multi_error: 0.551876\n",
      "[970]\tvalid_0's multi_error: 0.551901\n",
      "[971]\tvalid_0's multi_error: 0.551884\n",
      "[972]\tvalid_0's multi_error: 0.551854\n",
      "[973]\tvalid_0's multi_error: 0.55183\n",
      "[974]\tvalid_0's multi_error: 0.551837\n",
      "[975]\tvalid_0's multi_error: 0.551848\n",
      "[976]\tvalid_0's multi_error: 0.551842\n",
      "[977]\tvalid_0's multi_error: 0.551843\n",
      "[978]\tvalid_0's multi_error: 0.551864\n",
      "[979]\tvalid_0's multi_error: 0.551834\n",
      "[980]\tvalid_0's multi_error: 0.551851\n",
      "[981]\tvalid_0's multi_error: 0.551839\n",
      "[982]\tvalid_0's multi_error: 0.551836\n",
      "[983]\tvalid_0's multi_error: 0.551813\n",
      "[984]\tvalid_0's multi_error: 0.551834\n",
      "[985]\tvalid_0's multi_error: 0.551837\n",
      "[986]\tvalid_0's multi_error: 0.551855\n",
      "[987]\tvalid_0's multi_error: 0.551872\n",
      "[988]\tvalid_0's multi_error: 0.551876\n",
      "[989]\tvalid_0's multi_error: 0.551882\n",
      "[990]\tvalid_0's multi_error: 0.551875\n",
      "[991]\tvalid_0's multi_error: 0.551876\n",
      "[992]\tvalid_0's multi_error: 0.551825\n",
      "[993]\tvalid_0's multi_error: 0.551793\n",
      "[994]\tvalid_0's multi_error: 0.551801\n",
      "[995]\tvalid_0's multi_error: 0.551782\n",
      "[996]\tvalid_0's multi_error: 0.551773\n",
      "[997]\tvalid_0's multi_error: 0.551796\n",
      "[998]\tvalid_0's multi_error: 0.551809\n",
      "[999]\tvalid_0's multi_error: 0.551778\n",
      "[1000]\tvalid_0's multi_error: 0.551796\n",
      "Did not meet early stopping. Best iteration is:\n",
      "[996]\tvalid_0's multi_error: 0.551773\n",
      "2\n",
      "training start...\n",
      "[1]\tvalid_0's multi_error: 0.636064\n",
      "Training until validation scores don't improve for 50 rounds.\n",
      "[2]\tvalid_0's multi_error: 0.625955\n",
      "[3]\tvalid_0's multi_error: 0.619446\n",
      "[4]\tvalid_0's multi_error: 0.616519\n",
      "[5]\tvalid_0's multi_error: 0.615461\n",
      "[6]\tvalid_0's multi_error: 0.612716\n",
      "[7]\tvalid_0's multi_error: 0.611547\n",
      "[8]\tvalid_0's multi_error: 0.610547\n",
      "[9]\tvalid_0's multi_error: 0.610138\n",
      "[10]\tvalid_0's multi_error: 0.609164\n",
      "[11]\tvalid_0's multi_error: 0.608476\n",
      "[12]\tvalid_0's multi_error: 0.607692\n",
      "[13]\tvalid_0's multi_error: 0.60757\n",
      "[14]\tvalid_0's multi_error: 0.606628\n",
      "[15]\tvalid_0's multi_error: 0.606076\n",
      "[16]\tvalid_0's multi_error: 0.605061\n",
      "[17]\tvalid_0's multi_error: 0.604668\n",
      "[18]\tvalid_0's multi_error: 0.604086\n",
      "[19]\tvalid_0's multi_error: 0.603283\n",
      "[20]\tvalid_0's multi_error: 0.602835\n",
      "[21]\tvalid_0's multi_error: 0.601792\n",
      "[22]\tvalid_0's multi_error: 0.601279\n",
      "[23]\tvalid_0's multi_error: 0.600732\n",
      "[24]\tvalid_0's multi_error: 0.600216\n",
      "[25]\tvalid_0's multi_error: 0.599617\n",
      "[26]\tvalid_0's multi_error: 0.599019\n",
      "[27]\tvalid_0's multi_error: 0.598502\n",
      "[28]\tvalid_0's multi_error: 0.597858\n",
      "[29]\tvalid_0's multi_error: 0.597484\n",
      "[30]\tvalid_0's multi_error: 0.596904\n",
      "[31]\tvalid_0's multi_error: 0.596583\n",
      "[32]\tvalid_0's multi_error: 0.596241\n",
      "[33]\tvalid_0's multi_error: 0.595717\n",
      "[34]\tvalid_0's multi_error: 0.595293\n",
      "[35]\tvalid_0's multi_error: 0.594796\n",
      "[36]\tvalid_0's multi_error: 0.594432\n",
      "[37]\tvalid_0's multi_error: 0.594129\n",
      "[38]\tvalid_0's multi_error: 0.593555\n",
      "[39]\tvalid_0's multi_error: 0.592995\n",
      "[40]\tvalid_0's multi_error: 0.592635\n",
      "[41]\tvalid_0's multi_error: 0.592114\n",
      "[42]\tvalid_0's multi_error: 0.591625\n",
      "[43]\tvalid_0's multi_error: 0.591208\n",
      "[44]\tvalid_0's multi_error: 0.590684\n",
      "[45]\tvalid_0's multi_error: 0.590323\n",
      "[46]\tvalid_0's multi_error: 0.589996\n",
      "[47]\tvalid_0's multi_error: 0.589578\n",
      "[48]\tvalid_0's multi_error: 0.589153\n",
      "[49]\tvalid_0's multi_error: 0.588696\n",
      "[50]\tvalid_0's multi_error: 0.588198\n",
      "[51]\tvalid_0's multi_error: 0.587892\n",
      "[52]\tvalid_0's multi_error: 0.587353\n",
      "[53]\tvalid_0's multi_error: 0.587043\n",
      "[54]\tvalid_0's multi_error: 0.586592\n",
      "[55]\tvalid_0's multi_error: 0.58635\n",
      "[56]\tvalid_0's multi_error: 0.586144\n",
      "[57]\tvalid_0's multi_error: 0.585817\n",
      "[58]\tvalid_0's multi_error: 0.585458\n",
      "[59]\tvalid_0's multi_error: 0.585068\n",
      "[60]\tvalid_0's multi_error: 0.584862\n",
      "[61]\tvalid_0's multi_error: 0.584658\n",
      "[62]\tvalid_0's multi_error: 0.58431\n",
      "[63]\tvalid_0's multi_error: 0.583853\n",
      "[64]\tvalid_0's multi_error: 0.583587\n",
      "[65]\tvalid_0's multi_error: 0.583396\n",
      "[66]\tvalid_0's multi_error: 0.583034\n",
      "[67]\tvalid_0's multi_error: 0.582749\n",
      "[68]\tvalid_0's multi_error: 0.582455\n",
      "[69]\tvalid_0's multi_error: 0.58219\n",
      "[70]\tvalid_0's multi_error: 0.581998\n",
      "[71]\tvalid_0's multi_error: 0.581678\n",
      "[72]\tvalid_0's multi_error: 0.581511\n",
      "[73]\tvalid_0's multi_error: 0.581329\n",
      "[74]\tvalid_0's multi_error: 0.580919\n",
      "[75]\tvalid_0's multi_error: 0.58058\n",
      "[76]\tvalid_0's multi_error: 0.580413\n",
      "[77]\tvalid_0's multi_error: 0.580225\n",
      "[78]\tvalid_0's multi_error: 0.580028\n",
      "[79]\tvalid_0's multi_error: 0.57968\n",
      "[80]\tvalid_0's multi_error: 0.579344\n",
      "[81]\tvalid_0's multi_error: 0.579005\n",
      "[82]\tvalid_0's multi_error: 0.578965\n",
      "[83]\tvalid_0's multi_error: 0.578673\n",
      "[84]\tvalid_0's multi_error: 0.57847\n",
      "[85]\tvalid_0's multi_error: 0.578222\n",
      "[86]\tvalid_0's multi_error: 0.577908\n",
      "[87]\tvalid_0's multi_error: 0.577583\n",
      "[88]\tvalid_0's multi_error: 0.577293\n",
      "[89]\tvalid_0's multi_error: 0.577123\n",
      "[90]\tvalid_0's multi_error: 0.576919\n",
      "[91]\tvalid_0's multi_error: 0.576659\n",
      "[92]\tvalid_0's multi_error: 0.576489\n",
      "[93]\tvalid_0's multi_error: 0.576228\n",
      "[94]\tvalid_0's multi_error: 0.576014\n",
      "[95]\tvalid_0's multi_error: 0.575889\n",
      "[96]\tvalid_0's multi_error: 0.575749\n",
      "[97]\tvalid_0's multi_error: 0.575413\n",
      "[98]\tvalid_0's multi_error: 0.575338\n",
      "[99]\tvalid_0's multi_error: 0.575081\n",
      "[100]\tvalid_0's multi_error: 0.574989\n",
      "[101]\tvalid_0's multi_error: 0.574702\n",
      "[102]\tvalid_0's multi_error: 0.574517\n",
      "[103]\tvalid_0's multi_error: 0.574431\n",
      "[104]\tvalid_0's multi_error: 0.574143\n",
      "[105]\tvalid_0's multi_error: 0.574007\n",
      "[106]\tvalid_0's multi_error: 0.573896\n",
      "[107]\tvalid_0's multi_error: 0.573714\n",
      "[108]\tvalid_0's multi_error: 0.573468\n",
      "[109]\tvalid_0's multi_error: 0.573377\n",
      "[110]\tvalid_0's multi_error: 0.573226\n",
      "[111]\tvalid_0's multi_error: 0.573071\n",
      "[112]\tvalid_0's multi_error: 0.572823\n",
      "[113]\tvalid_0's multi_error: 0.572804\n",
      "[114]\tvalid_0's multi_error: 0.572728\n",
      "[115]\tvalid_0's multi_error: 0.572556\n",
      "[116]\tvalid_0's multi_error: 0.572399\n",
      "[117]\tvalid_0's multi_error: 0.572341\n",
      "[118]\tvalid_0's multi_error: 0.572183\n",
      "[119]\tvalid_0's multi_error: 0.571989\n",
      "[120]\tvalid_0's multi_error: 0.571777\n",
      "[121]\tvalid_0's multi_error: 0.571729\n",
      "[122]\tvalid_0's multi_error: 0.571528\n",
      "[123]\tvalid_0's multi_error: 0.571365\n",
      "[124]\tvalid_0's multi_error: 0.57121\n",
      "[125]\tvalid_0's multi_error: 0.571008\n",
      "[126]\tvalid_0's multi_error: 0.570886\n",
      "[127]\tvalid_0's multi_error: 0.570781\n",
      "[128]\tvalid_0's multi_error: 0.570764\n",
      "[129]\tvalid_0's multi_error: 0.570692\n",
      "[130]\tvalid_0's multi_error: 0.570575\n",
      "[131]\tvalid_0's multi_error: 0.570532\n",
      "[132]\tvalid_0's multi_error: 0.570392\n",
      "[133]\tvalid_0's multi_error: 0.570314\n",
      "[134]\tvalid_0's multi_error: 0.57018\n",
      "[135]\tvalid_0's multi_error: 0.570023\n",
      "[136]\tvalid_0's multi_error: 0.56979\n",
      "[137]\tvalid_0's multi_error: 0.569653\n",
      "[138]\tvalid_0's multi_error: 0.569646\n",
      "[139]\tvalid_0's multi_error: 0.56944\n",
      "[140]\tvalid_0's multi_error: 0.569386\n",
      "[141]\tvalid_0's multi_error: 0.56935\n",
      "[142]\tvalid_0's multi_error: 0.569195\n",
      "[143]\tvalid_0's multi_error: 0.569078\n",
      "[144]\tvalid_0's multi_error: 0.56891\n",
      "[145]\tvalid_0's multi_error: 0.568753\n",
      "[146]\tvalid_0's multi_error: 0.568584\n",
      "[147]\tvalid_0's multi_error: 0.568478\n",
      "[148]\tvalid_0's multi_error: 0.568365\n",
      "[149]\tvalid_0's multi_error: 0.568307\n",
      "[150]\tvalid_0's multi_error: 0.568219\n",
      "[151]\tvalid_0's multi_error: 0.568171\n",
      "[152]\tvalid_0's multi_error: 0.568123\n",
      "[153]\tvalid_0's multi_error: 0.567916\n",
      "[154]\tvalid_0's multi_error: 0.567855\n",
      "[155]\tvalid_0's multi_error: 0.567768\n",
      "[156]\tvalid_0's multi_error: 0.567702\n",
      "[157]\tvalid_0's multi_error: 0.567589\n",
      "[158]\tvalid_0's multi_error: 0.567453\n",
      "[159]\tvalid_0's multi_error: 0.567353\n",
      "[160]\tvalid_0's multi_error: 0.567272\n",
      "[161]\tvalid_0's multi_error: 0.567231\n",
      "[162]\tvalid_0's multi_error: 0.567144\n",
      "[163]\tvalid_0's multi_error: 0.567105\n",
      "[164]\tvalid_0's multi_error: 0.567008\n",
      "[165]\tvalid_0's multi_error: 0.566853\n",
      "[166]\tvalid_0's multi_error: 0.566822\n",
      "[167]\tvalid_0's multi_error: 0.566683\n",
      "[168]\tvalid_0's multi_error: 0.566684\n",
      "[169]\tvalid_0's multi_error: 0.566619\n",
      "[170]\tvalid_0's multi_error: 0.566465\n",
      "[171]\tvalid_0's multi_error: 0.566367\n",
      "[172]\tvalid_0's multi_error: 0.566286\n",
      "[173]\tvalid_0's multi_error: 0.566128\n",
      "[174]\tvalid_0's multi_error: 0.566208\n",
      "[175]\tvalid_0's multi_error: 0.566046\n",
      "[176]\tvalid_0's multi_error: 0.565926\n",
      "[177]\tvalid_0's multi_error: 0.565964\n",
      "[178]\tvalid_0's multi_error: 0.565805\n",
      "[179]\tvalid_0's multi_error: 0.565759\n",
      "[180]\tvalid_0's multi_error: 0.565635\n",
      "[181]\tvalid_0's multi_error: 0.56557\n",
      "[182]\tvalid_0's multi_error: 0.565498\n",
      "[183]\tvalid_0's multi_error: 0.565413\n",
      "[184]\tvalid_0's multi_error: 0.565343\n",
      "[185]\tvalid_0's multi_error: 0.565371\n",
      "[186]\tvalid_0's multi_error: 0.565274\n",
      "[187]\tvalid_0's multi_error: 0.565208\n",
      "[188]\tvalid_0's multi_error: 0.565128\n",
      "[189]\tvalid_0's multi_error: 0.564983\n",
      "[190]\tvalid_0's multi_error: 0.565038\n",
      "[191]\tvalid_0's multi_error: 0.564877\n",
      "[192]\tvalid_0's multi_error: 0.564775\n",
      "[193]\tvalid_0's multi_error: 0.564749\n",
      "[194]\tvalid_0's multi_error: 0.564569\n",
      "[195]\tvalid_0's multi_error: 0.564592\n",
      "[196]\tvalid_0's multi_error: 0.564519\n",
      "[197]\tvalid_0's multi_error: 0.564535\n",
      "[198]\tvalid_0's multi_error: 0.564452\n",
      "[199]\tvalid_0's multi_error: 0.564375\n",
      "[200]\tvalid_0's multi_error: 0.564335\n",
      "[201]\tvalid_0's multi_error: 0.564295\n",
      "[202]\tvalid_0's multi_error: 0.564189\n",
      "[203]\tvalid_0's multi_error: 0.564143\n",
      "[204]\tvalid_0's multi_error: 0.564019\n",
      "[205]\tvalid_0's multi_error: 0.563959\n",
      "[206]\tvalid_0's multi_error: 0.563987\n",
      "[207]\tvalid_0's multi_error: 0.563883\n",
      "[208]\tvalid_0's multi_error: 0.56392\n",
      "[209]\tvalid_0's multi_error: 0.563884\n",
      "[210]\tvalid_0's multi_error: 0.563811\n",
      "[211]\tvalid_0's multi_error: 0.563793\n",
      "[212]\tvalid_0's multi_error: 0.56364\n",
      "[213]\tvalid_0's multi_error: 0.563546\n",
      "[214]\tvalid_0's multi_error: 0.563568\n",
      "[215]\tvalid_0's multi_error: 0.563571\n",
      "[216]\tvalid_0's multi_error: 0.563486\n",
      "[217]\tvalid_0's multi_error: 0.563452\n",
      "[218]\tvalid_0's multi_error: 0.563396\n",
      "[219]\tvalid_0's multi_error: 0.563295\n",
      "[220]\tvalid_0's multi_error: 0.563171\n",
      "[221]\tvalid_0's multi_error: 0.563131\n",
      "[222]\tvalid_0's multi_error: 0.563113\n",
      "[223]\tvalid_0's multi_error: 0.563028\n",
      "[224]\tvalid_0's multi_error: 0.563028\n",
      "[225]\tvalid_0's multi_error: 0.562883\n",
      "[226]\tvalid_0's multi_error: 0.562802\n",
      "[227]\tvalid_0's multi_error: 0.562796\n",
      "[228]\tvalid_0's multi_error: 0.562784\n",
      "[229]\tvalid_0's multi_error: 0.56275\n",
      "[230]\tvalid_0's multi_error: 0.562686\n",
      "[231]\tvalid_0's multi_error: 0.562611\n",
      "[232]\tvalid_0's multi_error: 0.562586\n",
      "[233]\tvalid_0's multi_error: 0.56258\n",
      "[234]\tvalid_0's multi_error: 0.562529\n",
      "[235]\tvalid_0's multi_error: 0.562493\n",
      "[236]\tvalid_0's multi_error: 0.562456\n",
      "[237]\tvalid_0's multi_error: 0.562444\n",
      "[238]\tvalid_0's multi_error: 0.562446\n",
      "[239]\tvalid_0's multi_error: 0.562413\n",
      "[240]\tvalid_0's multi_error: 0.562335\n",
      "[241]\tvalid_0's multi_error: 0.562289\n",
      "[242]\tvalid_0's multi_error: 0.562269\n",
      "[243]\tvalid_0's multi_error: 0.562265\n",
      "[244]\tvalid_0's multi_error: 0.562205\n",
      "[245]\tvalid_0's multi_error: 0.562123\n",
      "[246]\tvalid_0's multi_error: 0.562077\n",
      "[247]\tvalid_0's multi_error: 0.562043\n",
      "[248]\tvalid_0's multi_error: 0.561937\n",
      "[249]\tvalid_0's multi_error: 0.561849\n",
      "[250]\tvalid_0's multi_error: 0.561741\n",
      "[251]\tvalid_0's multi_error: 0.561686\n",
      "[252]\tvalid_0's multi_error: 0.561738\n",
      "[253]\tvalid_0's multi_error: 0.561772\n",
      "[254]\tvalid_0's multi_error: 0.561665\n",
      "[255]\tvalid_0's multi_error: 0.561635\n",
      "[256]\tvalid_0's multi_error: 0.561583\n",
      "[257]\tvalid_0's multi_error: 0.561546\n",
      "[258]\tvalid_0's multi_error: 0.561468\n",
      "[259]\tvalid_0's multi_error: 0.561444\n",
      "[260]\tvalid_0's multi_error: 0.561477\n",
      "[261]\tvalid_0's multi_error: 0.561495\n",
      "[262]\tvalid_0's multi_error: 0.56144\n",
      "[263]\tvalid_0's multi_error: 0.561384\n",
      "[264]\tvalid_0's multi_error: 0.56138\n",
      "[265]\tvalid_0's multi_error: 0.561284\n",
      "[266]\tvalid_0's multi_error: 0.56128\n",
      "[267]\tvalid_0's multi_error: 0.561172\n",
      "[268]\tvalid_0's multi_error: 0.561143\n",
      "[269]\tvalid_0's multi_error: 0.561114\n",
      "[270]\tvalid_0's multi_error: 0.561086\n",
      "[271]\tvalid_0's multi_error: 0.561041\n",
      "[272]\tvalid_0's multi_error: 0.560986\n",
      "[273]\tvalid_0's multi_error: 0.561025\n",
      "[274]\tvalid_0's multi_error: 0.560881\n",
      "[275]\tvalid_0's multi_error: 0.560744\n",
      "[276]\tvalid_0's multi_error: 0.560732\n",
      "[277]\tvalid_0's multi_error: 0.560644\n",
      "[278]\tvalid_0's multi_error: 0.560577\n",
      "[279]\tvalid_0's multi_error: 0.56064\n",
      "[280]\tvalid_0's multi_error: 0.560672\n",
      "[281]\tvalid_0's multi_error: 0.560632\n",
      "[282]\tvalid_0's multi_error: 0.560602\n",
      "[283]\tvalid_0's multi_error: 0.560581\n",
      "[284]\tvalid_0's multi_error: 0.560617\n",
      "[285]\tvalid_0's multi_error: 0.560511\n",
      "[286]\tvalid_0's multi_error: 0.560501\n",
      "[287]\tvalid_0's multi_error: 0.560441\n",
      "[288]\tvalid_0's multi_error: 0.560452\n",
      "[289]\tvalid_0's multi_error: 0.56042\n",
      "[290]\tvalid_0's multi_error: 0.560353\n",
      "[291]\tvalid_0's multi_error: 0.560269\n",
      "[292]\tvalid_0's multi_error: 0.560232\n",
      "[293]\tvalid_0's multi_error: 0.560201\n",
      "[294]\tvalid_0's multi_error: 0.560234\n",
      "[295]\tvalid_0's multi_error: 0.560192\n",
      "[296]\tvalid_0's multi_error: 0.560219\n",
      "[297]\tvalid_0's multi_error: 0.560069\n",
      "[298]\tvalid_0's multi_error: 0.560007\n",
      "[299]\tvalid_0's multi_error: 0.559962\n",
      "[300]\tvalid_0's multi_error: 0.559911\n",
      "[301]\tvalid_0's multi_error: 0.559816\n",
      "[302]\tvalid_0's multi_error: 0.559811\n",
      "[303]\tvalid_0's multi_error: 0.559762\n",
      "[304]\tvalid_0's multi_error: 0.559665\n",
      "[305]\tvalid_0's multi_error: 0.559635\n",
      "[306]\tvalid_0's multi_error: 0.559613\n",
      "[307]\tvalid_0's multi_error: 0.55955\n",
      "[308]\tvalid_0's multi_error: 0.559608\n",
      "[309]\tvalid_0's multi_error: 0.559535\n",
      "[310]\tvalid_0's multi_error: 0.559514\n",
      "[311]\tvalid_0's multi_error: 0.559449\n",
      "[312]\tvalid_0's multi_error: 0.559398\n",
      "[313]\tvalid_0's multi_error: 0.559459\n",
      "[314]\tvalid_0's multi_error: 0.559478\n",
      "[315]\tvalid_0's multi_error: 0.559483\n",
      "[316]\tvalid_0's multi_error: 0.55948\n",
      "[317]\tvalid_0's multi_error: 0.559459\n",
      "[318]\tvalid_0's multi_error: 0.559414\n",
      "[319]\tvalid_0's multi_error: 0.559383\n",
      "[320]\tvalid_0's multi_error: 0.559352\n",
      "[321]\tvalid_0's multi_error: 0.559304\n",
      "[322]\tvalid_0's multi_error: 0.559305\n",
      "[323]\tvalid_0's multi_error: 0.559222\n",
      "[324]\tvalid_0's multi_error: 0.559207\n",
      "[325]\tvalid_0's multi_error: 0.559074\n",
      "[326]\tvalid_0's multi_error: 0.559087\n",
      "[327]\tvalid_0's multi_error: 0.559071\n",
      "[328]\tvalid_0's multi_error: 0.558972\n",
      "[329]\tvalid_0's multi_error: 0.558935\n",
      "[330]\tvalid_0's multi_error: 0.558953\n",
      "[331]\tvalid_0's multi_error: 0.558949\n",
      "[332]\tvalid_0's multi_error: 0.558938\n",
      "[333]\tvalid_0's multi_error: 0.558887\n",
      "[334]\tvalid_0's multi_error: 0.558901\n",
      "[335]\tvalid_0's multi_error: 0.558902\n",
      "[336]\tvalid_0's multi_error: 0.558819\n",
      "[337]\tvalid_0's multi_error: 0.55882\n",
      "[338]\tvalid_0's multi_error: 0.558796\n",
      "[339]\tvalid_0's multi_error: 0.558753\n",
      "[340]\tvalid_0's multi_error: 0.558731\n",
      "[341]\tvalid_0's multi_error: 0.558687\n",
      "[342]\tvalid_0's multi_error: 0.558678\n",
      "[343]\tvalid_0's multi_error: 0.558667\n",
      "[344]\tvalid_0's multi_error: 0.558605\n",
      "[345]\tvalid_0's multi_error: 0.558553\n",
      "[346]\tvalid_0's multi_error: 0.558537\n",
      "[347]\tvalid_0's multi_error: 0.558564\n",
      "[348]\tvalid_0's multi_error: 0.558459\n",
      "[349]\tvalid_0's multi_error: 0.558374\n",
      "[350]\tvalid_0's multi_error: 0.558338\n",
      "[351]\tvalid_0's multi_error: 0.55834\n",
      "[352]\tvalid_0's multi_error: 0.558292\n",
      "[353]\tvalid_0's multi_error: 0.558313\n",
      "[354]\tvalid_0's multi_error: 0.558323\n",
      "[355]\tvalid_0's multi_error: 0.558302\n",
      "[356]\tvalid_0's multi_error: 0.558283\n",
      "[357]\tvalid_0's multi_error: 0.558314\n",
      "[358]\tvalid_0's multi_error: 0.558249\n",
      "[359]\tvalid_0's multi_error: 0.55821\n",
      "[360]\tvalid_0's multi_error: 0.558193\n",
      "[361]\tvalid_0's multi_error: 0.558168\n",
      "[362]\tvalid_0's multi_error: 0.558089\n",
      "[363]\tvalid_0's multi_error: 0.558119\n",
      "[364]\tvalid_0's multi_error: 0.558102\n",
      "[365]\tvalid_0's multi_error: 0.558075\n",
      "[366]\tvalid_0's multi_error: 0.558032\n",
      "[367]\tvalid_0's multi_error: 0.558052\n",
      "[368]\tvalid_0's multi_error: 0.55804\n",
      "[369]\tvalid_0's multi_error: 0.558025\n",
      "[370]\tvalid_0's multi_error: 0.557949\n",
      "[371]\tvalid_0's multi_error: 0.557935\n",
      "[372]\tvalid_0's multi_error: 0.557875\n",
      "[373]\tvalid_0's multi_error: 0.557853\n",
      "[374]\tvalid_0's multi_error: 0.557819\n",
      "[375]\tvalid_0's multi_error: 0.557759\n",
      "[376]\tvalid_0's multi_error: 0.557772\n",
      "[377]\tvalid_0's multi_error: 0.557792\n",
      "[378]\tvalid_0's multi_error: 0.557746\n",
      "[379]\tvalid_0's multi_error: 0.55775\n",
      "[380]\tvalid_0's multi_error: 0.557713\n",
      "[381]\tvalid_0's multi_error: 0.557684\n",
      "[382]\tvalid_0's multi_error: 0.557667\n",
      "[383]\tvalid_0's multi_error: 0.557644\n",
      "[384]\tvalid_0's multi_error: 0.55764\n",
      "[385]\tvalid_0's multi_error: 0.557634\n",
      "[386]\tvalid_0's multi_error: 0.55759\n",
      "[387]\tvalid_0's multi_error: 0.557547\n",
      "[388]\tvalid_0's multi_error: 0.557517\n",
      "[389]\tvalid_0's multi_error: 0.557477\n",
      "[390]\tvalid_0's multi_error: 0.557496\n",
      "[391]\tvalid_0's multi_error: 0.557502\n",
      "[392]\tvalid_0's multi_error: 0.557531\n",
      "[393]\tvalid_0's multi_error: 0.557502\n",
      "[394]\tvalid_0's multi_error: 0.557483\n",
      "[395]\tvalid_0's multi_error: 0.557496\n",
      "[396]\tvalid_0's multi_error: 0.557468\n",
      "[397]\tvalid_0's multi_error: 0.557472\n",
      "[398]\tvalid_0's multi_error: 0.557489\n",
      "[399]\tvalid_0's multi_error: 0.557467\n",
      "[400]\tvalid_0's multi_error: 0.557438\n",
      "[401]\tvalid_0's multi_error: 0.557458\n",
      "[402]\tvalid_0's multi_error: 0.557422\n",
      "[403]\tvalid_0's multi_error: 0.55741\n",
      "[404]\tvalid_0's multi_error: 0.557417\n",
      "[405]\tvalid_0's multi_error: 0.55742\n",
      "[406]\tvalid_0's multi_error: 0.557429\n",
      "[407]\tvalid_0's multi_error: 0.557417\n",
      "[408]\tvalid_0's multi_error: 0.557369\n",
      "[409]\tvalid_0's multi_error: 0.557408\n",
      "[410]\tvalid_0's multi_error: 0.557419\n",
      "[411]\tvalid_0's multi_error: 0.557331\n",
      "[412]\tvalid_0's multi_error: 0.557268\n",
      "[413]\tvalid_0's multi_error: 0.557214\n",
      "[414]\tvalid_0's multi_error: 0.557165\n",
      "[415]\tvalid_0's multi_error: 0.557159\n",
      "[416]\tvalid_0's multi_error: 0.557146\n",
      "[417]\tvalid_0's multi_error: 0.557144\n",
      "[418]\tvalid_0's multi_error: 0.55715\n",
      "[419]\tvalid_0's multi_error: 0.557114\n",
      "[420]\tvalid_0's multi_error: 0.557123\n",
      "[421]\tvalid_0's multi_error: 0.557105\n",
      "[422]\tvalid_0's multi_error: 0.557161\n",
      "[423]\tvalid_0's multi_error: 0.557104\n",
      "[424]\tvalid_0's multi_error: 0.557072\n",
      "[425]\tvalid_0's multi_error: 0.557075\n",
      "[426]\tvalid_0's multi_error: 0.557052\n",
      "[427]\tvalid_0's multi_error: 0.556962\n",
      "[428]\tvalid_0's multi_error: 0.556992\n",
      "[429]\tvalid_0's multi_error: 0.556986\n",
      "[430]\tvalid_0's multi_error: 0.556971\n",
      "[431]\tvalid_0's multi_error: 0.556995\n",
      "[432]\tvalid_0's multi_error: 0.556938\n",
      "[433]\tvalid_0's multi_error: 0.556943\n",
      "[434]\tvalid_0's multi_error: 0.556917\n",
      "[435]\tvalid_0's multi_error: 0.556868\n",
      "[436]\tvalid_0's multi_error: 0.55681\n",
      "[437]\tvalid_0's multi_error: 0.55681\n",
      "[438]\tvalid_0's multi_error: 0.556832\n",
      "[439]\tvalid_0's multi_error: 0.556826\n",
      "[440]\tvalid_0's multi_error: 0.556825\n",
      "[441]\tvalid_0's multi_error: 0.556772\n",
      "[442]\tvalid_0's multi_error: 0.556716\n",
      "[443]\tvalid_0's multi_error: 0.55669\n",
      "[444]\tvalid_0's multi_error: 0.55671\n",
      "[445]\tvalid_0's multi_error: 0.556693\n",
      "[446]\tvalid_0's multi_error: 0.556662\n",
      "[447]\tvalid_0's multi_error: 0.556698\n",
      "[448]\tvalid_0's multi_error: 0.556729\n",
      "[449]\tvalid_0's multi_error: 0.55672\n",
      "[450]\tvalid_0's multi_error: 0.556731\n",
      "[451]\tvalid_0's multi_error: 0.556711\n",
      "[452]\tvalid_0's multi_error: 0.556675\n",
      "[453]\tvalid_0's multi_error: 0.556607\n",
      "[454]\tvalid_0's multi_error: 0.556644\n",
      "[455]\tvalid_0's multi_error: 0.556656\n",
      "[456]\tvalid_0's multi_error: 0.556613\n",
      "[457]\tvalid_0's multi_error: 0.55658\n",
      "[458]\tvalid_0's multi_error: 0.55658\n",
      "[459]\tvalid_0's multi_error: 0.556589\n",
      "[460]\tvalid_0's multi_error: 0.556555\n",
      "[461]\tvalid_0's multi_error: 0.556595\n",
      "[462]\tvalid_0's multi_error: 0.556571\n",
      "[463]\tvalid_0's multi_error: 0.556538\n",
      "[464]\tvalid_0's multi_error: 0.556525\n",
      "[465]\tvalid_0's multi_error: 0.556526\n",
      "[466]\tvalid_0's multi_error: 0.556504\n",
      "[467]\tvalid_0's multi_error: 0.556481\n",
      "[468]\tvalid_0's multi_error: 0.556464\n",
      "[469]\tvalid_0's multi_error: 0.556469\n",
      "[470]\tvalid_0's multi_error: 0.556483\n",
      "[471]\tvalid_0's multi_error: 0.556505\n",
      "[472]\tvalid_0's multi_error: 0.556496\n",
      "[473]\tvalid_0's multi_error: 0.556477\n",
      "[474]\tvalid_0's multi_error: 0.556462\n",
      "[475]\tvalid_0's multi_error: 0.556419\n",
      "[476]\tvalid_0's multi_error: 0.556434\n",
      "[477]\tvalid_0's multi_error: 0.556458\n",
      "[478]\tvalid_0's multi_error: 0.556438\n",
      "[479]\tvalid_0's multi_error: 0.556416\n",
      "[480]\tvalid_0's multi_error: 0.55639\n",
      "[481]\tvalid_0's multi_error: 0.55634\n",
      "[482]\tvalid_0's multi_error: 0.556298\n",
      "[483]\tvalid_0's multi_error: 0.556281\n",
      "[484]\tvalid_0's multi_error: 0.556229\n",
      "[485]\tvalid_0's multi_error: 0.55622\n",
      "[486]\tvalid_0's multi_error: 0.55625\n",
      "[487]\tvalid_0's multi_error: 0.556265\n",
      "[488]\tvalid_0's multi_error: 0.55631\n",
      "[489]\tvalid_0's multi_error: 0.556253\n",
      "[490]\tvalid_0's multi_error: 0.556261\n",
      "[491]\tvalid_0's multi_error: 0.55621\n",
      "[492]\tvalid_0's multi_error: 0.556193\n",
      "[493]\tvalid_0's multi_error: 0.556205\n",
      "[494]\tvalid_0's multi_error: 0.556162\n",
      "[495]\tvalid_0's multi_error: 0.556178\n",
      "[496]\tvalid_0's multi_error: 0.556144\n",
      "[497]\tvalid_0's multi_error: 0.556101\n",
      "[498]\tvalid_0's multi_error: 0.556075\n",
      "[499]\tvalid_0's multi_error: 0.556026\n",
      "[500]\tvalid_0's multi_error: 0.556044\n",
      "[501]\tvalid_0's multi_error: 0.556037\n",
      "[502]\tvalid_0's multi_error: 0.556047\n",
      "[503]\tvalid_0's multi_error: 0.556035\n",
      "[504]\tvalid_0's multi_error: 0.556032\n",
      "[505]\tvalid_0's multi_error: 0.556065\n",
      "[506]\tvalid_0's multi_error: 0.556035\n",
      "[507]\tvalid_0's multi_error: 0.555987\n",
      "[508]\tvalid_0's multi_error: 0.55598\n",
      "[509]\tvalid_0's multi_error: 0.555995\n",
      "[510]\tvalid_0's multi_error: 0.555971\n",
      "[511]\tvalid_0's multi_error: 0.555983\n",
      "[512]\tvalid_0's multi_error: 0.555987\n",
      "[513]\tvalid_0's multi_error: 0.555959\n",
      "[514]\tvalid_0's multi_error: 0.555962\n",
      "[515]\tvalid_0's multi_error: 0.555931\n",
      "[516]\tvalid_0's multi_error: 0.555932\n",
      "[517]\tvalid_0's multi_error: 0.555947\n",
      "[518]\tvalid_0's multi_error: 0.555925\n",
      "[519]\tvalid_0's multi_error: 0.555914\n",
      "[520]\tvalid_0's multi_error: 0.555881\n",
      "[521]\tvalid_0's multi_error: 0.555898\n",
      "[522]\tvalid_0's multi_error: 0.555887\n",
      "[523]\tvalid_0's multi_error: 0.555819\n",
      "[524]\tvalid_0's multi_error: 0.555841\n",
      "[525]\tvalid_0's multi_error: 0.555792\n",
      "[526]\tvalid_0's multi_error: 0.555764\n",
      "[527]\tvalid_0's multi_error: 0.555772\n",
      "[528]\tvalid_0's multi_error: 0.555767\n",
      "[529]\tvalid_0's multi_error: 0.555761\n",
      "[530]\tvalid_0's multi_error: 0.555743\n",
      "[531]\tvalid_0's multi_error: 0.555741\n",
      "[532]\tvalid_0's multi_error: 0.555732\n",
      "[533]\tvalid_0's multi_error: 0.555705\n",
      "[534]\tvalid_0's multi_error: 0.555681\n",
      "[535]\tvalid_0's multi_error: 0.555664\n",
      "[536]\tvalid_0's multi_error: 0.555638\n",
      "[537]\tvalid_0's multi_error: 0.555604\n",
      "[538]\tvalid_0's multi_error: 0.555605\n",
      "[539]\tvalid_0's multi_error: 0.555578\n",
      "[540]\tvalid_0's multi_error: 0.555555\n",
      "[541]\tvalid_0's multi_error: 0.555508\n",
      "[542]\tvalid_0's multi_error: 0.555532\n",
      "[543]\tvalid_0's multi_error: 0.555517\n",
      "[544]\tvalid_0's multi_error: 0.555487\n",
      "[545]\tvalid_0's multi_error: 0.555498\n",
      "[546]\tvalid_0's multi_error: 0.555517\n",
      "[547]\tvalid_0's multi_error: 0.555502\n",
      "[548]\tvalid_0's multi_error: 0.555502\n",
      "[549]\tvalid_0's multi_error: 0.555528\n",
      "[550]\tvalid_0's multi_error: 0.555529\n",
      "[551]\tvalid_0's multi_error: 0.555534\n",
      "[552]\tvalid_0's multi_error: 0.555505\n",
      "[553]\tvalid_0's multi_error: 0.555496\n",
      "[554]\tvalid_0's multi_error: 0.555537\n",
      "[555]\tvalid_0's multi_error: 0.555561\n",
      "[556]\tvalid_0's multi_error: 0.555513\n",
      "[557]\tvalid_0's multi_error: 0.555477\n",
      "[558]\tvalid_0's multi_error: 0.555492\n",
      "[559]\tvalid_0's multi_error: 0.555492\n",
      "[560]\tvalid_0's multi_error: 0.555483\n",
      "[561]\tvalid_0's multi_error: 0.555469\n",
      "[562]\tvalid_0's multi_error: 0.555468\n",
      "[563]\tvalid_0's multi_error: 0.555455\n",
      "[564]\tvalid_0's multi_error: 0.555384\n",
      "[565]\tvalid_0's multi_error: 0.555405\n",
      "[566]\tvalid_0's multi_error: 0.555353\n",
      "[567]\tvalid_0's multi_error: 0.555322\n",
      "[568]\tvalid_0's multi_error: 0.555372\n",
      "[569]\tvalid_0's multi_error: 0.555305\n",
      "[570]\tvalid_0's multi_error: 0.555317\n",
      "[571]\tvalid_0's multi_error: 0.555314\n",
      "[572]\tvalid_0's multi_error: 0.555295\n",
      "[573]\tvalid_0's multi_error: 0.555307\n",
      "[574]\tvalid_0's multi_error: 0.555253\n",
      "[575]\tvalid_0's multi_error: 0.555229\n",
      "[576]\tvalid_0's multi_error: 0.555253\n",
      "[577]\tvalid_0's multi_error: 0.555226\n",
      "[578]\tvalid_0's multi_error: 0.55519\n",
      "[579]\tvalid_0's multi_error: 0.555196\n",
      "[580]\tvalid_0's multi_error: 0.555181\n",
      "[581]\tvalid_0's multi_error: 0.555172\n",
      "[582]\tvalid_0's multi_error: 0.555162\n",
      "[583]\tvalid_0's multi_error: 0.555137\n",
      "[584]\tvalid_0's multi_error: 0.55511\n",
      "[585]\tvalid_0's multi_error: 0.555134\n",
      "[586]\tvalid_0's multi_error: 0.555122\n",
      "[587]\tvalid_0's multi_error: 0.555158\n",
      "[588]\tvalid_0's multi_error: 0.555195\n",
      "[589]\tvalid_0's multi_error: 0.555186\n",
      "[590]\tvalid_0's multi_error: 0.555183\n",
      "[591]\tvalid_0's multi_error: 0.555187\n",
      "[592]\tvalid_0's multi_error: 0.555156\n",
      "[593]\tvalid_0's multi_error: 0.555183\n",
      "[594]\tvalid_0's multi_error: 0.555231\n",
      "[595]\tvalid_0's multi_error: 0.555199\n",
      "[596]\tvalid_0's multi_error: 0.555204\n",
      "[597]\tvalid_0's multi_error: 0.555165\n",
      "[598]\tvalid_0's multi_error: 0.555087\n",
      "[599]\tvalid_0's multi_error: 0.555083\n",
      "[600]\tvalid_0's multi_error: 0.555075\n",
      "[601]\tvalid_0's multi_error: 0.555065\n",
      "[602]\tvalid_0's multi_error: 0.555065\n",
      "[603]\tvalid_0's multi_error: 0.555075\n",
      "[604]\tvalid_0's multi_error: 0.555044\n",
      "[605]\tvalid_0's multi_error: 0.555067\n",
      "[606]\tvalid_0's multi_error: 0.555043\n",
      "[607]\tvalid_0's multi_error: 0.555019\n",
      "[608]\tvalid_0's multi_error: 0.555008\n",
      "[609]\tvalid_0's multi_error: 0.554996\n",
      "[610]\tvalid_0's multi_error: 0.555022\n",
      "[611]\tvalid_0's multi_error: 0.555004\n",
      "[612]\tvalid_0's multi_error: 0.554992\n",
      "[613]\tvalid_0's multi_error: 0.554935\n",
      "[614]\tvalid_0's multi_error: 0.554846\n",
      "[615]\tvalid_0's multi_error: 0.554822\n",
      "[616]\tvalid_0's multi_error: 0.554868\n",
      "[617]\tvalid_0's multi_error: 0.554838\n",
      "[618]\tvalid_0's multi_error: 0.554786\n",
      "[619]\tvalid_0's multi_error: 0.554831\n",
      "[620]\tvalid_0's multi_error: 0.554841\n",
      "[621]\tvalid_0's multi_error: 0.554799\n",
      "[622]\tvalid_0's multi_error: 0.554771\n",
      "[623]\tvalid_0's multi_error: 0.554764\n",
      "[624]\tvalid_0's multi_error: 0.554771\n",
      "[625]\tvalid_0's multi_error: 0.554758\n",
      "[626]\tvalid_0's multi_error: 0.554759\n",
      "[627]\tvalid_0's multi_error: 0.554777\n",
      "[628]\tvalid_0's multi_error: 0.554778\n",
      "[629]\tvalid_0's multi_error: 0.554768\n",
      "[630]\tvalid_0's multi_error: 0.554744\n",
      "[631]\tvalid_0's multi_error: 0.554765\n",
      "[632]\tvalid_0's multi_error: 0.554728\n",
      "[633]\tvalid_0's multi_error: 0.554695\n",
      "[634]\tvalid_0's multi_error: 0.554678\n",
      "[635]\tvalid_0's multi_error: 0.554684\n",
      "[636]\tvalid_0's multi_error: 0.554696\n",
      "[637]\tvalid_0's multi_error: 0.554674\n",
      "[638]\tvalid_0's multi_error: 0.554632\n",
      "[639]\tvalid_0's multi_error: 0.554695\n",
      "[640]\tvalid_0's multi_error: 0.554638\n",
      "[641]\tvalid_0's multi_error: 0.55462\n",
      "[642]\tvalid_0's multi_error: 0.554572\n",
      "[643]\tvalid_0's multi_error: 0.554593\n",
      "[644]\tvalid_0's multi_error: 0.554565\n",
      "[645]\tvalid_0's multi_error: 0.554565\n",
      "[646]\tvalid_0's multi_error: 0.554547\n",
      "[647]\tvalid_0's multi_error: 0.554528\n",
      "[648]\tvalid_0's multi_error: 0.554504\n",
      "[649]\tvalid_0's multi_error: 0.554507\n",
      "[650]\tvalid_0's multi_error: 0.55449\n",
      "[651]\tvalid_0's multi_error: 0.554502\n",
      "[652]\tvalid_0's multi_error: 0.55449\n",
      "[653]\tvalid_0's multi_error: 0.554513\n",
      "[654]\tvalid_0's multi_error: 0.554535\n",
      "[655]\tvalid_0's multi_error: 0.554489\n",
      "[656]\tvalid_0's multi_error: 0.55451\n",
      "[657]\tvalid_0's multi_error: 0.554477\n",
      "[658]\tvalid_0's multi_error: 0.554505\n",
      "[659]\tvalid_0's multi_error: 0.554517\n",
      "[660]\tvalid_0's multi_error: 0.554478\n",
      "[661]\tvalid_0's multi_error: 0.554462\n",
      "[662]\tvalid_0's multi_error: 0.554396\n",
      "[663]\tvalid_0's multi_error: 0.554405\n",
      "[664]\tvalid_0's multi_error: 0.554386\n",
      "[665]\tvalid_0's multi_error: 0.554399\n",
      "[666]\tvalid_0's multi_error: 0.554402\n",
      "[667]\tvalid_0's multi_error: 0.554352\n",
      "[668]\tvalid_0's multi_error: 0.554368\n",
      "[669]\tvalid_0's multi_error: 0.554362\n",
      "[670]\tvalid_0's multi_error: 0.554313\n",
      "[671]\tvalid_0's multi_error: 0.554284\n",
      "[672]\tvalid_0's multi_error: 0.554225\n",
      "[673]\tvalid_0's multi_error: 0.554228\n",
      "[674]\tvalid_0's multi_error: 0.554264\n",
      "[675]\tvalid_0's multi_error: 0.554262\n",
      "[676]\tvalid_0's multi_error: 0.554238\n",
      "[677]\tvalid_0's multi_error: 0.55419\n",
      "[678]\tvalid_0's multi_error: 0.554187\n",
      "[679]\tvalid_0's multi_error: 0.554225\n",
      "[680]\tvalid_0's multi_error: 0.554217\n",
      "[681]\tvalid_0's multi_error: 0.554234\n",
      "[682]\tvalid_0's multi_error: 0.554226\n",
      "[683]\tvalid_0's multi_error: 0.554211\n",
      "[684]\tvalid_0's multi_error: 0.554189\n",
      "[685]\tvalid_0's multi_error: 0.554134\n",
      "[686]\tvalid_0's multi_error: 0.55415\n",
      "[687]\tvalid_0's multi_error: 0.554175\n",
      "[688]\tvalid_0's multi_error: 0.554186\n",
      "[689]\tvalid_0's multi_error: 0.554175\n",
      "[690]\tvalid_0's multi_error: 0.554161\n",
      "[691]\tvalid_0's multi_error: 0.554122\n",
      "[692]\tvalid_0's multi_error: 0.554095\n",
      "[693]\tvalid_0's multi_error: 0.554061\n",
      "[694]\tvalid_0's multi_error: 0.55409\n",
      "[695]\tvalid_0's multi_error: 0.554071\n",
      "[696]\tvalid_0's multi_error: 0.554014\n",
      "[697]\tvalid_0's multi_error: 0.554044\n",
      "[698]\tvalid_0's multi_error: 0.554043\n",
      "[699]\tvalid_0's multi_error: 0.554032\n",
      "[700]\tvalid_0's multi_error: 0.554041\n",
      "[701]\tvalid_0's multi_error: 0.554053\n",
      "[702]\tvalid_0's multi_error: 0.554052\n",
      "[703]\tvalid_0's multi_error: 0.554086\n",
      "[704]\tvalid_0's multi_error: 0.554111\n",
      "[705]\tvalid_0's multi_error: 0.554105\n",
      "[706]\tvalid_0's multi_error: 0.554093\n",
      "[707]\tvalid_0's multi_error: 0.554084\n",
      "[708]\tvalid_0's multi_error: 0.554065\n",
      "[709]\tvalid_0's multi_error: 0.554061\n",
      "[710]\tvalid_0's multi_error: 0.554096\n",
      "[711]\tvalid_0's multi_error: 0.554066\n",
      "[712]\tvalid_0's multi_error: 0.554093\n",
      "[713]\tvalid_0's multi_error: 0.554122\n",
      "[714]\tvalid_0's multi_error: 0.554108\n",
      "[715]\tvalid_0's multi_error: 0.554098\n",
      "[716]\tvalid_0's multi_error: 0.554104\n",
      "[717]\tvalid_0's multi_error: 0.554068\n",
      "[718]\tvalid_0's multi_error: 0.554049\n",
      "[719]\tvalid_0's multi_error: 0.554111\n",
      "[720]\tvalid_0's multi_error: 0.554049\n",
      "[721]\tvalid_0's multi_error: 0.554064\n",
      "[722]\tvalid_0's multi_error: 0.554055\n",
      "[723]\tvalid_0's multi_error: 0.554069\n",
      "[724]\tvalid_0's multi_error: 0.554093\n",
      "[725]\tvalid_0's multi_error: 0.554087\n",
      "[726]\tvalid_0's multi_error: 0.554075\n",
      "[727]\tvalid_0's multi_error: 0.55404\n",
      "[728]\tvalid_0's multi_error: 0.554043\n",
      "[729]\tvalid_0's multi_error: 0.553989\n",
      "[730]\tvalid_0's multi_error: 0.553987\n",
      "[731]\tvalid_0's multi_error: 0.553965\n",
      "[732]\tvalid_0's multi_error: 0.553965\n",
      "[733]\tvalid_0's multi_error: 0.553966\n",
      "[734]\tvalid_0's multi_error: 0.553964\n",
      "[735]\tvalid_0's multi_error: 0.553989\n",
      "[736]\tvalid_0's multi_error: 0.553972\n",
      "[737]\tvalid_0's multi_error: 0.553995\n",
      "[738]\tvalid_0's multi_error: 0.553995\n",
      "[739]\tvalid_0's multi_error: 0.554022\n",
      "[740]\tvalid_0's multi_error: 0.553972\n",
      "[741]\tvalid_0's multi_error: 0.554001\n",
      "[742]\tvalid_0's multi_error: 0.553983\n",
      "[743]\tvalid_0's multi_error: 0.553996\n",
      "[744]\tvalid_0's multi_error: 0.553992\n",
      "[745]\tvalid_0's multi_error: 0.553968\n",
      "[746]\tvalid_0's multi_error: 0.553941\n",
      "[747]\tvalid_0's multi_error: 0.553959\n",
      "[748]\tvalid_0's multi_error: 0.553937\n",
      "[749]\tvalid_0's multi_error: 0.553935\n",
      "[750]\tvalid_0's multi_error: 0.553922\n",
      "[751]\tvalid_0's multi_error: 0.553916\n",
      "[752]\tvalid_0's multi_error: 0.553904\n",
      "[753]\tvalid_0's multi_error: 0.553874\n",
      "[754]\tvalid_0's multi_error: 0.553869\n",
      "[755]\tvalid_0's multi_error: 0.553893\n",
      "[756]\tvalid_0's multi_error: 0.553917\n",
      "[757]\tvalid_0's multi_error: 0.553916\n",
      "[758]\tvalid_0's multi_error: 0.553911\n",
      "[759]\tvalid_0's multi_error: 0.553917\n",
      "[760]\tvalid_0's multi_error: 0.553962\n",
      "[761]\tvalid_0's multi_error: 0.553955\n",
      "[762]\tvalid_0's multi_error: 0.553928\n",
      "[763]\tvalid_0's multi_error: 0.553926\n",
      "[764]\tvalid_0's multi_error: 0.553905\n",
      "[765]\tvalid_0's multi_error: 0.553875\n",
      "[766]\tvalid_0's multi_error: 0.55391\n",
      "[767]\tvalid_0's multi_error: 0.553904\n",
      "[768]\tvalid_0's multi_error: 0.553898\n",
      "[769]\tvalid_0's multi_error: 0.553938\n",
      "[770]\tvalid_0's multi_error: 0.553947\n",
      "[771]\tvalid_0's multi_error: 0.553949\n",
      "[772]\tvalid_0's multi_error: 0.553956\n",
      "[773]\tvalid_0's multi_error: 0.553956\n",
      "[774]\tvalid_0's multi_error: 0.553937\n",
      "[775]\tvalid_0's multi_error: 0.553966\n",
      "[776]\tvalid_0's multi_error: 0.553919\n",
      "[777]\tvalid_0's multi_error: 0.553893\n",
      "[778]\tvalid_0's multi_error: 0.553874\n",
      "[779]\tvalid_0's multi_error: 0.553825\n",
      "[780]\tvalid_0's multi_error: 0.553798\n",
      "[781]\tvalid_0's multi_error: 0.553796\n",
      "[782]\tvalid_0's multi_error: 0.55382\n",
      "[783]\tvalid_0's multi_error: 0.553831\n",
      "[784]\tvalid_0's multi_error: 0.553799\n",
      "[785]\tvalid_0's multi_error: 0.553787\n",
      "[786]\tvalid_0's multi_error: 0.553795\n",
      "[787]\tvalid_0's multi_error: 0.553775\n",
      "[788]\tvalid_0's multi_error: 0.553793\n",
      "[789]\tvalid_0's multi_error: 0.553781\n",
      "[790]\tvalid_0's multi_error: 0.553792\n",
      "[791]\tvalid_0's multi_error: 0.553786\n",
      "[792]\tvalid_0's multi_error: 0.553825\n",
      "[793]\tvalid_0's multi_error: 0.55382\n",
      "[794]\tvalid_0's multi_error: 0.553795\n",
      "[795]\tvalid_0's multi_error: 0.553804\n",
      "[796]\tvalid_0's multi_error: 0.553758\n",
      "[797]\tvalid_0's multi_error: 0.553719\n",
      "[798]\tvalid_0's multi_error: 0.553668\n",
      "[799]\tvalid_0's multi_error: 0.553674\n",
      "[800]\tvalid_0's multi_error: 0.553665\n",
      "[801]\tvalid_0's multi_error: 0.553653\n",
      "[802]\tvalid_0's multi_error: 0.553672\n",
      "[803]\tvalid_0's multi_error: 0.55364\n",
      "[804]\tvalid_0's multi_error: 0.553671\n",
      "[805]\tvalid_0's multi_error: 0.553628\n",
      "[806]\tvalid_0's multi_error: 0.553634\n",
      "[807]\tvalid_0's multi_error: 0.553628\n",
      "[808]\tvalid_0's multi_error: 0.553652\n",
      "[809]\tvalid_0's multi_error: 0.55365\n",
      "[810]\tvalid_0's multi_error: 0.553665\n",
      "[811]\tvalid_0's multi_error: 0.553643\n",
      "[812]\tvalid_0's multi_error: 0.55362\n",
      "[813]\tvalid_0's multi_error: 0.553617\n",
      "[814]\tvalid_0's multi_error: 0.553617\n",
      "[815]\tvalid_0's multi_error: 0.553626\n",
      "[816]\tvalid_0's multi_error: 0.55361\n",
      "[817]\tvalid_0's multi_error: 0.55361\n",
      "[818]\tvalid_0's multi_error: 0.553611\n",
      "[819]\tvalid_0's multi_error: 0.55359\n",
      "[820]\tvalid_0's multi_error: 0.553631\n",
      "[821]\tvalid_0's multi_error: 0.553616\n",
      "[822]\tvalid_0's multi_error: 0.553571\n",
      "[823]\tvalid_0's multi_error: 0.553559\n",
      "[824]\tvalid_0's multi_error: 0.553589\n",
      "[825]\tvalid_0's multi_error: 0.553593\n",
      "[826]\tvalid_0's multi_error: 0.553546\n",
      "[827]\tvalid_0's multi_error: 0.553555\n",
      "[828]\tvalid_0's multi_error: 0.553592\n",
      "[829]\tvalid_0's multi_error: 0.553575\n",
      "[830]\tvalid_0's multi_error: 0.553565\n",
      "[831]\tvalid_0's multi_error: 0.553556\n",
      "[832]\tvalid_0's multi_error: 0.553568\n",
      "[833]\tvalid_0's multi_error: 0.553538\n",
      "[834]\tvalid_0's multi_error: 0.553537\n",
      "[835]\tvalid_0's multi_error: 0.55352\n",
      "[836]\tvalid_0's multi_error: 0.553511\n",
      "[837]\tvalid_0's multi_error: 0.55352\n",
      "[838]\tvalid_0's multi_error: 0.553472\n",
      "[839]\tvalid_0's multi_error: 0.55348\n",
      "[840]\tvalid_0's multi_error: 0.553493\n",
      "[841]\tvalid_0's multi_error: 0.553505\n",
      "[842]\tvalid_0's multi_error: 0.55352\n",
      "[843]\tvalid_0's multi_error: 0.553493\n",
      "[844]\tvalid_0's multi_error: 0.553508\n",
      "[845]\tvalid_0's multi_error: 0.553498\n",
      "[846]\tvalid_0's multi_error: 0.553484\n",
      "[847]\tvalid_0's multi_error: 0.553478\n",
      "[848]\tvalid_0's multi_error: 0.553474\n",
      "[849]\tvalid_0's multi_error: 0.553458\n",
      "[850]\tvalid_0's multi_error: 0.553477\n",
      "[851]\tvalid_0's multi_error: 0.553478\n",
      "[852]\tvalid_0's multi_error: 0.553453\n",
      "[853]\tvalid_0's multi_error: 0.553441\n",
      "[854]\tvalid_0's multi_error: 0.553443\n",
      "[855]\tvalid_0's multi_error: 0.553502\n",
      "[856]\tvalid_0's multi_error: 0.553472\n",
      "[857]\tvalid_0's multi_error: 0.553419\n",
      "[858]\tvalid_0's multi_error: 0.553472\n",
      "[859]\tvalid_0's multi_error: 0.553429\n",
      "[860]\tvalid_0's multi_error: 0.553405\n",
      "[861]\tvalid_0's multi_error: 0.553432\n",
      "[862]\tvalid_0's multi_error: 0.553393\n",
      "[863]\tvalid_0's multi_error: 0.553399\n",
      "[864]\tvalid_0's multi_error: 0.553408\n",
      "[865]\tvalid_0's multi_error: 0.55341\n",
      "[866]\tvalid_0's multi_error: 0.553396\n",
      "[867]\tvalid_0's multi_error: 0.553365\n",
      "[868]\tvalid_0's multi_error: 0.553347\n",
      "[869]\tvalid_0's multi_error: 0.553361\n",
      "[870]\tvalid_0's multi_error: 0.553356\n",
      "[871]\tvalid_0's multi_error: 0.553377\n",
      "[872]\tvalid_0's multi_error: 0.553405\n",
      "[873]\tvalid_0's multi_error: 0.553377\n",
      "[874]\tvalid_0's multi_error: 0.553386\n",
      "[875]\tvalid_0's multi_error: 0.553362\n",
      "[876]\tvalid_0's multi_error: 0.553371\n",
      "[877]\tvalid_0's multi_error: 0.553329\n",
      "[878]\tvalid_0's multi_error: 0.553334\n",
      "[879]\tvalid_0's multi_error: 0.553343\n",
      "[880]\tvalid_0's multi_error: 0.553334\n",
      "[881]\tvalid_0's multi_error: 0.553358\n",
      "[882]\tvalid_0's multi_error: 0.553366\n",
      "[883]\tvalid_0's multi_error: 0.553329\n",
      "[884]\tvalid_0's multi_error: 0.553319\n",
      "[885]\tvalid_0's multi_error: 0.553301\n",
      "[886]\tvalid_0's multi_error: 0.553293\n",
      "[887]\tvalid_0's multi_error: 0.553275\n",
      "[888]\tvalid_0's multi_error: 0.553266\n",
      "[889]\tvalid_0's multi_error: 0.553211\n",
      "[890]\tvalid_0's multi_error: 0.553168\n",
      "[891]\tvalid_0's multi_error: 0.553162\n",
      "[892]\tvalid_0's multi_error: 0.553161\n",
      "[893]\tvalid_0's multi_error: 0.553135\n",
      "[894]\tvalid_0's multi_error: 0.55312\n",
      "[895]\tvalid_0's multi_error: 0.553147\n",
      "[896]\tvalid_0's multi_error: 0.553158\n",
      "[897]\tvalid_0's multi_error: 0.553178\n",
      "[898]\tvalid_0's multi_error: 0.553202\n",
      "[899]\tvalid_0's multi_error: 0.553174\n",
      "[900]\tvalid_0's multi_error: 0.553183\n",
      "[901]\tvalid_0's multi_error: 0.553183\n",
      "[902]\tvalid_0's multi_error: 0.553137\n",
      "[903]\tvalid_0's multi_error: 0.553123\n",
      "[904]\tvalid_0's multi_error: 0.553122\n",
      "[905]\tvalid_0's multi_error: 0.553135\n",
      "[906]\tvalid_0's multi_error: 0.553135\n",
      "[907]\tvalid_0's multi_error: 0.553144\n",
      "[908]\tvalid_0's multi_error: 0.553156\n",
      "[909]\tvalid_0's multi_error: 0.553162\n",
      "[910]\tvalid_0's multi_error: 0.553152\n",
      "[911]\tvalid_0's multi_error: 0.55312\n",
      "[912]\tvalid_0's multi_error: 0.553108\n",
      "[913]\tvalid_0's multi_error: 0.553144\n",
      "[914]\tvalid_0's multi_error: 0.55318\n",
      "[915]\tvalid_0's multi_error: 0.553138\n",
      "[916]\tvalid_0's multi_error: 0.553158\n",
      "[917]\tvalid_0's multi_error: 0.553158\n",
      "[918]\tvalid_0's multi_error: 0.553143\n",
      "[919]\tvalid_0's multi_error: 0.55314\n",
      "[920]\tvalid_0's multi_error: 0.553089\n",
      "[921]\tvalid_0's multi_error: 0.553066\n",
      "[922]\tvalid_0's multi_error: 0.553069\n",
      "[923]\tvalid_0's multi_error: 0.553016\n",
      "[924]\tvalid_0's multi_error: 0.55304\n",
      "[925]\tvalid_0's multi_error: 0.55302\n",
      "[926]\tvalid_0's multi_error: 0.552998\n",
      "[927]\tvalid_0's multi_error: 0.553016\n",
      "[928]\tvalid_0's multi_error: 0.552987\n",
      "[929]\tvalid_0's multi_error: 0.55298\n",
      "[930]\tvalid_0's multi_error: 0.552969\n",
      "[931]\tvalid_0's multi_error: 0.552981\n",
      "[932]\tvalid_0's multi_error: 0.552956\n",
      "[933]\tvalid_0's multi_error: 0.552968\n",
      "[934]\tvalid_0's multi_error: 0.552965\n",
      "[935]\tvalid_0's multi_error: 0.552969\n",
      "[936]\tvalid_0's multi_error: 0.552986\n",
      "[937]\tvalid_0's multi_error: 0.552937\n",
      "[938]\tvalid_0's multi_error: 0.552916\n",
      "[939]\tvalid_0's multi_error: 0.552896\n",
      "[940]\tvalid_0's multi_error: 0.552904\n",
      "[941]\tvalid_0's multi_error: 0.552877\n",
      "[942]\tvalid_0's multi_error: 0.552814\n",
      "[943]\tvalid_0's multi_error: 0.552834\n",
      "[944]\tvalid_0's multi_error: 0.552853\n",
      "[945]\tvalid_0's multi_error: 0.552828\n",
      "[946]\tvalid_0's multi_error: 0.552825\n",
      "[947]\tvalid_0's multi_error: 0.552783\n",
      "[948]\tvalid_0's multi_error: 0.552798\n",
      "[949]\tvalid_0's multi_error: 0.55282\n",
      "[950]\tvalid_0's multi_error: 0.552871\n",
      "[951]\tvalid_0's multi_error: 0.552872\n",
      "[952]\tvalid_0's multi_error: 0.552852\n",
      "[953]\tvalid_0's multi_error: 0.552831\n",
      "[954]\tvalid_0's multi_error: 0.552796\n",
      "[955]\tvalid_0's multi_error: 0.552814\n",
      "[956]\tvalid_0's multi_error: 0.55281\n",
      "[957]\tvalid_0's multi_error: 0.552837\n",
      "[958]\tvalid_0's multi_error: 0.55281\n",
      "[959]\tvalid_0's multi_error: 0.552807\n",
      "[960]\tvalid_0's multi_error: 0.552844\n",
      "[961]\tvalid_0's multi_error: 0.552801\n",
      "[962]\tvalid_0's multi_error: 0.552762\n",
      "[963]\tvalid_0's multi_error: 0.552764\n",
      "[964]\tvalid_0's multi_error: 0.552747\n",
      "[965]\tvalid_0's multi_error: 0.552741\n",
      "[966]\tvalid_0's multi_error: 0.552756\n",
      "[967]\tvalid_0's multi_error: 0.552729\n",
      "[968]\tvalid_0's multi_error: 0.552731\n",
      "[969]\tvalid_0's multi_error: 0.552784\n",
      "[970]\tvalid_0's multi_error: 0.552759\n",
      "[971]\tvalid_0's multi_error: 0.55274\n",
      "[972]\tvalid_0's multi_error: 0.552762\n",
      "[973]\tvalid_0's multi_error: 0.552758\n",
      "[974]\tvalid_0's multi_error: 0.552728\n",
      "[975]\tvalid_0's multi_error: 0.552741\n",
      "[976]\tvalid_0's multi_error: 0.55275\n",
      "[977]\tvalid_0's multi_error: 0.552734\n",
      "[978]\tvalid_0's multi_error: 0.552781\n",
      "[979]\tvalid_0's multi_error: 0.552787\n",
      "[980]\tvalid_0's multi_error: 0.552801\n",
      "[981]\tvalid_0's multi_error: 0.552764\n",
      "[982]\tvalid_0's multi_error: 0.552725\n",
      "[983]\tvalid_0's multi_error: 0.552707\n",
      "[984]\tvalid_0's multi_error: 0.552711\n",
      "[985]\tvalid_0's multi_error: 0.552696\n",
      "[986]\tvalid_0's multi_error: 0.552683\n",
      "[987]\tvalid_0's multi_error: 0.552674\n",
      "[988]\tvalid_0's multi_error: 0.552695\n",
      "[989]\tvalid_0's multi_error: 0.552692\n",
      "[990]\tvalid_0's multi_error: 0.552672\n",
      "[991]\tvalid_0's multi_error: 0.552696\n",
      "[992]\tvalid_0's multi_error: 0.552686\n",
      "[993]\tvalid_0's multi_error: 0.552702\n",
      "[994]\tvalid_0's multi_error: 0.552681\n",
      "[995]\tvalid_0's multi_error: 0.552702\n",
      "[996]\tvalid_0's multi_error: 0.552681\n",
      "[997]\tvalid_0's multi_error: 0.552675\n",
      "[998]\tvalid_0's multi_error: 0.552664\n",
      "[999]\tvalid_0's multi_error: 0.552647\n",
      "[1000]\tvalid_0's multi_error: 0.552661\n",
      "Did not meet early stopping. Best iteration is:\n",
      "[999]\tvalid_0's multi_error: 0.552647\n"
     ]
    },
    {
     "name": "stderr",
     "output_type": "stream",
     "text": [
      "d:\\ProgramData\\Anaconda3\\lib\\site-packages\\ipykernel_launcher.py:44: FutureWarning: Method .as_matrix will be removed in a future version. Use .values instead.\n"
     ]
    }
   ],
   "source": [
    "print(\"训练模型：\")\n",
    "param = {\n",
    "        'learning_rate': 0.1,\n",
    "        'lambda_l1': 0.1,\n",
    "        'lambda_l2': 0.2,\n",
    "        'max_depth': 20,\n",
    "        'objective': 'multiclass',\n",
    "        'num_class': 7,\n",
    "        'num_leaves': 31,\n",
    "        'min_data_in_leaf': 50,\n",
    "        'max_bin': 230,\n",
    "        'feature_fraction': 0.8,\n",
    "        'metric': 'multi_error'\n",
    "        }\n",
    "\n",
    "X = df_train.drop(['age_group','uid'], axis=1)\n",
    "y = df_train['age_group']\n",
    "uid = df_test['uid']\n",
    "test = df_test.drop('uid', axis=1)\n",
    "\n",
    "xx_score = []\n",
    "cv_pred = []\n",
    "skf = StratifiedKFold(n_splits=3, random_state=1030, shuffle=True)\n",
    "for index, (train_index, vali_index) in enumerate(skf.split(X, y)):\n",
    "    print(index)\n",
    "    x_train, y_train, x_vali, y_vali = np.array(X)[train_index], np.array(y)[train_index], np.array(X)[vali_index], np.array(y)[vali_index]\n",
    "    train = lgb.Dataset(x_train, y_train)\n",
    "    vali =lgb.Dataset(x_vali, y_vali)\n",
    "    print(\"training start...\")\n",
    "    model = lgb.train(param, train, num_boost_round=1000, valid_sets=[vali], early_stopping_rounds=50)\n",
    "    xx_pred = model.predict(x_vali,num_iteration=model.best_iteration)\n",
    "    xx_pred = [np.argmax(x) for x in xx_pred]\n",
    "    xx_score.append(f1_score(y_vali,xx_pred,average='weighted'))\n",
    "    y_test = model.predict(test,num_iteration=model.best_iteration)\n",
    "    y_test = [np.argmax(x) for x in y_test]\n",
    "    if index == 0:\n",
    "        cv_pred = np.array(y_test).reshape(-1, 1)\n",
    "    else:\n",
    "        cv_pred = np.hstack((cv_pred, np.array(y_test).reshape(-1, 1)))\n",
    "        \n",
    "submit = []\n",
    "for line in cv_pred:\n",
    "    submit.append(np.argmax(np.bincount(line)))\n",
    "df = pd.DataFrame({'id':uid.as_matrix(),'label':submit})\n",
    "df.to_csv('submission.csv',index=False)"
   ]
  },
  {
   "cell_type": "code",
   "execution_count": 18,
   "metadata": {},
   "outputs": [
    {
     "data": {
      "text/plain": [
       "6"
      ]
     },
     "execution_count": 18,
     "metadata": {},
     "output_type": "execute_result"
    }
   ],
   "source": [
    "age_train['age_group'].nunique()"
   ]
  },
  {
   "cell_type": "code",
   "execution_count": 19,
   "metadata": {},
   "outputs": [
    {
     "name": "stdout",
     "output_type": "stream",
     "text": [
      "import pandas as pd\n",
      "import numpy as np\n",
      "import lightgbm as lgb\n",
      "pd.set_option('display.max_columns',None)\n",
      "#读取数据\n",
      "age_train = pd.read_csv(\"age_train.csv\", names=['uid','age_group'])\n",
      "age_test = pd.read_csv(\"age_test.csv\", names=['uid'])\n",
      "user_basic_info = pd.read_csv(\"user_basic_info.csv\", names=['uid','gender','city','prodName','ramCapacity','ramLeftRation','romCapacity','romLeftRation','color','fontSize','ct','carrier','os'])\n",
      "user_behavior_info = pd.read_csv(\"user_behavior_info.csv\", names=['uid','bootTimes','AFuncTimes','BFuncTimes','CFuncTimes','DFuncTimes','EFuncTimes','FFuncTimes','FFuncSum'])\n",
      "user_app_actived = pd.read_csv(\"user_app_actived.csv\", names=['uid','appId'])\n",
      "#user_app_usage = pd.read_csv(\"user_app_usage.csv\")\n",
      "app_info = pd.read_csv(\"app_info.csv\", names=['appId', 'category'])\n",
      "#读取数据\n",
      "age_train = pd.read_csv(\"age_train.csv\", names=['uid','age_group'])\n",
      "age_test = pd.read_csv(\"age_test.csv\", names=['uid'])\n",
      "user_basic_info = pd.read_csv(\"user_basic_info.csv\", names=['uid','gender','city','prodName','ramCapacity','ramLeftRation','romCapacity','romLeftRation','color','fontSize','ct','carrier','os'])\n",
      "user_behavior_info = pd.read_csv(\"user_behavior_info.csv\", names=['uid','bootTimes','AFuncTimes','BFuncTimes','CFuncTimes','DFuncTimes','EFuncTimes','FFuncTimes','FFuncSum'])\n",
      "user_app_actived = pd.read_csv(\"user_app_actived.csv\", names=['uid','appId'])\n",
      "#user_app_usage = pd.read_csv(\"user_app_usage.csv\")\n",
      "app_info = pd.read_csv(\"app_info.csv\", names=['appId', 'category'])\n",
      "#处理数据量较大的user_app_usage.csv，结合app_info.csv简单统计得到appuseProcessed.csv作为特征\n",
      "def f(x):\n",
      "    s = x.value_counts()\n",
      "    return np.nan if len(s) == 0 else s.index[0]\n",
      "def processUserAppUsage():\n",
      "    resTable = pd.DataFrame()\n",
      "    reader = pd.read_csv(\"user_app_usage.csv\", names=['uid','appId','duration','times','use_date'], iterator=True)\n",
      "    last_df = pd.DataFrame()\n",
      "    \n",
      "    app_info = pd.read_csv(\"app_info.csv\", names=['appId','category'])\n",
      "    cats = list(set(app_info['category']))\n",
      "    category2id = dict(zip(sorted(cats), range(0,len(cats))))\n",
      "    id2category = dict(zip(range(0,len(cats)), sorted(cats)))\n",
      "    app_info['category'] = app_info['category'].apply(lambda x: category2id[x])\n",
      "    i = 1\n",
      "    \n",
      "    while True:\n",
      "        try:\n",
      "            print(\"index: {}\".format(i))\n",
      "            i+=1\n",
      "            df = reader.get_chunk(1000000)\n",
      "            df = pd.concat([last_df, df])\n",
      "            idx = df.shape[0]-1\n",
      "            last_user = df.iat[idx,0]\n",
      "            while(df.iat[idx,0]==last_user):\n",
      "                idx-=1\n",
      "            last_df = df[idx+1:]\n",
      "            df = df[:idx+1]\n",
      "\n",
      "            now_df = pd.DataFrame()\n",
      "            now_df['uid'] = df['uid'].unique()\n",
      "            now_df = now_df.merge(df.groupby('uid')['appId'].count().to_frame(), how='left', on='uid')\n",
      "            now_df = now_df.merge(df.groupby('uid')['appId','use_date'].agg(['nunique']), how='left', on='uid')\n",
      "            now_df = now_df.merge(df.groupby('uid')['duration','times'].agg(['mean','max','std']), how='left', on='uid')    \n",
      "\n",
      "            now_df.columns = ['uid','usage_cnt','usage_appid_cnt','usage_date_cnt','duration_mean','duration_max','duration_std','times_mean','times_max','times_std']\n",
      "\n",
      "\n",
      "            df = df.merge(app_info, how='left', on='appId')\n",
      "            now_df = now_df.merge(df.groupby('uid')['category'].nunique().to_frame(), how='left', on='uid')\n",
      "            #print(df.groupby(['uid'])['category'].value_counts().index[0])\n",
      "            now_df['usage_most_used_category'] = df.groupby(['uid'])['category'].transform(f)\n",
      "            resTable = pd.concat([resTable, now_df])\n",
      "        except StopIteration:\n",
      "            break\n",
      "    \n",
      "    resTable.to_csv(\"appuseProcessed.csv\",index=0)\n",
      "    \n",
      "    print(\"Iterator is stopped\")\n",
      "processUserAppUsage()\n",
      "#处理数据量较大的user_app_usage.csv，结合app_info.csv简单统计得到appuseProcessed.csv作为特征\n",
      "def f(x):\n",
      "    s = x.value_counts()\n",
      "    return np.nan if len(s) == 0 else s.index[0]\n",
      "def processUserAppUsage():\n",
      "    resTable = pd.DataFrame()\n",
      "    reader = pd.read_csv(\"user_app_usage.csv\", names=['uid','appId','duration','times','use_date'], iterator=True)\n",
      "    last_df = pd.DataFrame()\n",
      "    \n",
      "    app_info = pd.read_csv(\"app_info.csv\", names=['appId','category'])\n",
      "    cats = list(set(app_info['category']))\n",
      "    category2id = dict(zip(sorted(cats), range(0,len(cats))))\n",
      "    id2category = dict(zip(range(0,len(cats)), sorted(cats)))\n",
      "    app_info['category'] = app_info['category'].apply(lambda x: category2id[x])\n",
      "    i = 1\n",
      "    \n",
      "    while True:\n",
      "        try:\n",
      "            print(\"index: {}\".format(i))\n",
      "            i+=1\n",
      "            df = reader.get_chunk(1000000)\n",
      "            df = pd.concat([last_df, df])\n",
      "            idx = df.shape[0]-1\n",
      "            last_user = df.iat[idx,0]\n",
      "            while(df.iat[idx,0]==last_user):\n",
      "                idx-=1\n",
      "            last_df = df[idx+1:]\n",
      "            df = df[:idx+1]\n",
      "\n",
      "            now_df = pd.DataFrame()\n",
      "            now_df['uid'] = df['uid'].unique()\n",
      "            now_df = now_df.merge(df.groupby('uid')['appId'].count().to_frame(), how='left', on='uid')\n",
      "            now_df = now_df.merge(df.groupby('uid')['appId','use_date'].agg(['nunique']), how='left', on='uid')\n",
      "            now_df = now_df.merge(df.groupby('uid')['duration','times'].agg(['mean','max','std']), how='left', on='uid')    \n",
      "\n",
      "            now_df.columns = ['uid','usage_cnt','usage_appid_cnt','usage_date_cnt','duration_mean','duration_max','duration_std','times_mean','times_max','times_std']\n",
      "\n",
      "\n",
      "            df = df.merge(app_info, how='left', on='appId')\n",
      "            now_df = now_df.merge(df.groupby('uid')['category'].nunique().to_frame(), how='left', on='uid')\n",
      "            #print(df.groupby(['uid'])['category'].value_counts().index[0])\n",
      "            now_df['usage_most_used_category'] = df.groupby(['uid'])['category'].transform(f)\n",
      "            resTable = pd.concat([resTable, now_df])\n",
      "        except StopIteration:\n",
      "            break\n",
      "    \n",
      "    resTable.to_csv(\"appuseProcessed.csv\",index=0)\n",
      "    \n",
      "    print(\"Iterator is stopped\")\n",
      "import pandas as pd\n",
      "import numpy as np\n",
      "import lightgbm as lgb\n",
      "pd.set_option('display.max_columns',None)\n",
      "#读取数据\n",
      "age_train = pd.read_csv(\"age_train.csv\", names=['uid','age_group'])\n",
      "age_test = pd.read_csv(\"age_test.csv\", names=['uid'])\n",
      "user_basic_info = pd.read_csv(\"user_basic_info.csv\", names=['uid','gender','city','prodName','ramCapacity','ramLeftRation','romCapacity','romLeftRation','color','fontSize','ct','carrier','os'])\n",
      "user_behavior_info = pd.read_csv(\"user_behavior_info.csv\", names=['uid','bootTimes','AFuncTimes','BFuncTimes','CFuncTimes','DFuncTimes','EFuncTimes','FFuncTimes','FFuncSum'])\n",
      "user_app_actived = pd.read_csv(\"user_app_actived.csv\", names=['uid','appId'])\n",
      "#user_app_usage = pd.read_csv(\"user_app_usage.csv\")\n",
      "app_info = pd.read_csv(\"app_info.csv\", names=['appId', 'category'])\n",
      "#处理数据量较大的user_app_usage.csv，结合app_info.csv简单统计得到appuseProcessed.csv作为特征\n",
      "def f(x):\n",
      "    s = x.value_counts()\n",
      "    return np.nan if len(s) == 0 else s.index[0]\n",
      "def processUserAppUsage():\n",
      "    resTable = pd.DataFrame()\n",
      "    reader = pd.read_csv(\"user_app_usage.csv\", names=['uid','appId','duration','times','use_date'], iterator=True)\n",
      "    last_df = pd.DataFrame()\n",
      "    \n",
      "    app_info = pd.read_csv(\"app_info.csv\", names=['appId','category'])\n",
      "    cats = list(set(app_info['category']))\n",
      "    category2id = dict(zip(sorted(cats), range(0,len(cats))))\n",
      "    id2category = dict(zip(range(0,len(cats)), sorted(cats)))\n",
      "    app_info['category'] = app_info['category'].apply(lambda x: category2id[x])\n",
      "    i = 1\n",
      "    \n",
      "    while True:\n",
      "        try:\n",
      "            print(\"index: {}\".format(i))\n",
      "            i+=1\n",
      "            df = reader.get_chunk(1000000)\n",
      "            df = pd.concat([last_df, df])\n",
      "            idx = df.shape[0]-1\n",
      "            last_user = df.iat[idx,0]\n",
      "            while(df.iat[idx,0]==last_user):\n",
      "                idx-=1\n",
      "            last_df = df[idx+1:]\n",
      "            df = df[:idx+1]\n",
      "\n",
      "            now_df = pd.DataFrame()\n",
      "            now_df['uid'] = df['uid'].unique()\n",
      "            now_df = now_df.merge(df.groupby('uid')['appId'].count().to_frame(), how='left', on='uid')\n",
      "            now_df = now_df.merge(df.groupby('uid')['appId','use_date'].agg(['nunique']), how='left', on='uid')\n",
      "            now_df = now_df.merge(df.groupby('uid')['duration','times'].agg(['mean','max','std']), how='left', on='uid')    \n",
      "\n",
      "            now_df.columns = ['uid','usage_cnt','usage_appid_cnt','usage_date_cnt','duration_mean','duration_max','duration_std','times_mean','times_max','times_std']\n",
      "\n",
      "\n",
      "            df = df.merge(app_info, how='left', on='appId')\n",
      "            now_df = now_df.merge(df.groupby('uid')['category'].nunique().to_frame(), how='left', on='uid')\n",
      "            #print(df.groupby(['uid'])['category'].value_counts().index[0])\n",
      "            now_df['usage_most_used_category'] = df.groupby(['uid'])['category'].transform(f)\n",
      "            resTable = pd.concat([resTable, now_df])\n",
      "        except StopIteration:\n",
      "            break\n",
      "    \n",
      "    resTable.to_csv(\"appuseProcessed.csv\",index=0)\n",
      "    \n",
      "    print(\"Iterator is stopped\")\n",
      "processUserAppUsage()\n",
      "#将user_basic_info.csv 和 user_behavior_info.csv中的字符值编码成可以训练的数值类型，合并\n",
      "class2id = {}\n",
      "id2class = {}\n",
      "def mergeBasicTables(baseTable):\n",
      "    resTable = baseTable.merge(user_basic_info, how='left', on='uid', suffixes=('_base0', '_ubaf'))\n",
      "    resTable = resTable.merge(user_behavior_info, how='left', on='uid', suffixes=('_base1', '_ubef'))\n",
      "    cat_columns = ['city','prodName','color','carrier','os','ct']\n",
      "    for c in cat_columns:\n",
      "        resTable[c] = resTable[c].apply(lambda x: x if type(x)==str else str(x))\n",
      "        sort_temp = sorted(list(set(resTable[c])))  \n",
      "        class2id[c+'2id'] = dict(zip(sort_temp, range(1, len(sort_temp)+1)))\n",
      "        id2class['id2'+c] = dict(zip(range(1,len(sort_temp)+1), sort_temp))\n",
      "        resTable[c] = resTable[c].apply(lambda x: class2id[c+'2id'][x])\n",
      "        \n",
      "    return resTable\n",
      "#处理app使用相关数据\n",
      "#对user_app_actived.csv简单统计\n",
      "#将之前训练的appuseProcess.csv进行合并\n",
      "def mergeAppData(baseTable):\n",
      "    resTable = baseTable.merge(user_app_actived, how='left', on='uid')\n",
      "    resTable['appId'] = resTable['appId'].apply(lambda x: len(list(x.split('#'))))\n",
      "    appusedTable = pd.read_csv(\"appuseProcessed.csv\")\n",
      "    resTable = resTable.merge(appusedTable, how='left', on='uid')\n",
      "    resTable[['category', 'usage_most_used_category']] = resTable[['category', 'usage_most_used_category']].fillna(41)\n",
      "    resTable = resTable.fillna(0)\n",
      "    #print(resTable[:5])\n",
      "    return resTable\n",
      "#合并用户基本特征以及app使用相关特征，作为训练集和测试集\n",
      "df_train = mergeAppData(mergeBasicTables(age_train))\n",
      "df_test = mergeAppData(mergeBasicTables(age_test))\n",
      "print(df_train.shape)\n",
      "print(df_test.shape)\n",
      "#训练模型\n",
      "\n",
      "from sklearn.feature_selection import SelectFromModel, VarianceThreshold, SelectKBest, chi2, mutual_info_classif, f_classif\n",
      "from sklearn.preprocessing import Imputer\n",
      "from sklearn.ensemble import ExtraTreesClassifier\n",
      "\n",
      "import lightgbm as lgb\n",
      "from sklearn.model_selection import train_test_split\n",
      "from sklearn.metrics import roc_auc_score, accuracy_score, f1_score\n",
      "from sklearn.model_selection import StratifiedKFold\n",
      "print(\"训练模型：\")\n",
      "param = {\n",
      "        'learning_rate': 0.1,\n",
      "        'lambda_l1': 0.1,\n",
      "        'lambda_l2': 0.2,\n",
      "        'max_depth': 20,\n",
      "        'objective': 'multiclass',\n",
      "        'num_class': 7,\n",
      "        'num_leaves': 31,\n",
      "        'min_data_in_leaf': 50,\n",
      "        'max_bin': 230,\n",
      "        'feature_fraction': 0.8,\n",
      "        'metric': 'multi_error'\n",
      "        }\n",
      "\n",
      "X = df_train.drop(['age_group','uid'], axis=1)\n",
      "y = df_train['age_group']\n",
      "uid = df_test['uid']\n",
      "test = df_test.drop('uid', axis=1)\n",
      "\n",
      "xx_score = []\n",
      "cv_pred = []\n",
      "skf = StratifiedKFold(n_splits=3, random_state=1030, shuffle=True)\n",
      "for index, (train_index, vali_index) in enumerate(skf.split(X, y)):\n",
      "    print(index)\n",
      "    x_train, y_train, x_vali, y_vali = np.array(X)[train_index], np.array(y)[train_index], np.array(X)[vali_index], np.array(y)[vali_index]\n",
      "    train = lgb.Dataset(x_train, y_train)\n",
      "    vali =lgb.Dataset(x_vali, y_vali)\n",
      "    print(\"training start...\")\n",
      "    model = lgb.train(param, train, num_boost_round=1000, valid_sets=[vali], early_stopping_rounds=50)\n",
      "    xx_pred = model.predict(x_vali,num_iteration=model.best_iteration)\n",
      "    xx_pred = [np.argmax(x) for x in xx_pred]\n",
      "    xx_score.append(f1_score(y_vali,xx_pred,average='weighted'))\n",
      "    y_test = model.predict(test,num_iteration=model.best_iteration)\n",
      "    y_test = [np.argmax(x) for x in y_test]\n",
      "    if index == 0:\n",
      "        cv_pred = np.array(y_test).reshape(-1, 1)\n",
      "    else:\n",
      "        cv_pred = np.hstack((cv_pred, np.array(y_test).reshape(-1, 1)))\n",
      "        \n",
      "submit = []\n",
      "for line in cv_pred:\n",
      "    submit.append(np.argmax(np.bincount(line)))\n",
      "df = pd.DataFrame({'id':uid.as_matrix(),'label':submit})\n",
      "df.to_csv('submission.csv',index=False)\n",
      "age_train['age_group'].nunique()\n",
      "history\n"
     ]
    }
   ],
   "source": [
    "history"
   ]
  },
  {
   "cell_type": "code",
   "execution_count": null,
   "metadata": {},
   "outputs": [],
   "source": []
  },
  {
   "cell_type": "code",
   "execution_count": null,
   "metadata": {},
   "outputs": [],
   "source": []
  },
  {
   "cell_type": "code",
   "execution_count": null,
   "metadata": {},
   "outputs": [],
   "source": []
  },
  {
   "cell_type": "code",
   "execution_count": null,
   "metadata": {},
   "outputs": [],
   "source": []
  },
  {
   "cell_type": "code",
   "execution_count": null,
   "metadata": {},
   "outputs": [],
   "source": []
  },
  {
   "cell_type": "code",
   "execution_count": null,
   "metadata": {},
   "outputs": [],
   "source": []
  }
 ],
 "metadata": {
  "kernelspec": {
   "display_name": "Python 3",
   "language": "python",
   "name": "python3"
  },
  "language_info": {
   "codemirror_mode": {
    "name": "ipython",
    "version": 3
   },
   "file_extension": ".py",
   "mimetype": "text/x-python",
   "name": "python",
   "nbconvert_exporter": "python",
   "pygments_lexer": "ipython3",
   "version": "3.7.3"
  }
 },
 "nbformat": 4,
 "nbformat_minor": 2
}
